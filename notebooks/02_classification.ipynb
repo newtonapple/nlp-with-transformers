{
 "cells": [
  {
   "cell_type": "markdown",
   "id": "9a505b27",
   "metadata": {},
   "source": [
    "## Hugging Face Hub Dataset\n",
    "- [Github](https://github.com/huggingface/datasets)\n",
    "- [Hugging Face Datasets Documentation](https://github.com/huggingface/datasets)\n",
    "- [Hugging Face Datasets](https://huggingface.co/datasets)"
   ]
  },
  {
   "cell_type": "code",
   "execution_count": 17,
   "id": "eeb4d183",
   "metadata": {},
   "outputs": [],
   "source": [
    "from datasets import list_datasets\n",
    "all_datasets = list_datasets()"
   ]
  },
  {
   "cell_type": "code",
   "execution_count": 18,
   "id": "b4b9924f",
   "metadata": {},
   "outputs": [
    {
     "name": "stdout",
     "output_type": "stream",
     "text": [
      "There are 43979 datasets available on the Hub.\n",
      "The first 100 are: ['acronym_identification', 'ade_corpus_v2', 'adversarial_qa', 'aeslc', 'afrikaans_ner_corpus', 'ag_news', 'ai2_arc', 'air_dialogue', 'ajgt_twitter_ar', 'allegro_reviews', 'allocine', 'alt', 'amazon_polarity', 'amazon_reviews_multi', 'amazon_us_reviews', 'ambig_qa', 'americas_nli', 'ami', 'amttl', 'anli', 'app_reviews', 'aqua_rat', 'aquamuse', 'ar_cov19', 'ar_res_reviews', 'ar_sarcasm', 'arabic_billion_words', 'arabic_pos_dialect', 'arabic_speech_corpus', 'arcd', 'arsentd_lev', 'art', 'arxiv_dataset', 'ascent_kb', 'aslg_pc12', 'asnq', 'asset', 'assin', 'assin2', 'atomic', 'autshumato', 'facebook/babi_qa', 'banking77', 'bbaw_egyptian', 'bbc_hindi_nli', 'bc2gm_corpus', 'beans', 'best2009', 'bianet', 'bible_para', 'big_patent', 'billsum', 'bing_coronavirus_query_set', 'biomrc', 'biosses', 'blbooks', 'blbooksgenre', 'blended_skill_talk', 'blimp', 'blog_authorship_corpus', 'bn_hate_speech', 'bnl_newspapers', 'bookcorpus', 'bookcorpusopen', 'boolq', 'bprec', 'break_data', 'brwac', 'bsd_ja_en', 'bswac', 'c3', 'c4', 'cail2018', 'caner', 'capes', 'casino', 'catalonia_independence', 'cats_vs_dogs', 'cawac', 'cbt', 'cc100', 'cc_news', 'ccaligned_multilingual', 'cdsc', 'cdt', 'cedr', 'cfq', 'chr_en', 'cifar10', 'cifar100', 'circa', 'civil_comments', 'clickbait_news_bg', 'climate_fever', 'clinc_oos', 'clue', 'cmrc2018', 'cmu_hinglish_dog', 'cnn_dailymail', 'coached_conv_pref']\n"
     ]
    }
   ],
   "source": [
    "print(f\"There are {len(all_datasets)} datasets available on the Hub.\")\n",
    "print(f\"The first 100 are: {all_datasets[:100]}\")"
   ]
  },
  {
   "cell_type": "code",
   "execution_count": 19,
   "id": "bc3a9fda",
   "metadata": {},
   "outputs": [
    {
     "name": "stderr",
     "output_type": "stream",
     "text": [
      "No config specified, defaulting to: emotion/split\n",
      "Found cached dataset emotion (/Users/david/.cache/huggingface/datasets/emotion/split/1.0.0/cca5efe2dfeb58c1d098e0f9eeb200e9927d889b5a03c67097275dfb5fe463bd)\n"
     ]
    },
    {
     "data": {
      "application/vnd.jupyter.widget-view+json": {
       "model_id": "bba16b0386be414a81e43dd21b7a9275",
       "version_major": 2,
       "version_minor": 0
      },
      "text/plain": [
       "  0%|          | 0/3 [00:00<?, ?it/s]"
      ]
     },
     "metadata": {},
     "output_type": "display_data"
    }
   ],
   "source": [
    "from datasets import load_dataset\n",
    "emotions = load_dataset(\"emotion\")"
   ]
  },
  {
   "cell_type": "code",
   "execution_count": 20,
   "id": "25094ed8",
   "metadata": {},
   "outputs": [
    {
     "data": {
      "text/plain": [
       "DatasetDict({\n",
       "    train: Dataset({\n",
       "        features: ['text', 'label'],\n",
       "        num_rows: 16000\n",
       "    })\n",
       "    validation: Dataset({\n",
       "        features: ['text', 'label'],\n",
       "        num_rows: 2000\n",
       "    })\n",
       "    test: Dataset({\n",
       "        features: ['text', 'label'],\n",
       "        num_rows: 2000\n",
       "    })\n",
       "})"
      ]
     },
     "execution_count": 20,
     "metadata": {},
     "output_type": "execute_result"
    }
   ],
   "source": [
    "emotions"
   ]
  },
  {
   "cell_type": "code",
   "execution_count": 21,
   "id": "8336d11f",
   "metadata": {},
   "outputs": [
    {
     "data": {
      "text/plain": [
       "Dataset({\n",
       "    features: ['text', 'label'],\n",
       "    num_rows: 16000\n",
       "})"
      ]
     },
     "execution_count": 21,
     "metadata": {},
     "output_type": "execute_result"
    }
   ],
   "source": [
    "train_ds = emotions[\"train\"]\n",
    "train_ds"
   ]
  },
  {
   "cell_type": "markdown",
   "id": "2e71edcb",
   "metadata": {},
   "source": [
    "The `Dataset` class is one of the core data structures in Hugging Face Datasets. It behaves like a Python array.  It is based on [Apache Arrow](https://arrow.apache.org/) (a memory efficient typed columnar format)."
   ]
  },
  {
   "cell_type": "code",
   "execution_count": 22,
   "id": "c4d232ad",
   "metadata": {},
   "outputs": [
    {
     "data": {
      "text/plain": [
       "16000"
      ]
     },
     "execution_count": 22,
     "metadata": {},
     "output_type": "execute_result"
    }
   ],
   "source": [
    "len(train_ds)"
   ]
  },
  {
   "cell_type": "code",
   "execution_count": 23,
   "id": "fc632275",
   "metadata": {},
   "outputs": [
    {
     "data": {
      "text/plain": [
       "{'text': 'i can go from feeling so hopeless to so damned hopeful just from being around someone who cares and is awake',\n",
       " 'label': 0}"
      ]
     },
     "execution_count": 23,
     "metadata": {},
     "output_type": "execute_result"
    }
   ],
   "source": [
    "train_ds[1]"
   ]
  },
  {
   "cell_type": "code",
   "execution_count": 24,
   "id": "b4b127fd",
   "metadata": {},
   "outputs": [
    {
     "data": {
      "text/plain": [
       "['text', 'label']"
      ]
     },
     "execution_count": 24,
     "metadata": {},
     "output_type": "execute_result"
    }
   ],
   "source": [
    "train_ds.column_names"
   ]
  },
  {
   "cell_type": "code",
   "execution_count": 25,
   "id": "012b72f4",
   "metadata": {},
   "outputs": [
    {
     "data": {
      "text/plain": [
       "{'text': Value(dtype='string', id=None),\n",
       " 'label': ClassLabel(names=['sadness', 'joy', 'love', 'anger', 'fear', 'surprise'], id=None)}"
      ]
     },
     "execution_count": 25,
     "metadata": {},
     "output_type": "execute_result"
    }
   ],
   "source": [
    "train_ds.features"
   ]
  },
  {
   "cell_type": "code",
   "execution_count": 26,
   "id": "007255cf",
   "metadata": {
    "scrolled": true
   },
   "outputs": [
    {
     "data": {
      "text/plain": [
       "{'text': ['i didnt feel humiliated',\n",
       "  'i can go from feeling so hopeless to so damned hopeful just from being around someone who cares and is awake',\n",
       "  'im grabbing a minute to post i feel greedy wrong',\n",
       "  'i am ever feeling nostalgic about the fireplace i will know that it is still on the property',\n",
       "  'i am feeling grouchy',\n",
       "  'ive been feeling a little burdened lately wasnt sure why that was',\n",
       "  'ive been taking or milligrams or times recommended amount and ive fallen asleep a lot faster but i also feel like so funny',\n",
       "  'i feel as confused about life as a teenager or as jaded as a year old man',\n",
       "  'i have been with petronas for years i feel that petronas has performed well and made a huge profit',\n",
       "  'i feel romantic too'],\n",
       " 'label': [0, 0, 3, 2, 3, 0, 5, 4, 1, 2]}"
      ]
     },
     "execution_count": 26,
     "metadata": {},
     "output_type": "execute_result"
    }
   ],
   "source": [
    "train_ds[:10]"
   ]
  },
  {
   "cell_type": "markdown",
   "id": "832b285d",
   "metadata": {},
   "source": [
    "note that, the `ds` values are now lists."
   ]
  },
  {
   "cell_type": "code",
   "execution_count": 27,
   "id": "1e189182",
   "metadata": {
    "scrolled": true
   },
   "outputs": [
    {
     "data": {
      "text/plain": [
       "['i didnt feel humiliated',\n",
       " 'i can go from feeling so hopeless to so damned hopeful just from being around someone who cares and is awake',\n",
       " 'im grabbing a minute to post i feel greedy wrong',\n",
       " 'i am ever feeling nostalgic about the fireplace i will know that it is still on the property',\n",
       " 'i am feeling grouchy']"
      ]
     },
     "execution_count": 27,
     "metadata": {},
     "output_type": "execute_result"
    }
   ],
   "source": [
    "train_ds[\"text\"][:5]"
   ]
  },
  {
   "cell_type": "markdown",
   "id": "8f64a728",
   "metadata": {},
   "source": [
    "### Alternative ways to load datasets"
   ]
  },
  {
   "cell_type": "code",
   "execution_count": 28,
   "id": "c08414f9",
   "metadata": {},
   "outputs": [
    {
     "data": {
      "text/html": [
       "<style>\n",
       "    table { display: inline-block; }\n",
       "    .rendered_html tr, .rendered_html th, .rendered_html td { text-align: left; }\n",
       "</style>\n"
      ],
      "text/plain": [
       "<IPython.core.display.HTML object>"
      ]
     },
     "metadata": {},
     "output_type": "display_data"
    }
   ],
   "source": [
    "%%html\n",
    "<style>\n",
    "    table { display: inline-block; }\n",
    "    .rendered_html tr, .rendered_html th, .rendered_html td { text-align: left; }\n",
    "</style>"
   ]
  },
  {
   "cell_type": "markdown",
   "id": "aaa89d39",
   "metadata": {},
   "source": [
    "\n",
    "### How to load datasets in various formats not on Hugging Face Hub\n",
    "\n",
    "\n",
    "| Data format | Loading script | Example                                             |\n",
    "| ----------- | -------------- | --------------------------------------------------- |\n",
    "| CSV         | csv            |  `load_dataset(\"csv\", data_files=\"my_file.csv\")`    |\n",
    "| Text        | text           |  `load_dataset(\"text\", data_files=\"my_file.txt\")`   |\n",
    "| JSON        | json           |  `load_dataset(\"json\", data_files=\"my_file.jsonl\")` |\n"
   ]
  },
  {
   "cell_type": "code",
   "execution_count": 29,
   "id": "e6ad19fb",
   "metadata": {},
   "outputs": [
    {
     "name": "stdout",
     "output_type": "stream",
     "text": [
      "--2023-06-20 22:45:24--  https://huggingface.co/datasets/transformersbook/emotion-train-split/raw/main/train.txt\n",
      "Resolving huggingface.co (huggingface.co)... 13.227.74.83, 13.227.74.46, 13.227.74.43, ...\n",
      "Connecting to huggingface.co (huggingface.co)|13.227.74.83|:443... connected.\n",
      "HTTP request sent, awaiting response... 200 OK\n",
      "Length: 1658616 (1.6M) [text/plain]\n",
      "Saving to: ‘train.txt.3’\n",
      "\n",
      "train.txt.3         100%[===================>]   1.58M  6.37MB/s    in 0.2s    \n",
      "\n",
      "2023-06-20 22:45:24 (6.37 MB/s) - ‘train.txt.3’ saved [1658616/1658616]\n",
      "\n"
     ]
    }
   ],
   "source": [
    "#hide_output\n",
    "dataset_url = \"https://huggingface.co/datasets/transformersbook/emotion-train-split/raw/main/train.txt\"\n",
    "!wget {dataset_url}"
   ]
  },
  {
   "cell_type": "code",
   "execution_count": 30,
   "id": "7539087f",
   "metadata": {},
   "outputs": [
    {
     "name": "stderr",
     "output_type": "stream",
     "text": [
      "Found cached dataset csv (/Users/david/.cache/huggingface/datasets/csv/default-1b8122bba3674c7e/0.0.0/6954658bab30a358235fa864b05cf819af0e179325c740e4bc853bcc7ec513e1)\n"
     ]
    },
    {
     "data": {
      "application/vnd.jupyter.widget-view+json": {
       "model_id": "bda9bc1ab61b4b998575f322b36d08c6",
       "version_major": 2,
       "version_minor": 0
      },
      "text/plain": [
       "  0%|          | 0/1 [00:00<?, ?it/s]"
      ]
     },
     "metadata": {},
     "output_type": "display_data"
    }
   ],
   "source": [
    "emotions_local = load_dataset(\"csv\", data_files=\"train.txt\", sep=\";\", names=[\"text\", \"label\"])"
   ]
  },
  {
   "cell_type": "code",
   "execution_count": 31,
   "id": "3a5367fc",
   "metadata": {},
   "outputs": [
    {
     "data": {
      "text/plain": [
       "DatasetDict({\n",
       "    train: Dataset({\n",
       "        features: ['text', 'label'],\n",
       "        num_rows: 16000\n",
       "    })\n",
       "})"
      ]
     },
     "execution_count": 31,
     "metadata": {},
     "output_type": "execute_result"
    }
   ],
   "source": [
    "emotions_local"
   ]
  },
  {
   "cell_type": "code",
   "execution_count": 32,
   "id": "61ccd1f0",
   "metadata": {},
   "outputs": [
    {
     "name": "stderr",
     "output_type": "stream",
     "text": [
      "Found cached dataset csv (/Users/david/.cache/huggingface/datasets/csv/default-77d91d09868a1841/0.0.0/6954658bab30a358235fa864b05cf819af0e179325c740e4bc853bcc7ec513e1)\n"
     ]
    },
    {
     "data": {
      "application/vnd.jupyter.widget-view+json": {
       "model_id": "ee1ed0f1ce694ca6946c59776af26dc1",
       "version_major": 2,
       "version_minor": 0
      },
      "text/plain": [
       "  0%|          | 0/1 [00:00<?, ?it/s]"
      ]
     },
     "metadata": {},
     "output_type": "display_data"
    }
   ],
   "source": [
    "dataset_url = \"https://huggingface.co/datasets/transformersbook/emotion-train-split/raw/main/train.txt\"\n",
    "emotions_remote = load_dataset(\"csv\", data_files=dataset_url, sep=\";\", names=[\"text\", \"label\"])"
   ]
  },
  {
   "cell_type": "code",
   "execution_count": 33,
   "id": "9cdb1378",
   "metadata": {},
   "outputs": [
    {
     "data": {
      "text/plain": [
       "DatasetDict({\n",
       "    train: Dataset({\n",
       "        features: ['text', 'label'],\n",
       "        num_rows: 16000\n",
       "    })\n",
       "})"
      ]
     },
     "execution_count": 33,
     "metadata": {},
     "output_type": "execute_result"
    }
   ],
   "source": [
    "emotions_remote"
   ]
  },
  {
   "cell_type": "markdown",
   "id": "91c4a710",
   "metadata": {},
   "source": [
    "## From Datrasets to DataFrames"
   ]
  },
  {
   "cell_type": "code",
   "execution_count": 34,
   "id": "a2b691d3",
   "metadata": {},
   "outputs": [],
   "source": [
    "import pandas as pd"
   ]
  },
  {
   "cell_type": "code",
   "execution_count": 35,
   "id": "d015e76e",
   "metadata": {},
   "outputs": [
    {
     "data": {
      "text/html": [
       "<div>\n",
       "<style scoped>\n",
       "    .dataframe tbody tr th:only-of-type {\n",
       "        vertical-align: middle;\n",
       "    }\n",
       "\n",
       "    .dataframe tbody tr th {\n",
       "        vertical-align: top;\n",
       "    }\n",
       "\n",
       "    .dataframe thead th {\n",
       "        text-align: right;\n",
       "    }\n",
       "</style>\n",
       "<table border=\"1\" class=\"dataframe\">\n",
       "  <thead>\n",
       "    <tr style=\"text-align: right;\">\n",
       "      <th></th>\n",
       "      <th>text</th>\n",
       "      <th>label</th>\n",
       "    </tr>\n",
       "  </thead>\n",
       "  <tbody>\n",
       "    <tr>\n",
       "      <th>0</th>\n",
       "      <td>i didnt feel humiliated</td>\n",
       "      <td>0</td>\n",
       "    </tr>\n",
       "    <tr>\n",
       "      <th>1</th>\n",
       "      <td>i can go from feeling so hopeless to so damned...</td>\n",
       "      <td>0</td>\n",
       "    </tr>\n",
       "    <tr>\n",
       "      <th>2</th>\n",
       "      <td>im grabbing a minute to post i feel greedy wrong</td>\n",
       "      <td>3</td>\n",
       "    </tr>\n",
       "    <tr>\n",
       "      <th>3</th>\n",
       "      <td>i am ever feeling nostalgic about the fireplac...</td>\n",
       "      <td>2</td>\n",
       "    </tr>\n",
       "    <tr>\n",
       "      <th>4</th>\n",
       "      <td>i am feeling grouchy</td>\n",
       "      <td>3</td>\n",
       "    </tr>\n",
       "  </tbody>\n",
       "</table>\n",
       "</div>"
      ],
      "text/plain": [
       "                                                text  label\n",
       "0                            i didnt feel humiliated      0\n",
       "1  i can go from feeling so hopeless to so damned...      0\n",
       "2   im grabbing a minute to post i feel greedy wrong      3\n",
       "3  i am ever feeling nostalgic about the fireplac...      2\n",
       "4                               i am feeling grouchy      3"
      ]
     },
     "execution_count": 35,
     "metadata": {},
     "output_type": "execute_result"
    }
   ],
   "source": [
    "emotions.set_format(type=\"pandas\")\n",
    "df = emotions[\"train\"][:]\n",
    "df.head()"
   ]
  },
  {
   "cell_type": "code",
   "execution_count": 36,
   "id": "cc95dae4",
   "metadata": {},
   "outputs": [
    {
     "data": {
      "text/html": [
       "<div>\n",
       "<style scoped>\n",
       "    .dataframe tbody tr th:only-of-type {\n",
       "        vertical-align: middle;\n",
       "    }\n",
       "\n",
       "    .dataframe tbody tr th {\n",
       "        vertical-align: top;\n",
       "    }\n",
       "\n",
       "    .dataframe thead th {\n",
       "        text-align: right;\n",
       "    }\n",
       "</style>\n",
       "<table border=\"1\" class=\"dataframe\">\n",
       "  <thead>\n",
       "    <tr style=\"text-align: right;\">\n",
       "      <th></th>\n",
       "      <th>text</th>\n",
       "      <th>label</th>\n",
       "      <th>label_name</th>\n",
       "    </tr>\n",
       "  </thead>\n",
       "  <tbody>\n",
       "    <tr>\n",
       "      <th>0</th>\n",
       "      <td>i didnt feel humiliated</td>\n",
       "      <td>0</td>\n",
       "      <td>sadness</td>\n",
       "    </tr>\n",
       "    <tr>\n",
       "      <th>1</th>\n",
       "      <td>i can go from feeling so hopeless to so damned...</td>\n",
       "      <td>0</td>\n",
       "      <td>sadness</td>\n",
       "    </tr>\n",
       "    <tr>\n",
       "      <th>2</th>\n",
       "      <td>im grabbing a minute to post i feel greedy wrong</td>\n",
       "      <td>3</td>\n",
       "      <td>anger</td>\n",
       "    </tr>\n",
       "    <tr>\n",
       "      <th>3</th>\n",
       "      <td>i am ever feeling nostalgic about the fireplac...</td>\n",
       "      <td>2</td>\n",
       "      <td>love</td>\n",
       "    </tr>\n",
       "    <tr>\n",
       "      <th>4</th>\n",
       "      <td>i am feeling grouchy</td>\n",
       "      <td>3</td>\n",
       "      <td>anger</td>\n",
       "    </tr>\n",
       "  </tbody>\n",
       "</table>\n",
       "</div>"
      ],
      "text/plain": [
       "                                                text  label label_name\n",
       "0                            i didnt feel humiliated      0    sadness\n",
       "1  i can go from feeling so hopeless to so damned...      0    sadness\n",
       "2   im grabbing a minute to post i feel greedy wrong      3      anger\n",
       "3  i am ever feeling nostalgic about the fireplac...      2       love\n",
       "4                               i am feeling grouchy      3      anger"
      ]
     },
     "execution_count": 36,
     "metadata": {},
     "output_type": "execute_result"
    }
   ],
   "source": [
    "def label_int2str(row):\n",
    "    return emotions[\"train\"].features[\"label\"].int2str(row)\n",
    "\n",
    "df[\"label_name\"] = df[\"label\"].apply(label_int2str)\n",
    "df.head()"
   ]
  },
  {
   "cell_type": "markdown",
   "id": "f7716b42",
   "metadata": {},
   "source": [
    "## Take a Closer Look at the Data"
   ]
  },
  {
   "cell_type": "markdown",
   "id": "db81ca79",
   "metadata": {},
   "source": [
    "Whenever we are working a text classificatio problem, it's important to look at distribution across the classes.  Datasets with skewed class distributions might need different treatments for evaluation metrics compared to balanced ones. "
   ]
  },
  {
   "cell_type": "code",
   "execution_count": 37,
   "id": "df6d7432",
   "metadata": {},
   "outputs": [
    {
     "data": {
      "text/plain": [
       "Text(0.5, 1.0, 'frequency of labels')"
      ]
     },
     "execution_count": 37,
     "metadata": {},
     "output_type": "execute_result"
    },
    {
     "data": {
      "image/png": "[encoded data removed]",
      "text/plain": [
       "<Figure size 640x480 with 1 Axes>"
      ]
     },
     "metadata": {},
     "output_type": "display_data"
    }
   ],
   "source": [
    "import matplotlib.pyplot as plt\n",
    "\n",
    "df[\"label_name\"].value_counts(ascending=True).plot.barh()\n",
    "plt.title(\"frequency of labels\")"
   ]
  },
  {
   "cell_type": "markdown",
   "id": "42c0b659",
   "metadata": {},
   "source": [
    "`joy` and `sadness` are heavily skewed."
   ]
  },
  {
   "cell_type": "markdown",
   "id": "33478fd9",
   "metadata": {},
   "source": [
    "### some ways to deal with imbalanced data:\n",
    "- randomly oversample the minority class.\n",
    "- randomly undersample the majority class.\n",
    "- gather more labeled data from the underrepresented classes.\n",
    "\n",
    "[scikit-learn imblearn library](https://imbalanced-learn.org/stable/)\n",
    "\n",
    "Make sure you **don't** apply sampling methods **before** creating your train/test splits, or you'll get leakage between them. "
   ]
  },
  {
   "cell_type": "markdown",
   "id": "515dabde",
   "metadata": {},
   "source": [
    "### the distribution of the lengths of the tweets:"
   ]
  },
  {
   "cell_type": "markdown",
   "id": "0009ab9e",
   "metadata": {},
   "source": [
    "Transformer models have a max input sequence length (_maximum context size_). For *DistilBERT*, the _maxiumum context size_ is 512 tokens (a few paragraphs of text). Texts that are longer than a model's context size need to be truncated, which can lead to a loss in performance if the truncated text contains crucial information."
   ]
  },
  {
   "cell_type": "code",
   "execution_count": 38,
   "id": "bc9015e7",
   "metadata": {},
   "outputs": [
    {
     "data": {
      "image/png": "[encoded data removed]",
      "text/plain": [
       "<Figure size 640x480 with 1 Axes>"
      ]
     },
     "metadata": {},
     "output_type": "display_data"
    }
   ],
   "source": [
    "df[\"words per tweet\"] = df[\"text\"].str.split().apply(len)\n",
    "df.boxplot(\"words per tweet\", by=\"label_name\", grid=False, showfliers=False, color=\"black\")\n",
    "plt.suptitle(\"\")\n",
    "plt.xlabel(\"\")\n",
    "plt.show()"
   ]
  },
  {
   "cell_type": "code",
   "execution_count": 39,
   "id": "3a5a8331",
   "metadata": {},
   "outputs": [],
   "source": [
    "emotions.reset_format()"
   ]
  },
  {
   "cell_type": "markdown",
   "id": "2087250a",
   "metadata": {},
   "source": [
    "## Text Tokenization"
   ]
  },
  {
   "cell_type": "markdown",
   "id": "98c1b58e",
   "metadata": {},
   "source": [
    "Transformer models cannot receive raw strings as iniput; instead, they assume text has been *tokenized* and *encoded* as numerical vectors. There are serveral tokenization strategies, and the optimal splitting of words into subunits is usually learned from the corpus."
   ]
  },
  {
   "cell_type": "markdown",
   "id": "62e3d62e",
   "metadata": {},
   "source": [
    "### Character Tokenization"
   ]
  },
  {
   "cell_type": "code",
   "execution_count": 40,
   "id": "a534e024",
   "metadata": {},
   "outputs": [
    {
     "name": "stdout",
     "output_type": "stream",
     "text": [
      "['T', 'o', 'k', 'e', 'n', 'i', 'z', 'i', 'n', 'g', ' ', 't', 'e', 'x', 't', ' ', 'i', 's', ' ', 'a', ' ', 'c', 'o', 'r', 'e', ' ', 't', 'a', 's', 'k', ' ', 'o', 'f', ' ', 'N', 'L', 'P', '.']\n"
     ]
    }
   ],
   "source": [
    "text = \"Tokenizing text is a core task of NLP.\"\n",
    "tokenized_text = list(text)\n",
    "print(tokenized_text)"
   ]
  },
  {
   "cell_type": "code",
   "execution_count": 41,
   "id": "8debb467",
   "metadata": {},
   "outputs": [
    {
     "data": {
      "text/plain": [
       "38"
      ]
     },
     "execution_count": 41,
     "metadata": {},
     "output_type": "execute_result"
    }
   ],
   "source": [
    "len(tokenized_text)"
   ]
  },
  {
   "cell_type": "code",
   "execution_count": 42,
   "id": "6c8e0a13",
   "metadata": {},
   "outputs": [],
   "source": [
    "def create_token2idx(tokenized_text):\n",
    "    return {ch: idx for idx, ch in enumerate (sorted(set(tokenized_text)))}"
   ]
  },
  {
   "cell_type": "code",
   "execution_count": 43,
   "id": "6bca4c13",
   "metadata": {},
   "outputs": [
    {
     "name": "stdout",
     "output_type": "stream",
     "text": [
      "{' ': 0, '.': 1, 'L': 2, 'N': 3, 'P': 4, 'T': 5, 'a': 6, 'c': 7, 'e': 8, 'f': 9, 'g': 10, 'i': 11, 'k': 12, 'n': 13, 'o': 14, 'r': 15, 's': 16, 't': 17, 'x': 18, 'z': 19}\n"
     ]
    }
   ],
   "source": [
    "token2idx = create_token2idx(tokenized_text)\n",
    "print(token2idx)"
   ]
  },
  {
   "cell_type": "code",
   "execution_count": 44,
   "id": "e8cb59b2",
   "metadata": {},
   "outputs": [],
   "source": [
    "def create_token_ids(tokenized_text, token2idx):\n",
    "    return [token2idx[token] for token in tokenized_text]"
   ]
  },
  {
   "cell_type": "code",
   "execution_count": 45,
   "id": "0fb1fb08",
   "metadata": {},
   "outputs": [
    {
     "name": "stdout",
     "output_type": "stream",
     "text": [
      "[5, 14, 12, 8, 13, 11, 19, 11, 13, 10, 0, 17, 8, 18, 17, 0, 11, 16, 0, 6, 0, 7, 14, 15, 8, 0, 17, 6, 16, 12, 0, 14, 9, 0, 3, 2, 4, 1]\n"
     ]
    }
   ],
   "source": [
    "input_ids = create_token_ids(tokenized_text, token2idx)\n",
    "print(input_ids)"
   ]
  },
  {
   "cell_type": "markdown",
   "id": "c157c719",
   "metadata": {},
   "source": [
    "Each character / token has now been mapped a unique numerical identifier.  Next, we'll need to convert `input_ids` to a 2D tensor of one-hot vectors.  One-hot vectors are frequently used in ML to encode categorical data, which could be ordinal or nominal. \n",
    "\n",
    "For example, suppose we wanted to encode the names of characters in the Transformers TV series. One way to do this would be to map each name to a unique ID, as follows:"
   ]
  },
  {
   "cell_type": "code",
   "execution_count": 46,
   "id": "b18ef01f",
   "metadata": {},
   "outputs": [
    {
     "data": {
      "text/html": [
       "<div>\n",
       "<style scoped>\n",
       "    .dataframe tbody tr th:only-of-type {\n",
       "        vertical-align: middle;\n",
       "    }\n",
       "\n",
       "    .dataframe tbody tr th {\n",
       "        vertical-align: top;\n",
       "    }\n",
       "\n",
       "    .dataframe thead th {\n",
       "        text-align: right;\n",
       "    }\n",
       "</style>\n",
       "<table border=\"1\" class=\"dataframe\">\n",
       "  <thead>\n",
       "    <tr style=\"text-align: right;\">\n",
       "      <th></th>\n",
       "      <th>Name</th>\n",
       "      <th>Label ID</th>\n",
       "    </tr>\n",
       "  </thead>\n",
       "  <tbody>\n",
       "    <tr>\n",
       "      <th>0</th>\n",
       "      <td>Bumblebee</td>\n",
       "      <td>0</td>\n",
       "    </tr>\n",
       "    <tr>\n",
       "      <th>1</th>\n",
       "      <td>Optimus Prime</td>\n",
       "      <td>1</td>\n",
       "    </tr>\n",
       "    <tr>\n",
       "      <th>2</th>\n",
       "      <td>Megatron</td>\n",
       "      <td>2</td>\n",
       "    </tr>\n",
       "  </tbody>\n",
       "</table>\n",
       "</div>"
      ],
      "text/plain": [
       "            Name  Label ID\n",
       "0      Bumblebee         0\n",
       "1  Optimus Prime         1\n",
       "2       Megatron         2"
      ]
     },
     "execution_count": 46,
     "metadata": {},
     "output_type": "execute_result"
    }
   ],
   "source": [
    "categorical_df = pd.DataFrame({\"Name\": [\"Bumblebee\", \"Optimus Prime\", \"Megatron\"], \"Label ID\": [0,1,2]})\n",
    "categorical_df"
   ]
  },
  {
   "cell_type": "markdown",
   "id": "e13e950b",
   "metadata": {},
   "source": [
    "The problem with this approach is tha+it creates a fictitious ordering between the names, and neural networks are really good at learning these kinds of relationships.\n",
    "\n",
    "So instead, we create a new column for each category and assign a `1` where the category is true, and a `0`  otherwise.  Each row of the following table represents a *one-hot* vector, which has a single \"hot\" entry with a `1` and `0`s everywhere else."
   ]
  },
  {
   "cell_type": "code",
   "execution_count": 47,
   "id": "eff787ef",
   "metadata": {},
   "outputs": [
    {
     "data": {
      "text/html": [
       "<div>\n",
       "<style scoped>\n",
       "    .dataframe tbody tr th:only-of-type {\n",
       "        vertical-align: middle;\n",
       "    }\n",
       "\n",
       "    .dataframe tbody tr th {\n",
       "        vertical-align: top;\n",
       "    }\n",
       "\n",
       "    .dataframe thead th {\n",
       "        text-align: right;\n",
       "    }\n",
       "</style>\n",
       "<table border=\"1\" class=\"dataframe\">\n",
       "  <thead>\n",
       "    <tr style=\"text-align: right;\">\n",
       "      <th></th>\n",
       "      <th>Bumblebee</th>\n",
       "      <th>Megatron</th>\n",
       "      <th>Optimus Prime</th>\n",
       "    </tr>\n",
       "  </thead>\n",
       "  <tbody>\n",
       "    <tr>\n",
       "      <th>0</th>\n",
       "      <td>1</td>\n",
       "      <td>0</td>\n",
       "      <td>0</td>\n",
       "    </tr>\n",
       "    <tr>\n",
       "      <th>1</th>\n",
       "      <td>0</td>\n",
       "      <td>0</td>\n",
       "      <td>1</td>\n",
       "    </tr>\n",
       "    <tr>\n",
       "      <th>2</th>\n",
       "      <td>0</td>\n",
       "      <td>1</td>\n",
       "      <td>0</td>\n",
       "    </tr>\n",
       "  </tbody>\n",
       "</table>\n",
       "</div>"
      ],
      "text/plain": [
       "   Bumblebee  Megatron  Optimus Prime\n",
       "0          1         0              0\n",
       "1          0         0              1\n",
       "2          0         1              0"
      ]
     },
     "execution_count": 47,
     "metadata": {},
     "output_type": "execute_result"
    }
   ],
   "source": [
    "pd.get_dummies(categorical_df[\"Name\"], dtype=int)"
   ]
  },
  {
   "cell_type": "markdown",
   "id": "b26bfb0b",
   "metadata": {},
   "source": [
    "Note that `input_ids` have a similar problem: the elements create an ordinal scale. So, adding or subtracting two IDs is a meaningless operation, since the result is a new ID that represents another random token.\n",
    "\n",
    "On the other hand, the result of adding two one-hot encodings can easily be interpreted: two entries that are \"hot\" indicate the corresponding tokens co-occur."
   ]
  },
  {
   "cell_type": "code",
   "execution_count": 48,
   "id": "e45f6c22",
   "metadata": {},
   "outputs": [],
   "source": [
    "import torch\n",
    "import torch.nn.functional as F"
   ]
  },
  {
   "cell_type": "code",
   "execution_count": 49,
   "id": "ca30cfb1",
   "metadata": {},
   "outputs": [
    {
     "data": {
      "text/plain": [
       "torch.Size([38, 20])"
      ]
     },
     "execution_count": 49,
     "metadata": {},
     "output_type": "execute_result"
    }
   ],
   "source": [
    "input_ids_tensor = torch.tensor(input_ids)\n",
    "one_hot_encodings = F.one_hot(input_ids_tensor, num_classes=len(token2idx))\n",
    "one_hot_encodings.shape"
   ]
  },
  {
   "cell_type": "markdown",
   "id": "964eea53",
   "metadata": {},
   "source": [
    "Each of the `38` tokens in the sentence now has a one-hot vector with `20` dimensions since our vocablulary consists of `20` unique characters."
   ]
  },
  {
   "cell_type": "markdown",
   "id": "43eb0f6a",
   "metadata": {},
   "source": [
    "Note: it's important to **always** set `num_classes` in the `one_hot()` function because otherwise the one-hot vectors may endup being shorter than the length of the vocabulary (and need to be padded with `0`s manually). In _TensorFlow_, the equivalent function is `tf.one_hot()`, where the `depth` argument is equivalent to `num_classes`. "
   ]
  },
  {
   "cell_type": "code",
   "execution_count": 50,
   "id": "4da6c8ce",
   "metadata": {},
   "outputs": [
    {
     "name": "stdout",
     "output_type": "stream",
     "text": [
      "Token: T\n",
      "Tensor: 5\n",
      "one-hot: tensor([0, 0, 0, 0, 0, 1, 0, 0, 0, 0, 0, 0, 0, 0, 0, 0, 0, 0, 0, 0])\n"
     ]
    }
   ],
   "source": [
    "print(f\"Token: {tokenized_text[0]}\")\n",
    "print(f\"Tensor: {input_ids_tensor[0]}\")\n",
    "print(f\"one-hot: {one_hot_encodings[0]}\")"
   ]
  },
  {
   "cell_type": "markdown",
   "id": "5fd361bc",
   "metadata": {},
   "source": [
    "Character-level tokenization ignores any structure in the text and treats the whole string as a stream of characters. This helps with misspellings and rare words, it still **needs to learn the linguistic structures** such as words from the data.  To learn these structures, it'll require significant more compute, memory, and data. For this reason, character tokenization is rarely used in practice.  Instead, some strucrture of the text is preserved during the tokenization step, e.g. _word tokenization_."
   ]
  },
  {
   "cell_type": "markdown",
   "id": "9fa07297",
   "metadata": {},
   "source": [
    "### Word Tokenization"
   ]
  },
  {
   "cell_type": "code",
   "execution_count": 51,
   "id": "34337bdc",
   "metadata": {},
   "outputs": [
    {
     "name": "stdout",
     "output_type": "stream",
     "text": [
      "['Tokenizing', 'text', 'is', 'a', 'core', 'task', 'of', 'NLP.']\n"
     ]
    }
   ],
   "source": [
    "tokenized_text_by_word = text.split()\n",
    "print(tokenized_text_by_word)"
   ]
  },
  {
   "cell_type": "code",
   "execution_count": 52,
   "id": "90203b31",
   "metadata": {},
   "outputs": [
    {
     "name": "stdout",
     "output_type": "stream",
     "text": [
      "{'NLP.': 0, 'Tokenizing': 1, 'a': 2, 'core': 3, 'is': 4, 'of': 5, 'task': 6, 'text': 7}\n",
      "[1, 7, 4, 2, 3, 6, 5, 0]\n"
     ]
    }
   ],
   "source": [
    "word2idx = create_token2idx(tokenized_text_by_word)\n",
    "input_word_ids = create_token_ids(tokenized_text_by_word, word2idx)\n",
    "print(word2idx)\n",
    "print(input_word_ids)"
   ]
  },
  {
   "cell_type": "code",
   "execution_count": 53,
   "id": "a1a87bad",
   "metadata": {},
   "outputs": [
    {
     "data": {
      "text/plain": [
       "torch.Size([8, 8])"
      ]
     },
     "execution_count": 53,
     "metadata": {},
     "output_type": "execute_result"
    }
   ],
   "source": [
    "input_word_ids_tensor = torch.tensor(input_word_ids)\n",
    "one_hot_word_encodings = F.one_hot(input_word_ids_tensor, num_classes=len(word2idx))\n",
    "one_hot_word_encodings.shape"
   ]
  },
  {
   "cell_type": "code",
   "execution_count": 54,
   "id": "19421595",
   "metadata": {},
   "outputs": [
    {
     "name": "stdout",
     "output_type": "stream",
     "text": [
      "Token: Tokenizing\n",
      "Tensor: 1\n",
      "one-hot: tensor([0, 1, 0, 0, 0, 0, 0, 0])\n"
     ]
    }
   ],
   "source": [
    "print(f\"Token: {tokenized_text_by_word[0]}\")\n",
    "print(f\"Tensor: {input_word_ids_tensor[0]}\")\n",
    "print(f\"one-hot: {one_hot_word_encodings[0]}\")"
   ]
  },
  {
   "cell_type": "markdown",
   "id": "d3a90277",
   "metadata": {},
   "source": [
    "note: usually stemming and lmmatization is applied to words to normalize the token, e.g. \"great\", \"greater\", \"greatest\" all become just \"great\".  This is at the expense of losing some information in the text."
   ]
  },
  {
   "cell_type": "markdown",
   "id": "cde27fc6",
   "metadata": {},
   "source": [
    "Using words as tokens has a major draw back: the vocabulary can get extremely large (millions of input parameters).  A common way to tackle this problem is to limit the vocabulary to a set of most common words (say 100,000), and all otehr words are classifed / mapped to an unknown token (`UNK`).  This is means that we could potentially lose some important information since the model has no information about words assocated with `UNK`. "
   ]
  },
  {
   "cell_type": "markdown",
   "id": "5f23145e",
   "metadata": {},
   "source": [
    "### Subword Tokenization"
   ]
  },
  {
   "cell_type": "code",
   "execution_count": 55,
   "id": "ec6a6e29",
   "metadata": {},
   "outputs": [],
   "source": [
    "from transformers import AutoTokenizer\n",
    "model_ckpt = \"distilbert-base-uncased\"\n",
    "tokenizer = AutoTokenizer.from_pretrained(model_ckpt)"
   ]
  },
  {
   "cell_type": "markdown",
   "id": "f10a8d17",
   "metadata": {},
   "source": [
    "`AutoTokenizer` belongs to a [set of \"auto\" classes](https://huggingface.co/docs/transformers/model_doc/auto) whose job is to automatically retrieve the model's configuration, pretrained weights, or vocabulary from the name of the checkpoint. \n",
    "\n",
    "Alternatively, we can explicitly use `DistillBERT`'s tokenizer class manually:"
   ]
  },
  {
   "cell_type": "code",
   "execution_count": 56,
   "id": "5da7bdfe",
   "metadata": {},
   "outputs": [],
   "source": [
    "from transformers import DistilBertTokenizer\n",
    "distilbert_tokenizer = DistilBertTokenizer.from_pretrained(model_ckpt)"
   ]
  },
  {
   "cell_type": "code",
   "execution_count": 57,
   "id": "c11cdb9d",
   "metadata": {},
   "outputs": [
    {
     "data": {
      "text/plain": [
       "{'input_ids': [101, 19204, 6026, 3793, 2003, 1037, 4563, 4708, 1997, 17953, 2361, 1012, 102], 'attention_mask': [1, 1, 1, 1, 1, 1, 1, 1, 1, 1, 1, 1, 1]}"
      ]
     },
     "execution_count": 57,
     "metadata": {},
     "output_type": "execute_result"
    }
   ],
   "source": [
    "encoded_text = tokenizer(text)\n",
    "encoded_text"
   ]
  },
  {
   "cell_type": "code",
   "execution_count": 58,
   "id": "fce55160",
   "metadata": {},
   "outputs": [
    {
     "name": "stdout",
     "output_type": "stream",
     "text": [
      "['[CLS]', 'token', '##izing', 'text', 'is', 'a', 'core', 'task', 'of', 'nl', '##p', '.', '[SEP]']\n"
     ]
    }
   ],
   "source": [
    "tokens = tokenizer.convert_ids_to_tokens(encoded_text.input_ids)\n",
    "print(tokens)"
   ]
  },
  {
   "cell_type": "markdown",
   "id": "c1309716",
   "metadata": {},
   "source": [
    "#### Note:"
   ]
  },
  {
   "cell_type": "markdown",
   "id": "bdbea860",
   "metadata": {},
   "source": [
    "- `[CLS]` & `[SEP]` are tokens to mark the start and end of a sequence.\n",
    "- all words have been lower-cased, which is a feature of this particular checkpoint.\n",
    "- \"tokenizing\" & \"NLP\" have been split into two tokens with `##` prefix to denote uncommon words.\n",
    "  - `##` means the precediing string is not whitespace; any token with this prefix should be merged with the previous token when converting them back a string."
   ]
  },
  {
   "cell_type": "markdown",
   "id": "617ff713",
   "metadata": {},
   "source": [
    "print(tokenizer.convert_tokens_to_string(tokens))"
   ]
  },
  {
   "cell_type": "code",
   "execution_count": 59,
   "id": "c258299f",
   "metadata": {},
   "outputs": [
    {
     "data": {
      "text/plain": [
       "30522"
      ]
     },
     "execution_count": 59,
     "metadata": {},
     "output_type": "execute_result"
    }
   ],
   "source": [
    "tokenizer.vocab_size"
   ]
  },
  {
   "cell_type": "code",
   "execution_count": 60,
   "id": "5628a3c2",
   "metadata": {},
   "outputs": [
    {
     "data": {
      "text/plain": [
       "512"
      ]
     },
     "execution_count": 60,
     "metadata": {},
     "output_type": "execute_result"
    }
   ],
   "source": [
    "tokenizer.model_max_length"
   ]
  },
  {
   "cell_type": "code",
   "execution_count": 61,
   "id": "6f341773",
   "metadata": {},
   "outputs": [
    {
     "data": {
      "text/plain": [
       "['input_ids', 'attention_mask']"
      ]
     },
     "execution_count": 61,
     "metadata": {},
     "output_type": "execute_result"
    }
   ],
   "source": [
    "tokenizer.model_input_names # input names the model expects int its forward pass"
   ]
  },
  {
   "cell_type": "markdown",
   "id": "3decdbdc",
   "metadata": {},
   "source": [
    "> warning: When using pretrained models, it is really important to make sure that you use the same tokenizer that the model was trained with. From the model's perspective, switching the tokenizer is like shuffling the vocabulary. If everyone around you started swapping random words like \"house\" for \"cat,\" you'd have a hard time understanding what was going on too!"
   ]
  },
  {
   "cell_type": "markdown",
   "id": "b1ce1710",
   "metadata": {},
   "source": [
    "### Tokenizing the Whole Dataset"
   ]
  },
  {
   "cell_type": "code",
   "execution_count": 62,
   "id": "ee423b05",
   "metadata": {},
   "outputs": [],
   "source": [
    "def tokenize(batch):\n",
    "    return tokenizer(batch[\"text\"], padding=True, truncation=True)"
   ]
  },
  {
   "cell_type": "code",
   "execution_count": 63,
   "id": "be32d4ed",
   "metadata": {},
   "outputs": [
    {
     "name": "stdout",
     "output_type": "stream",
     "text": [
      "{'input_ids': [[101, 1045, 2134, 2102, 2514, 26608, 102, 0, 0, 0, 0, 0, 0, 0, 0, 0, 0, 0, 0, 0, 0, 0, 0], [101, 1045, 2064, 2175, 2013, 3110, 2061, 20625, 2000, 2061, 9636, 17772, 2074, 2013, 2108, 2105, 2619, 2040, 14977, 1998, 2003, 8300, 102]], 'attention_mask': [[1, 1, 1, 1, 1, 1, 1, 0, 0, 0, 0, 0, 0, 0, 0, 0, 0, 0, 0, 0, 0, 0, 0], [1, 1, 1, 1, 1, 1, 1, 1, 1, 1, 1, 1, 1, 1, 1, 1, 1, 1, 1, 1, 1, 1, 1]]}\n"
     ]
    }
   ],
   "source": [
    "print(tokenize(emotions[\"train\"][:2]))"
   ]
  },
  {
   "cell_type": "markdown",
   "id": "177bfaa6",
   "metadata": {},
   "source": [
    "- `padding=True` will pad the training data with `0`s to the size of the longest one in a batch.\n",
    "- `truncation=True` will trucnate the training examples to the model's _maximum context size_."
   ]
  },
  {
   "cell_type": "code",
   "execution_count": 64,
   "id": "d632f824",
   "metadata": {},
   "outputs": [
    {
     "data": {
      "text/html": [
       "<div>\n",
       "<style scoped>\n",
       "    .dataframe tbody tr th:only-of-type {\n",
       "        vertical-align: middle;\n",
       "    }\n",
       "\n",
       "    .dataframe tbody tr th {\n",
       "        vertical-align: top;\n",
       "    }\n",
       "\n",
       "    .dataframe thead th {\n",
       "        text-align: right;\n",
       "    }\n",
       "</style>\n",
       "<table border=\"1\" class=\"dataframe\">\n",
       "  <thead>\n",
       "    <tr style=\"text-align: right;\">\n",
       "      <th></th>\n",
       "      <th>0</th>\n",
       "      <th>1</th>\n",
       "      <th>2</th>\n",
       "      <th>3</th>\n",
       "      <th>4</th>\n",
       "    </tr>\n",
       "  </thead>\n",
       "  <tbody>\n",
       "    <tr>\n",
       "      <th>Special Token</th>\n",
       "      <td>[PAD]</td>\n",
       "      <td>[UNK]</td>\n",
       "      <td>[CLS]</td>\n",
       "      <td>[SEP]</td>\n",
       "      <td>[MASK]</td>\n",
       "    </tr>\n",
       "    <tr>\n",
       "      <th>Special Token ID</th>\n",
       "      <td>0</td>\n",
       "      <td>100</td>\n",
       "      <td>101</td>\n",
       "      <td>102</td>\n",
       "      <td>103</td>\n",
       "    </tr>\n",
       "  </tbody>\n",
       "</table>\n",
       "</div>"
      ],
      "text/plain": [
       "                      0      1      2      3       4\n",
       "Special Token     [PAD]  [UNK]  [CLS]  [SEP]  [MASK]\n",
       "Special Token ID      0    100    101    102     103"
      ]
     },
     "execution_count": 64,
     "metadata": {},
     "output_type": "execute_result"
    }
   ],
   "source": [
    "speical_tokens2ids = list(zip(tokenizer.all_special_tokens, tokenizer.all_special_ids))\n",
    "sorted_speical_tokens2ids = sorted(speical_tokens2ids, key=lambda x : x[-1])\n",
    "df = pd.DataFrame(sorted_speical_tokens2ids, columns=[\"Special Token\", \"Special Token ID\"])\n",
    "df.T"
   ]
  },
  {
   "cell_type": "markdown",
   "id": "f4d242cb",
   "metadata": {},
   "source": [
    "`attention_mask` allows the model to ignore the padded parts of the input."
   ]
  },
  {
   "cell_type": "code",
   "execution_count": 65,
   "id": "f485b837",
   "metadata": {},
   "outputs": [
    {
     "data": {
      "application/vnd.jupyter.widget-view+json": {
       "model_id": "",
       "version_major": 2,
       "version_minor": 0
      },
      "text/plain": [
       "Map:   0%|          | 0/16000 [00:00<?, ? examples/s]"
      ]
     },
     "metadata": {},
     "output_type": "display_data"
    },
    {
     "data": {
      "application/vnd.jupyter.widget-view+json": {
       "model_id": "",
       "version_major": 2,
       "version_minor": 0
      },
      "text/plain": [
       "Map:   0%|          | 0/2000 [00:00<?, ? examples/s]"
      ]
     },
     "metadata": {},
     "output_type": "display_data"
    },
    {
     "data": {
      "application/vnd.jupyter.widget-view+json": {
       "model_id": "",
       "version_major": 2,
       "version_minor": 0
      },
      "text/plain": [
       "Map:   0%|          | 0/2000 [00:00<?, ? examples/s]"
      ]
     },
     "metadata": {},
     "output_type": "display_data"
    }
   ],
   "source": [
    "emotions_encoded = emotions.map(tokenize, batched=True, batch_size=None)"
   ]
  },
  {
   "cell_type": "markdown",
   "id": "f6f35d55",
   "metadata": {},
   "source": [
    "We use `DatasetDict.map()` here apply the processing function for each batch of the training examples and returns a new `DatasetDict` instance.\n",
    "- `batched=True` will encode thw tweets in batches\n",
    "- `batch_size=None` means our `tokenize()` function will be appied on the full dataset as a single batch. \n",
    "\n",
    "This ensure the input tensors and attention masks have ghe same shape globally."
   ]
  },
  {
   "cell_type": "code",
   "execution_count": 66,
   "id": "b652763b",
   "metadata": {},
   "outputs": [
    {
     "data": {
      "text/plain": [
       "DatasetDict({\n",
       "    train: Dataset({\n",
       "        features: ['text', 'label', 'input_ids', 'attention_mask'],\n",
       "        num_rows: 16000\n",
       "    })\n",
       "    validation: Dataset({\n",
       "        features: ['text', 'label', 'input_ids', 'attention_mask'],\n",
       "        num_rows: 2000\n",
       "    })\n",
       "    test: Dataset({\n",
       "        features: ['text', 'label', 'input_ids', 'attention_mask'],\n",
       "        num_rows: 2000\n",
       "    })\n",
       "})"
      ]
     },
     "execution_count": 66,
     "metadata": {},
     "output_type": "execute_result"
    }
   ],
   "source": [
    "emotions_encoded"
   ]
  },
  {
   "cell_type": "code",
   "execution_count": 67,
   "id": "803e7a83",
   "metadata": {},
   "outputs": [
    {
     "data": {
      "text/plain": [
       "{'train': ['text', 'label', 'input_ids', 'attention_mask'],\n",
       " 'validation': ['text', 'label', 'input_ids', 'attention_mask'],\n",
       " 'test': ['text', 'label', 'input_ids', 'attention_mask']}"
      ]
     },
     "execution_count": 67,
     "metadata": {},
     "output_type": "execute_result"
    }
   ],
   "source": [
    "emotions_encoded.column_names"
   ]
  },
  {
   "cell_type": "code",
   "execution_count": 68,
   "id": "395163b2",
   "metadata": {},
   "outputs": [
    {
     "data": {
      "text/plain": [
       "['text', 'label', 'input_ids', 'attention_mask']"
      ]
     },
     "execution_count": 68,
     "metadata": {},
     "output_type": "execute_result"
    }
   ],
   "source": [
    "emotions_encoded[\"train\"].column_names"
   ]
  },
  {
   "cell_type": "code",
   "execution_count": 69,
   "id": "9dbbf54e",
   "metadata": {},
   "outputs": [
    {
     "name": "stdout",
     "output_type": "stream",
     "text": [
      "{'text': 'i didnt feel humiliated', 'label': 0, 'input_ids': [101, 1045, 2134, 2102, 2514, 26608, 102, 0, 0, 0, 0, 0, 0, 0, 0, 0, 0, 0, 0, 0, 0, 0, 0, 0, 0, 0, 0, 0, 0, 0, 0, 0, 0, 0, 0, 0, 0, 0, 0, 0, 0, 0, 0, 0, 0, 0, 0, 0, 0, 0, 0, 0, 0, 0, 0, 0, 0, 0, 0, 0, 0, 0, 0, 0, 0, 0, 0, 0, 0, 0, 0, 0, 0, 0, 0, 0, 0, 0, 0, 0, 0, 0, 0, 0, 0, 0, 0], 'attention_mask': [1, 1, 1, 1, 1, 1, 1, 0, 0, 0, 0, 0, 0, 0, 0, 0, 0, 0, 0, 0, 0, 0, 0, 0, 0, 0, 0, 0, 0, 0, 0, 0, 0, 0, 0, 0, 0, 0, 0, 0, 0, 0, 0, 0, 0, 0, 0, 0, 0, 0, 0, 0, 0, 0, 0, 0, 0, 0, 0, 0, 0, 0, 0, 0, 0, 0, 0, 0, 0, 0, 0, 0, 0, 0, 0, 0, 0, 0, 0, 0, 0, 0, 0, 0, 0, 0, 0]}\n"
     ]
    }
   ],
   "source": [
    "print(emotions_encoded['train'][0])"
   ]
  },
  {
   "cell_type": "markdown",
   "id": "62f6c41a",
   "metadata": {},
   "source": [
    "## Training a Text Classifer"
   ]
  },
  {
   "cell_type": "markdown",
   "id": "86169066",
   "metadata": {},
   "source": [
    "Models like `DistilBERT` are pretrained to predict masked words in a sequence of text.  We can't just use them for text classification.  We need to modify thme slightly."
   ]
  },
  {
   "cell_type": "markdown",
   "id": "ca580759",
   "metadata": {},
   "source": [
    "### How enocder-based models work"
   ]
  },
  {
   "cell_type": "markdown",
   "id": "410e9609",
   "metadata": {},
   "source": [
    "- text is tokenized and represented as one-hot vectors called _token encodings_.\n",
    "  - size of the tokenizer vocabulary determines the dimension of the _token encodings_, usually 20k-200k unique tokens.\n",
    "- _token encodings_ are converted to lower-demnsional vectors called _token embeddings_.\n",
    "- _token embeddings_ are then passed through the encoder block layer to yied a _hidden state_ for **each input token**.\n",
    "  - for pretraining objective of langauge modeling, each hidden state is fed to a layer that **predicts the masked input tokens**.\n",
    "  - for classification task, we replace the language modeling layer with a classification layer."
   ]
  },
  {
   "cell_type": "markdown",
   "id": "880dc9c2",
   "metadata": {},
   "source": [
    "> PyTorch skips the step of creating one-hot vectors for token encodings because mulitplying a matrix w/ a one-hot vector is the same asd selecting a column from the matrix. Done by selecting the column w/ the token ID from the matrix, i.e. `nn.Embedding`. "
   ]
  },
  {
   "cell_type": "markdown",
   "id": "e4948784",
   "metadata": {},
   "source": [
    "To build a classifier on top of `DistilBERT`, we have two options:\n",
    "1. _Feature Extraction_: use the hidden states as features & just train a classifier on them, without modifying the pretrained model.\n",
    "2. _Fine-tuning_: train the whole model end-to-end, updating the parameters of the pretrained model."
   ]
  },
  {
   "cell_type": "markdown",
   "id": "d42af33a",
   "metadata": {},
   "source": [
    "### Feature Extraction from Transformers"
   ]
  },
  {
   "cell_type": "markdown",
   "id": "45ed30e3",
   "metadata": {},
   "source": [
    "To extract features using a transfomer's pretrained model: \n",
    "- **freeze the body's weights** during training.\n",
    "- **use the hidden states as features** for the classifer.\n",
    "\n",
    "Advantages to the feature extraction:\n",
    "- quickly train a smaller or shallower model.\n",
    "- the smaller model can be a neural classification layer or another classification method like random forest.\n",
    "- especially convenient if GPUs are unavailable (we can precompute the hidden states only once)."
   ]
  },
  {
   "cell_type": "code",
   "execution_count": 70,
   "id": "5b10dfe5",
   "metadata": {},
   "outputs": [],
   "source": [
    "def torch_device():\n",
    "    device = 'cpu'\n",
    "    backends = torch.backends\n",
    "    if torch.cuda.is_available() and backends.cuda.is_built(): # NVIDIA CUDA\n",
    "        device = 'cuda'\n",
    "    elif backends.mps.is_available() and backends.mps.is_built(): # Apple Sillicon\n",
    "        device = 'mps'\n",
    "    return torch.device(device)\n"
   ]
  },
  {
   "cell_type": "code",
   "execution_count": 249,
   "id": "66614b89",
   "metadata": {},
   "outputs": [],
   "source": [
    "from transformers import AutoModel\n",
    "\n",
    "device = torch_device()\n",
    "# device = torch.device('cpu') # mps doesn't seem to work \n",
    "model = AutoModel.from_pretrained(model_ckpt).to(device)"
   ]
  },
  {
   "cell_type": "code",
   "execution_count": 72,
   "id": "2864e36e",
   "metadata": {},
   "outputs": [
    {
     "name": "stderr",
     "output_type": "stream",
     "text": [
      "Some weights of the model checkpoint at distilbert-base-uncased were not used when initializing DistilBertModel: ['vocab_projector.weight', 'vocab_transform.bias', 'vocab_layer_norm.weight', 'vocab_layer_norm.bias', 'vocab_projector.bias', 'vocab_transform.weight']\n",
      "- This IS expected if you are initializing DistilBertModel from the checkpoint of a model trained on another task or with another architecture (e.g. initializing a BertForSequenceClassification model from a BertForPreTraining model).\n",
      "- This IS NOT expected if you are initializing DistilBertModel from the checkpoint of a model that you expect to be exactly identical (initializing a BertForSequenceClassification model from a BertForSequenceClassification model).\n"
     ]
    }
   ],
   "source": [
    "model_without_device =  AutoModel.from_pretrained(model_ckpt)"
   ]
  },
  {
   "cell_type": "markdown",
   "id": "52f42aa7",
   "metadata": {},
   "source": [
    "#### Interoperability Between Framworks"
   ]
  },
  {
   "cell_type": "code",
   "execution_count": 73,
   "id": "e0c886b5",
   "metadata": {},
   "outputs": [
    {
     "data": {
      "application/vnd.jupyter.widget-view+json": {
       "model_id": "5aa696e27d284b5e8c466dcead902a68",
       "version_major": 2,
       "version_minor": 0
      },
      "text/plain": [
       "Downloading:   0%|          | 0.00/615 [00:00<?, ?B/s]"
      ]
     },
     "metadata": {},
     "output_type": "display_data"
    },
    {
     "name": "stderr",
     "output_type": "stream",
     "text": [
      "2023-06-20 22:45:34.377547: I metal_plugin/src/device/metal_device.cc:1154] Metal device set to: Apple M2 Max\n",
      "2023-06-20 22:45:34.377568: I metal_plugin/src/device/metal_device.cc:296] systemMemory: 96.00 GB\n",
      "2023-06-20 22:45:34.377570: I metal_plugin/src/device/metal_device.cc:313] maxCacheSize: 36.00 GB\n",
      "2023-06-20 22:45:34.377600: I tensorflow/core/common_runtime/pluggable_device/pluggable_device_factory.cc:303] Could not identify NUMA node of platform GPU ID 0, defaulting to 0. Your kernel may not have been built with NUMA support.\n",
      "2023-06-20 22:45:34.377613: I tensorflow/core/common_runtime/pluggable_device/pluggable_device_factory.cc:269] Created TensorFlow device (/job:localhost/replica:0/task:0/device:GPU:0 with 0 MB memory) -> physical PluggableDevice (device: 0, name: METAL, pci bus id: <undefined>)\n"
     ]
    },
    {
     "data": {
      "application/vnd.jupyter.widget-view+json": {
       "model_id": "ce787cb704254ffd8677cd5e4e258759",
       "version_major": 2,
       "version_minor": 0
      },
      "text/plain": [
       "Downloading:   0%|          | 0.00/1.04G [00:00<?, ?B/s]"
      ]
     },
     "metadata": {},
     "output_type": "display_data"
    },
    {
     "name": "stderr",
     "output_type": "stream",
     "text": [
      "Some weights of the PyTorch model were not used when initializing the TF 2.0 model TFXLMRobertaModel: ['lm_head.layer_norm.bias', 'lm_head.decoder.weight', 'lm_head.dense.weight', 'lm_head.layer_norm.weight', 'lm_head.bias', 'lm_head.dense.bias']\n",
      "- This IS expected if you are initializing TFXLMRobertaModel from a PyTorch model trained on another task or with another architecture (e.g. initializing a TFBertForSequenceClassification model from a BertForPreTraining model).\n",
      "- This IS NOT expected if you are initializing TFXLMRobertaModel from a PyTorch model that you expect to be exactly identical (e.g. initializing a TFBertForSequenceClassification model from a BertForSequenceClassification model).\n",
      "All the weights of TFXLMRobertaModel were initialized from the PyTorch model.\n",
      "If your task is similar to the task the model of the checkpoint was trained on, you can already use TFXLMRobertaModel for predictions without further training.\n"
     ]
    }
   ],
   "source": [
    "from transformers import TFAutoModel\n",
    "tf_xlmr = TFAutoModel.from_pretrained(\"xlm-roberta-base\", from_pt=True) # from pyTorch"
   ]
  },
  {
   "cell_type": "markdown",
   "id": "5c6689ec",
   "metadata": {},
   "source": [
    "#### Extract Hidden States"
   ]
  },
  {
   "cell_type": "code",
   "execution_count": 74,
   "id": "9972c811",
   "metadata": {},
   "outputs": [
    {
     "name": "stdout",
     "output_type": "stream",
     "text": [
      "input tensor shape: torch.Size([1, 6])\n",
      "input tensors: {'input_ids': tensor([[ 101, 2023, 2003, 1037, 3231,  102]]), 'attention_mask': tensor([[1, 1, 1, 1, 1, 1]])}\n",
      "input tokens: ['[CLS]', 'this', 'is', 'a', 'test', '[SEP]']\n"
     ]
    }
   ],
   "source": [
    "test_text = \"this is a test\"\n",
    "test_inputs = tokenizer(test_text, return_tensors=\"pt\")\n",
    "print(f\"input tensor shape: {test_inputs['input_ids'].size()}\")\n",
    "print(f\"input tensors: {test_inputs}\")\n",
    "print(f\"input tokens: {tokenizer.convert_ids_to_tokens(test_inputs.input_ids[0])}\")"
   ]
  },
  {
   "cell_type": "markdown",
   "id": "16f33801",
   "metadata": {},
   "source": [
    "`test_inputs['input_ids']` is a tesnor with the shape: `[batch_size, n_tokens]`."
   ]
  },
  {
   "cell_type": "code",
   "execution_count": 75,
   "id": "6a7f9d5e",
   "metadata": {},
   "outputs": [
    {
     "name": "stdout",
     "output_type": "stream",
     "text": [
      "BaseModelOutput(last_hidden_state=tensor([[[-0.1565, -0.1862,  0.0528,  ..., -0.1188,  0.0662,  0.5470],\n",
      "         [-0.3575, -0.6484, -0.0618,  ..., -0.3040,  0.3508,  0.5221],\n",
      "         [-0.2772, -0.4459,  0.1818,  ..., -0.0948, -0.0076,  0.9958],\n",
      "         [-0.2841, -0.3917,  0.3753,  ..., -0.2151, -0.1173,  1.0526],\n",
      "         [ 0.2661, -0.5094, -0.3180,  ..., -0.4203,  0.0144, -0.2149],\n",
      "         [ 0.9441,  0.0112, -0.4714,  ...,  0.1439, -0.7288, -0.1619]]],\n",
      "       device='mps:0'), hidden_states=None, attentions=None)\n"
     ]
    }
   ],
   "source": [
    "test_model_inputs = {k:v.to(device) for k, v in test_inputs.items()}\n",
    "# note that the following throws a \"RuntimeError: Placeholder storage has not been allocated on MPS device!\"\n",
    "# test_outputs = model(**test_inputs) # throws a runtime error \n",
    "# so, we'll pass the arguments manually\n",
    "with torch.no_grad():\n",
    "    test_outputs = model(\n",
    "        input_ids = test_model_inputs['input_ids'], \n",
    "        attention_mask= test_model_inputs['attention_mask'])\n",
    "print(test_outputs)"
   ]
  },
  {
   "cell_type": "markdown",
   "id": "5aa21130",
   "metadata": {},
   "source": [
    "> `torch.no_grad()` context manager disables the automatic calculation of the graident. This is useful for inference since it reduces the memory footprint ofthe computations.\n",
    "\n",
    "Depending on the model configuration, the output can contain several objects: hidden states, losses, or attentions.\n",
    "`BaseModelOutput` is similar to a Python `namedtuple`. The current model only has one attribute: `last_hidden_state`."
   ]
  },
  {
   "cell_type": "code",
   "execution_count": 76,
   "id": "99383fcb",
   "metadata": {},
   "outputs": [
    {
     "data": {
      "text/plain": [
       "torch.Size([1, 6, 768])"
      ]
     },
     "execution_count": 76,
     "metadata": {},
     "output_type": "execute_result"
    }
   ],
   "source": [
    "test_outputs.last_hidden_state.size()"
   ]
  },
  {
   "cell_type": "markdown",
   "id": "e0183c46",
   "metadata": {},
   "source": [
    "`test_outputs.last_hidden_state` is a tensor with the shape: `[batch_size, n_tokens, hidden_dim]`, i.e. a 768-dimensional vector is returned for **each** of the input tokens. \n",
    "\n",
    "It's a 3-dimensional tensor where there is `1` batch with `6` sequences, and each sequence has a length of `768`."
   ]
  },
  {
   "cell_type": "markdown",
   "id": "f3d33d04",
   "metadata": {},
   "source": [
    "For classification tasks, it's common to just use the hidden state associated with the starting `[CLS]` token as the **input feature**. Since this token appears at the start of each sequence, we can extract its vector by using the following:"
   ]
  },
  {
   "cell_type": "code",
   "execution_count": 77,
   "id": "a86d6b6e",
   "metadata": {},
   "outputs": [
    {
     "data": {
      "text/plain": [
       "torch.Size([1, 768])"
      ]
     },
     "execution_count": 77,
     "metadata": {},
     "output_type": "execute_result"
    }
   ],
   "source": [
    "cls_tensor = test_outputs.last_hidden_state[:, 0]\n",
    "cls_tensor.shape"
   ]
  },
  {
   "cell_type": "code",
   "execution_count": 78,
   "id": "ada0af0a",
   "metadata": {},
   "outputs": [
    {
     "data": {
      "text/plain": [
       "tensor([[-1.5651e-01, -1.8620e-01,  5.2777e-02, -1.0634e-01, -1.3163e-02,\n",
       "         -2.6944e-01,  9.2270e-02,  1.5865e-01, -9.8675e-02, -2.9572e-01,\n",
       "         -1.3788e-01, -3.8061e-02, -5.3617e-02,  1.3045e-01,  3.9713e-02,\n",
       "          8.6893e-02,  2.5087e-02,  8.6177e-03,  2.5243e-01, -1.3678e-01,\n",
       "         -1.2137e-01, -1.3896e-01, -1.3426e-01, -9.0844e-02,  3.0509e-02,\n",
       "         -3.8620e-02,  1.1485e-01, -5.7996e-02,  1.0131e-01,  9.7920e-02,\n",
       "          3.8743e-03,  1.1950e-01, -6.6339e-02, -2.1257e-02,  1.3090e-01,\n",
       "          2.6520e-02,  2.3624e-01,  5.0220e-02,  1.3503e-02, -2.1380e-02,\n",
       "         -8.8323e-02, -9.8360e-02,  2.2675e-01, -2.4940e-02, -1.6261e-01,\n",
       "         -8.3787e-02, -1.9629e+00, -1.4541e-01, -1.5582e-01, -3.5487e-01,\n",
       "         -4.5971e-02,  2.0034e-01,  1.3080e-02,  4.9650e-01,  1.0587e-01,\n",
       "          1.2080e-01, -1.9118e-01,  3.8280e-01,  1.7121e-02, -1.6628e-02,\n",
       "          2.1525e-01,  4.4381e-02,  3.9334e-03,  3.5416e-02,  1.2238e-01,\n",
       "          2.1459e-01,  1.5015e-02,  2.3729e-02, -2.0037e-01,  2.9482e-01,\n",
       "         -4.0111e-01, -1.5827e-01, -1.8379e-03,  9.3304e-02, -3.3879e-02,\n",
       "         -1.5265e-01, -1.5221e-02,  4.1115e-02, -9.3805e-02,  7.3235e-02,\n",
       "         -2.6978e-02,  2.3517e-01,  1.9566e-01, -9.4397e-02,  1.5616e-01,\n",
       "          8.4622e-02, -9.8348e-02,  1.0431e-02,  2.0574e-02,  5.4993e-01,\n",
       "         -4.9989e-02,  1.1182e-01, -5.6723e-02,  1.0938e-01,  2.4215e-01,\n",
       "         -3.1020e-01,  9.0788e-02, -1.3781e-01,  3.6213e-01,  2.0996e-01,\n",
       "         -4.6878e-02, -4.4244e-01,  1.0990e-01, -2.8308e-01,  1.1767e-01,\n",
       "         -2.1761e-01, -3.6113e-02,  1.4839e-02, -8.4058e-02, -2.6364e+00,\n",
       "          1.8471e-01,  2.3530e-01, -7.0573e-03, -3.1433e-01, -1.7030e-01,\n",
       "          3.7370e-01,  1.5747e-01,  6.3197e-02,  1.6010e-01,  7.4900e-02,\n",
       "         -3.0234e-01,  6.0412e-01, -1.0716e-03,  1.2461e-02,  1.3155e-03,\n",
       "          3.2261e-01,  1.5119e-01,  1.8443e-01, -1.8306e-03,  5.5242e-02,\n",
       "          1.7249e-01,  3.6644e-01,  2.7258e-01, -1.2720e-02, -3.0868e-01,\n",
       "         -1.1247e-02, -1.0711e-01, -9.7186e-02, -3.2671e-01,  4.6447e-02,\n",
       "         -1.5892e-01, -3.5322e-02, -2.9621e+00,  2.8953e-01,  3.5626e-01,\n",
       "         -2.3008e-02, -2.3858e-01, -2.5866e-01,  1.0932e-01,  2.4408e-01,\n",
       "          3.1092e-02,  3.7053e-01, -2.8538e-01,  1.4399e-01, -2.2006e-01,\n",
       "         -5.5742e-02, -1.0406e-01, -3.4236e-03, -1.1406e-01,  9.1626e-02,\n",
       "          1.7379e-01, -4.3961e-02, -6.4088e-02, -1.4091e-01,  3.6498e-03,\n",
       "         -5.3532e-06,  3.1501e-01,  2.0613e-01,  1.1981e-01,  1.3492e-01,\n",
       "         -1.6633e-01, -2.4867e-01,  1.0433e-01,  1.8241e-01,  4.4174e-02,\n",
       "         -1.4588e-01, -4.6315e-02,  7.3483e-02,  2.1279e-01, -7.2770e-02,\n",
       "         -5.0732e-02,  3.8702e-01,  6.8766e-02,  8.3792e-02,  7.6695e-02,\n",
       "         -8.9175e-02,  3.3622e-01, -2.0837e-01, -9.8360e-03,  2.2285e-01,\n",
       "         -2.0923e-02, -6.2299e-02,  1.1379e-01, -1.5366e-01,  3.2090e-01,\n",
       "          9.9541e-02, -7.0104e-02, -3.5678e-01,  2.7038e-02,  1.2385e-01,\n",
       "         -1.0881e-01, -1.2656e-02,  2.4675e-02,  1.6726e-02, -5.3598e-03,\n",
       "          3.7047e+00,  1.2551e-01, -1.0918e-01,  1.5630e-01,  7.8901e-02,\n",
       "         -5.0735e-02,  2.7044e-01, -1.0225e-01, -2.6742e-01,  2.8723e-01,\n",
       "         -1.8979e-02,  4.7504e-02,  1.2539e-01,  3.6513e-01, -1.0606e-01,\n",
       "          3.5053e-01,  7.4947e-02, -9.5734e-03,  2.4868e-01, -1.3699e-01,\n",
       "          2.4959e-01,  2.0488e-01,  1.8659e-01,  3.2846e-01, -1.1878e+00,\n",
       "         -3.7712e-02, -7.9879e-02,  9.1056e-02,  3.3921e-01, -4.8910e-02,\n",
       "          9.2458e-02,  1.4222e-01,  9.7544e-03,  1.4207e-01,  4.2357e-03,\n",
       "         -4.3188e-02,  4.0460e-01,  5.8708e-02,  1.8671e-01, -2.0797e-01,\n",
       "          6.5574e-02,  3.6067e-02,  7.8453e-03,  6.9947e-02, -1.3707e-01,\n",
       "          3.5834e-02, -1.1707e-01, -7.8782e-02, -2.1260e-01, -8.8604e-02,\n",
       "         -1.0814e-01,  2.1254e-02,  1.7153e-02, -1.4529e-01,  2.4625e-01,\n",
       "         -3.4444e-01, -1.4841e-01,  8.2909e-02,  8.1740e-02, -2.0670e-01,\n",
       "         -1.9392e-01, -1.6727e-01,  9.3486e-03,  1.4353e-01,  1.1203e-01,\n",
       "         -6.9647e-02, -3.6914e-01, -3.0734e-01, -4.2905e+00, -3.3393e-02,\n",
       "         -5.1838e-02,  1.2615e-01,  4.3501e-01, -2.3111e-01,  2.6115e-01,\n",
       "          2.0627e-01,  2.3393e-01, -2.1275e-01,  3.5095e-01,  1.0836e-01,\n",
       "         -3.6565e-02,  1.5057e-01, -3.9018e-01,  1.9519e-01, -8.2639e-02,\n",
       "         -2.1418e-01,  1.6668e-01, -1.0179e-01, -1.4971e-01,  3.9128e-01,\n",
       "         -5.3719e-02,  4.6321e-03, -7.8120e-02, -2.8365e-02, -2.5313e-01,\n",
       "         -1.4142e-01, -2.6593e-02, -1.4239e-01, -1.9666e-02, -1.5155e-01,\n",
       "          3.3605e-02, -1.0159e-01, -2.2451e-01, -2.2571e+00, -6.7969e-02,\n",
       "         -4.9525e-03, -7.3574e-02, -2.1257e-02, -7.4546e-02,  1.9995e-01,\n",
       "         -7.2971e-02, -2.4054e-01,  6.6775e-02, -6.2396e-02, -8.0597e-02,\n",
       "         -2.1546e-01,  2.3629e-01,  3.7188e-01,  1.0614e-01,  1.0466e-01,\n",
       "          5.2806e-02,  2.7806e-01,  2.6389e-01, -9.2675e-02,  1.2516e-03,\n",
       "         -1.8138e-01, -1.7456e-01, -9.2995e-02,  2.2775e-01, -3.5318e-01,\n",
       "          1.4916e-02, -1.9578e-01, -1.4104e-01, -3.4189e-02, -2.1647e-01,\n",
       "          9.0412e-02, -2.4572e-01, -2.0130e-01, -1.1021e-01, -1.1684e-02,\n",
       "          1.3721e-01,  3.8952e-01, -4.8866e-03, -2.7053e-01,  6.3409e-01,\n",
       "          2.0200e-01,  1.4872e-01,  4.6491e-02,  1.0627e-01,  1.0722e-01,\n",
       "         -1.5361e-01, -8.6869e-02,  1.3369e-01, -1.9713e-01,  1.4038e-01,\n",
       "          1.0315e+00, -1.8685e-01,  2.6050e-02, -1.9660e-01,  2.5778e-01,\n",
       "          6.6919e-04,  2.0069e-01,  2.2755e-01,  3.4278e-01, -1.5576e-01,\n",
       "          2.5018e-01, -1.3893e-01, -1.1818e-01, -2.0792e-01,  1.0386e-01,\n",
       "         -3.4501e-01,  1.2341e-01, -8.8423e-02, -3.1816e-02,  1.4676e-01,\n",
       "         -4.9019e-02, -7.0515e-01, -2.7459e-01, -1.4947e-01, -1.4108e-01,\n",
       "          1.6374e-02,  1.1298e-01, -2.6083e-02, -2.5627e-01, -6.1420e-02,\n",
       "         -8.4723e-02,  2.4876e-01,  3.6116e-02, -9.2767e-03, -5.1816e-02,\n",
       "          1.5590e-01, -3.5690e-01,  3.1941e-02,  1.9765e-02,  3.4598e-01,\n",
       "          1.5537e-01,  1.6095e-01,  6.0067e-02, -5.3750e-02,  2.3331e-01,\n",
       "         -7.6175e-01,  1.7123e-01, -2.6502e-01, -2.8683e-02, -3.0222e-01,\n",
       "         -1.8018e-01,  5.2009e-02, -1.6631e-01, -2.8973e-02, -2.5747e-01,\n",
       "          3.8651e-01,  1.4533e-01,  2.5944e-01,  1.5810e-01,  1.9289e-01,\n",
       "         -4.0767e-02,  2.2158e-02,  7.2775e-01,  2.6297e-01, -2.0689e-01,\n",
       "          1.4973e-01,  1.8735e-01, -9.3556e-03,  1.6338e-01,  1.4581e-01,\n",
       "         -6.7698e-02, -1.4764e-01, -1.8688e-01,  3.8129e-03,  7.2977e-02,\n",
       "         -1.5512e-01, -2.1037e-01,  1.3483e-02, -7.3081e-03,  2.6190e-01,\n",
       "         -2.0857e-01, -4.5253e-01, -7.3822e-03, -8.4465e-02, -6.0731e-02,\n",
       "          5.3026e-01,  3.2526e-01,  2.2850e-02,  4.4467e-01,  3.0729e-01,\n",
       "         -1.1506e-01,  2.0496e-01, -6.3092e-02,  2.0245e-01,  6.3865e-02,\n",
       "         -3.8061e-02, -2.7048e-02,  2.4994e-01,  2.1293e-01, -2.7288e-01,\n",
       "          1.5356e-01, -1.4777e-01,  5.5620e-02, -1.9133e-02,  6.5599e-02,\n",
       "         -6.8874e-02,  7.6136e-02, -5.0778e-02,  2.4944e-02,  2.3064e-01,\n",
       "         -1.2261e+00, -1.1638e-02,  2.4535e-01,  8.6997e-02, -8.5430e-02,\n",
       "          3.5067e-02, -7.7357e-02,  4.2437e-01, -5.9187e-02, -1.0323e-01,\n",
       "          1.9593e-02,  6.7797e-02,  2.8566e-02, -2.2127e-03,  8.8576e-02,\n",
       "         -4.6128e-05,  1.9113e-01, -5.6278e-02,  1.1429e-01,  3.1475e-02,\n",
       "         -7.7407e-02,  2.7163e-01,  7.2701e-02, -1.8206e-01, -1.3057e-01,\n",
       "         -5.0381e-04, -1.2133e-01,  2.4968e-01,  1.4598e-01,  5.7917e-03,\n",
       "          1.1630e-01, -2.1038e-01, -4.6718e-01, -6.3134e-02,  4.4540e-02,\n",
       "         -1.2125e-02,  3.7045e-02,  8.5192e-03,  2.3012e-01,  2.3266e-01,\n",
       "         -3.6708e-01,  1.6562e-01,  7.5768e-02, -7.7925e-03,  1.5169e-01,\n",
       "          2.1295e-01, -2.6640e-01,  4.0505e-02, -1.1386e-01, -2.2846e-01,\n",
       "         -1.0333e-01, -3.1094e-01, -2.1480e-01, -9.4105e-02,  8.6468e-02,\n",
       "         -4.3994e-02,  1.0231e-01, -8.4006e-02, -1.3090e-01, -1.1508e-01,\n",
       "          3.1942e-01, -1.5337e-01,  4.1817e-02,  1.7515e-01, -2.0936e-01,\n",
       "         -8.1671e-01,  4.9621e-03, -1.8986e-02, -1.1714e-01,  8.7779e-02,\n",
       "          1.4961e-01, -1.0966e-01, -1.0551e-01, -2.4824e-01, -3.6894e-01,\n",
       "          1.8742e-01, -1.4542e-01, -1.5907e-01,  6.7222e-02, -1.0230e-01,\n",
       "         -7.6807e-03, -2.1918e-01, -1.2886e-01,  7.5978e-02,  1.6376e-01,\n",
       "          6.0811e-02, -4.8051e-02,  3.0756e-02, -1.6963e-02,  1.2096e-01,\n",
       "         -2.3621e-01, -3.6743e-03,  3.4942e-01,  1.9410e-01,  3.1646e-01,\n",
       "         -1.4669e-01,  1.4105e-01,  3.1208e-02,  7.8916e-02, -1.9225e-01,\n",
       "         -7.7251e-02,  2.2214e-01,  1.0162e-03,  1.8466e-01,  7.1833e-02,\n",
       "          2.6436e-01,  2.6826e-01,  1.3592e-01, -2.1796e-01, -1.6706e-01,\n",
       "          1.3375e-02,  2.1478e-01,  1.3276e-01, -9.8466e-02,  1.1731e-01,\n",
       "          6.8677e-02,  9.0567e-02,  8.6924e-02,  2.2121e+00,  2.3419e-01,\n",
       "          4.6251e-02,  8.4623e-02,  1.0094e-01,  2.7246e-01,  6.3896e-02,\n",
       "          1.6722e-01, -1.5285e-02,  1.6185e-01, -1.7157e-01,  1.4791e-03,\n",
       "         -1.9085e-01,  7.5900e-02,  1.1011e-01,  1.2817e-01,  2.7893e-03,\n",
       "          9.5900e-03, -3.6876e-01, -1.1836e-01, -2.7871e-01,  3.6822e-01,\n",
       "          2.2210e-01,  1.1480e-01, -6.7032e-02,  1.9150e-01,  2.2473e-01,\n",
       "         -3.3394e-02, -1.5635e-02, -1.4756e-01,  1.3489e-02,  2.4369e-01,\n",
       "          2.1564e-02,  1.7517e-01, -2.1630e-01, -1.4090e-01,  1.0052e-01,\n",
       "         -3.9014e-01, -6.2830e-02,  5.5798e-02, -3.3514e-02, -3.7368e-01,\n",
       "          3.9487e-01, -1.8948e-01, -1.2572e-01,  3.5203e-01, -1.8874e-02,\n",
       "         -1.5679e-01,  9.3130e-03,  5.3982e-02,  2.0326e-01,  6.7830e-02,\n",
       "         -1.5459e-02,  2.0734e-01, -1.9603e-01, -9.6627e-02,  1.4166e-01,\n",
       "         -2.1276e-02,  5.1487e-02,  1.4469e-01,  1.2544e-03,  1.3108e-01,\n",
       "          1.6095e-01,  1.0591e-01,  5.9295e-02,  4.5836e-02, -1.4150e-01,\n",
       "          1.7824e-01, -2.5738e-01,  1.7106e-01, -1.3729e-02,  9.6227e-02,\n",
       "          1.3197e-01,  2.0739e-01,  2.0907e-01,  3.9640e-02,  3.6874e-01,\n",
       "          1.4475e-01, -8.9563e-02, -2.8406e+00,  2.4573e-01,  1.1533e-01,\n",
       "          2.2787e-01,  5.0309e-02,  2.6345e-01,  1.4782e-01, -2.5631e-02,\n",
       "          2.7831e-02, -6.0150e-02,  1.1571e-01,  2.0700e-01,  2.9178e-01,\n",
       "          5.7775e-02,  2.4075e-01,  1.2063e-01,  8.9519e-02, -1.3806e-01,\n",
       "          8.7437e-02, -8.6127e-02, -3.0587e-01,  1.5690e-01,  1.3057e-01,\n",
       "         -5.8690e-02, -3.5917e-01, -1.2032e-01, -1.0781e-01,  1.1956e-02,\n",
       "          1.3001e-01, -1.7064e-02, -1.3228e-01,  1.9140e-01, -9.4830e-02,\n",
       "          1.3868e-01,  2.3152e-02, -6.3546e-02,  6.9855e-02, -2.3555e-01,\n",
       "          1.5287e-01,  3.8401e-01, -2.2820e-01,  3.4190e-01, -1.7743e-01,\n",
       "          1.7165e-01, -2.3440e-01, -4.6387e-02,  3.1170e-01, -1.3030e-01,\n",
       "          4.7630e-01, -3.2373e-01, -1.4525e-01,  2.8751e-01,  4.5793e-02,\n",
       "          4.5620e-02,  1.2612e-01, -1.0442e-01,  1.0685e-01, -5.9045e-02,\n",
       "         -8.4782e-02, -1.0655e-01, -3.3320e-02, -2.2047e-01, -9.3184e-02,\n",
       "         -1.2764e-01,  2.1311e-01,  1.0908e-05, -6.1856e-02,  1.6222e-01,\n",
       "         -1.7051e-01, -5.3583e-02, -1.0879e-01,  5.1160e-02,  1.1301e-01,\n",
       "          1.6816e-01,  2.4799e-01, -2.6011e-02,  1.6227e-01,  3.3406e-01,\n",
       "          5.3424e-02,  1.6370e-01,  3.5643e-02, -3.6388e-01,  6.7640e-02,\n",
       "          8.7474e-04,  3.0330e-01, -8.1191e+00, -1.5169e-01, -2.4637e-01,\n",
       "         -1.9527e-01, -7.7869e-03, -1.3964e-01,  7.6316e-02, -1.0792e-01,\n",
       "          1.1892e-01, -2.0612e-01, -7.3253e-02,  1.6354e-01, -7.9680e-02,\n",
       "         -1.1881e-01,  6.6206e-02,  5.4702e-01]], device='mps:0')"
      ]
     },
     "execution_count": 78,
     "metadata": {},
     "output_type": "execute_result"
    }
   ],
   "source": [
    "cls_tensor"
   ]
  },
  {
   "cell_type": "markdown",
   "id": "c938f2e3",
   "metadata": {},
   "source": [
    "`cls_tensor` contains the `[CLS]` vectors from all batches."
   ]
  },
  {
   "cell_type": "markdown",
   "id": "dc0050f0",
   "metadata": {},
   "source": [
    "#### ChatGPT's explanation of why use `[CLS]` hidden state as the input feature for text classification:"
   ]
  },
  {
   "cell_type": "markdown",
   "id": "510efd56",
   "metadata": {},
   "source": [
    "Prompt:\n",
    "> when training a classifier using the hidden state output from an encoder-based transformer model, why do people just just the hidden state assoicated with the `[CLS]` token as the input feature?\n",
    "\n",
    "Answer:\n",
    ">Using the hidden state associated with the `[CLS]` token as the input feature for training a classifier in encoder-based transformer models, such as BERT, is a common practice. This approach is known as \"CLS pooling\" or \"sentence-level pooling.\"\n",
    ">\n",
    ">The primary reason for using the `[CLS]` token's hidden state is that it captures the aggregated representation of the entire input sequence. In the context of text classification, the goal is to classify the input text as a whole, rather than predicting the label for individual tokens. By using the `[CLS]` token's hidden state, you obtain a fixed-dimensional representation of the entire input sequence that can be fed into a classifier.\n",
    ">\n",
    ">The `[CLS]` token is positioned at the beginning of the input sequence and is specifically trained to encode information about the sequence as a whole. During the pre-training phase, the BERT model is trained on various language modeling tasks, including masked language modeling and next sentence prediction. These tasks encourage the model to learn a representation in the `[CLS]` token that captures important information about the input sequence.\n",
    ">\n",
    ">In addition, the `[CLS]` token's hidden state is directly connected to a classification layer during fine-tuning. During fine-tuning, the model is trained on a specific downstream task, such as sentiment analysis or text categorization. By using the `[CLS]` token's hidden state as the input feature, you leverage the pre-trained representation's ability to capture relevant information about the entire input sequence and then fine-tune it specifically for the classification task.\n",
    ">\n",
    ">It's worth noting that using the `[CLS]` token's hidden state as the input feature is not always the best approach for every task or dataset. In some cases, you may need to experiment with different pooling strategies or utilize additional techniques, such as attention mechanisms, to enhance the representation. However, the `[CLS]` token's hidden state provides a strong starting point for many text classification tasks due to its ability to capture the overall sequence information.\n",
    "\n",
    "Prompt:\n",
    "> what does the hidden state of a token like `[CLS]` actually represents?\n",
    "\n",
    "Answer:\n",
    ">The hidden state of a token like `[CLS]` in a transformer-based model, such as BERT, represents a contextualized representation of the entire input sequence. \n",
    ">\n",
    ">In transformer models, each token in the input sequence is associated with a hidden state vector. This vector encodes the token's contextual information, which is a combination of the token's own semantics and its relationship with other tokens in the sequence.\n",
    ">\n",
    ">For the `[CLS]` token specifically, its hidden state is typically used as an aggregate representation of the entire sequence. During pre-training, the model is trained to predict whether two sentences are consecutive or not, and the `[CLS]` token's hidden state plays a crucial role in this task.\n",
    ">\n",
    ">The pre-training objective encourages the model to encode relevant information about the entire input sequence into the `[CLS]` token's hidden state. As a result, this hidden state tends to capture high-level semantics, global information, and contextual understanding of the input sequence.\n",
    ">\n",
    ">In the context of text classification, using the hidden state of the `[CLS]` token as an input feature leverages this learned representation. It allows the model to make predictions based on the overall understanding of the sequence, rather than focusing on individual tokens. The `[CLS]` token's hidden state can capture the most salient and discriminative features of the input sequence, making it suitable for tasks like sentence classification or sentiment analysis.\n",
    ">\n",
    ">However, it's important to note that the exact interpretation of the hidden state is not always straightforward. The hidden state is a dense vector representation learned through the model's training process, and its specific dimensions do not have a predefined meaning. Its usefulness lies in its ability to capture and encode relevant information about the input sequence for downstream tasks."
   ]
  },
  {
   "cell_type": "markdown",
   "id": "92c7a5c4",
   "metadata": {},
   "source": [
    "#### Extract batched (`[CLS]`) hidden states"
   ]
  },
  {
   "cell_type": "code",
   "execution_count": 79,
   "id": "2314d14a",
   "metadata": {},
   "outputs": [],
   "source": [
    "def extract_hidden_states(batch):\n",
    "    # place model inputs on the GPU\n",
    "    device = torch_device()\n",
    "    inputs = {k:v.to(device) for k, v in batch.items() \n",
    "              if k in tokenizer.model_input_names}\n",
    "    with torch.no_grad():\n",
    "        last_hidden_state = model(**inputs).last_hidden_state\n",
    "    # Return vector for [CLS] token\n",
    "    return {\"hidden_state\":  last_hidden_state[:,0].cpu().numpy()}"
   ]
  },
  {
   "cell_type": "code",
   "execution_count": 80,
   "id": "9f4cae93",
   "metadata": {},
   "outputs": [
    {
     "data": {
      "application/vnd.jupyter.widget-view+json": {
       "model_id": "",
       "version_major": 2,
       "version_minor": 0
      },
      "text/plain": [
       "Map:   0%|          | 0/16000 [00:00<?, ? examples/s]"
      ]
     },
     "metadata": {},
     "output_type": "display_data"
    },
    {
     "data": {
      "application/vnd.jupyter.widget-view+json": {
       "model_id": "",
       "version_major": 2,
       "version_minor": 0
      },
      "text/plain": [
       "Map:   0%|          | 0/2000 [00:00<?, ? examples/s]"
      ]
     },
     "metadata": {},
     "output_type": "display_data"
    },
    {
     "data": {
      "application/vnd.jupyter.widget-view+json": {
       "model_id": "",
       "version_major": 2,
       "version_minor": 0
      },
      "text/plain": [
       "Map:   0%|          | 0/2000 [00:00<?, ? examples/s]"
      ]
     },
     "metadata": {},
     "output_type": "display_data"
    }
   ],
   "source": [
    "emotions_encoded.set_format(\"torch\", columns=[\"input_ids\", \"attention_mask\", \"label\"])\n",
    "emotions_hidden = emotions_encoded.map(extract_hidden_states, batched=True)"
   ]
  },
  {
   "cell_type": "markdown",
   "id": "3ee6a779",
   "metadata": {},
   "source": [
    "`DatasetDict.map()`'s `batched=True` argument will set the default `batched_size=1000`."
   ]
  },
  {
   "cell_type": "code",
   "execution_count": 81,
   "id": "8b771927",
   "metadata": {},
   "outputs": [
    {
     "data": {
      "text/plain": [
       "['text', 'label', 'input_ids', 'attention_mask', 'hidden_state']"
      ]
     },
     "execution_count": 81,
     "metadata": {},
     "output_type": "execute_result"
    }
   ],
   "source": [
    "emotions_hidden[\"train\"].column_names"
   ]
  },
  {
   "cell_type": "markdown",
   "id": "a99d2d13",
   "metadata": {},
   "source": [
    "a new column `hidden_state` has been added to our dataset."
   ]
  },
  {
   "cell_type": "code",
   "execution_count": 82,
   "id": "3b5ec86d",
   "metadata": {},
   "outputs": [
    {
     "name": "stdout",
     "output_type": "stream",
     "text": [
      "torch.Size([16000, 768])\n",
      "DatasetDict({\n",
      "    train: Dataset({\n",
      "        features: ['text', 'label', 'input_ids', 'attention_mask', 'hidden_state'],\n",
      "        num_rows: 16000\n",
      "    })\n",
      "    validation: Dataset({\n",
      "        features: ['text', 'label', 'input_ids', 'attention_mask', 'hidden_state'],\n",
      "        num_rows: 2000\n",
      "    })\n",
      "    test: Dataset({\n",
      "        features: ['text', 'label', 'input_ids', 'attention_mask', 'hidden_state'],\n",
      "        num_rows: 2000\n",
      "    })\n",
      "})\n"
     ]
    }
   ],
   "source": [
    "print(emotions_hidden[\"train\"]['hidden_state'].shape)\n",
    "print(emotions_hidden)"
   ]
  },
  {
   "cell_type": "markdown",
   "id": "246a56c0",
   "metadata": {},
   "source": [
    "#### Creating a feature matrix"
   ]
  },
  {
   "cell_type": "markdown",
   "id": "c25f9cf9",
   "metadata": {},
   "source": [
    "We'll use the (`CLS`) hidden states as input features and labels as targets."
   ]
  },
  {
   "cell_type": "code",
   "execution_count": 83,
   "id": "7abf9a66",
   "metadata": {},
   "outputs": [
    {
     "data": {
      "text/plain": [
       "((16000, 768), (2000, 768), (16000,), (2000,))"
      ]
     },
     "execution_count": 83,
     "metadata": {},
     "output_type": "execute_result"
    }
   ],
   "source": [
    "import numpy as np\n",
    "\n",
    "X_train = np.array(emotions_hidden['train']['hidden_state'])\n",
    "X_valid = np.array(emotions_hidden['validation']['hidden_state'])\n",
    "y_train = np.array(emotions_hidden['train']['label'])\n",
    "y_valid = np.array(emotions_hidden['validation']['label'])\n",
    "X_train.shape, X_valid.shape, y_train.shape, y_valid.shape"
   ]
  },
  {
   "cell_type": "markdown",
   "id": "0302633c",
   "metadata": {},
   "source": [
    "##### Visualizing the training set"
   ]
  },
  {
   "cell_type": "code",
   "execution_count": 84,
   "id": "f4551237",
   "metadata": {},
   "outputs": [
    {
     "name": "stderr",
     "output_type": "stream",
     "text": [
      "/Users/david/code/python/nlp-with-transformers/venv/lib/python3.11/site-packages/umap/distances.py:1063: NumbaDeprecationWarning: The 'nopython' keyword argument was not supplied to the 'numba.jit' decorator. The implicit default value for this argument is currently False, but it will be changed to True in Numba 0.59.0. See https://numba.readthedocs.io/en/stable/reference/deprecation.html#deprecation-of-object-mode-fall-back-behaviour-when-using-jit for details.\n",
      "  @numba.jit()\n",
      "/Users/david/code/python/nlp-with-transformers/venv/lib/python3.11/site-packages/umap/distances.py:1071: NumbaDeprecationWarning: The 'nopython' keyword argument was not supplied to the 'numba.jit' decorator. The implicit default value for this argument is currently False, but it will be changed to True in Numba 0.59.0. See https://numba.readthedocs.io/en/stable/reference/deprecation.html#deprecation-of-object-mode-fall-back-behaviour-when-using-jit for details.\n",
      "  @numba.jit()\n",
      "/Users/david/code/python/nlp-with-transformers/venv/lib/python3.11/site-packages/umap/distances.py:1086: NumbaDeprecationWarning: The 'nopython' keyword argument was not supplied to the 'numba.jit' decorator. The implicit default value for this argument is currently False, but it will be changed to True in Numba 0.59.0. See https://numba.readthedocs.io/en/stable/reference/deprecation.html#deprecation-of-object-mode-fall-back-behaviour-when-using-jit for details.\n",
      "  @numba.jit()\n",
      "/Users/david/code/python/nlp-with-transformers/venv/lib/python3.11/site-packages/umap/umap_.py:660: NumbaDeprecationWarning: The 'nopython' keyword argument was not supplied to the 'numba.jit' decorator. The implicit default value for this argument is currently False, but it will be changed to True in Numba 0.59.0. See https://numba.readthedocs.io/en/stable/reference/deprecation.html#deprecation-of-object-mode-fall-back-behaviour-when-using-jit for details.\n",
      "  @numba.jit()\n"
     ]
    }
   ],
   "source": [
    "from umap import UMAP\n",
    "from sklearn.preprocessing import MinMaxScaler"
   ]
  },
  {
   "cell_type": "markdown",
   "id": "42e6aee9",
   "metadata": {},
   "source": [
    "The [UMAP](https://umap-learn.readthedocs.io/en/latest/) algorithm projects the high dimensional vector down to 2D (great for visualization).  It works best when teh feaures are scaled to lie with in the [0,1] interval. "
   ]
  },
  {
   "cell_type": "code",
   "execution_count": 85,
   "id": "d65b5974",
   "metadata": {},
   "outputs": [
    {
     "data": {
      "text/html": [
       "<div>\n",
       "<style scoped>\n",
       "    .dataframe tbody tr th:only-of-type {\n",
       "        vertical-align: middle;\n",
       "    }\n",
       "\n",
       "    .dataframe tbody tr th {\n",
       "        vertical-align: top;\n",
       "    }\n",
       "\n",
       "    .dataframe thead th {\n",
       "        text-align: right;\n",
       "    }\n",
       "</style>\n",
       "<table border=\"1\" class=\"dataframe\">\n",
       "  <thead>\n",
       "    <tr style=\"text-align: right;\">\n",
       "      <th></th>\n",
       "      <th>X</th>\n",
       "      <th>Y</th>\n",
       "      <th>label</th>\n",
       "    </tr>\n",
       "  </thead>\n",
       "  <tbody>\n",
       "    <tr>\n",
       "      <th>0</th>\n",
       "      <td>4.574046</td>\n",
       "      <td>6.906041</td>\n",
       "      <td>0</td>\n",
       "    </tr>\n",
       "    <tr>\n",
       "      <th>1</th>\n",
       "      <td>-2.683453</td>\n",
       "      <td>5.760426</td>\n",
       "      <td>0</td>\n",
       "    </tr>\n",
       "    <tr>\n",
       "      <th>2</th>\n",
       "      <td>5.894423</td>\n",
       "      <td>3.332808</td>\n",
       "      <td>3</td>\n",
       "    </tr>\n",
       "    <tr>\n",
       "      <th>3</th>\n",
       "      <td>-2.297074</td>\n",
       "      <td>3.132231</td>\n",
       "      <td>2</td>\n",
       "    </tr>\n",
       "    <tr>\n",
       "      <th>4</th>\n",
       "      <td>-3.001721</td>\n",
       "      <td>3.886827</td>\n",
       "      <td>3</td>\n",
       "    </tr>\n",
       "  </tbody>\n",
       "</table>\n",
       "</div>"
      ],
      "text/plain": [
       "          X         Y  label\n",
       "0  4.574046  6.906041      0\n",
       "1 -2.683453  5.760426      0\n",
       "2  5.894423  3.332808      3\n",
       "3 -2.297074  3.132231      2\n",
       "4 -3.001721  3.886827      3"
      ]
     },
     "execution_count": 85,
     "metadata": {},
     "output_type": "execute_result"
    }
   ],
   "source": [
    "# Scale features to [0,1] range\n",
    "X_scaled = MinMaxScaler().fit_transform(X_train)\n",
    "\n",
    "# Initialize & fit UMAP (project 768-dimension vectors down to 2-dimension)\n",
    "mapper = UMAP(n_components=2, metric=\"cosine\").fit(X_scaled)\n",
    "\n",
    "# Create a DataFrame of the 2D embeddings\n",
    "df_emb = pd.DataFrame(mapper.embedding_, columns=[\"X\", \"Y\"])\n",
    "df_emb[\"label\"] = y_train\n",
    "df_emb.head()"
   ]
  },
  {
   "cell_type": "code",
   "execution_count": 86,
   "id": "39c0a04c",
   "metadata": {},
   "outputs": [
    {
     "name": "stdout",
     "output_type": "stream",
     "text": [
      "['sadness', 'joy', 'love', 'anger', 'fear', 'surprise']\n",
      "[('sadness', 'Greys'), ('joy', 'Blues'), ('love', 'Oranges'), ('anger', 'Reds'), ('fear', 'Purples'), ('surprise', 'Greens')]\n"
     ]
    }
   ],
   "source": [
    "cmaps = [\"Greys\", \"Blues\", \"Oranges\", \"Reds\", \"Purples\", \"Greens\"]\n",
    "labels = emotions['train'].features['label'].names\n",
    "print(labels)\n",
    "print(list(zip(labels, cmaps)))"
   ]
  },
  {
   "cell_type": "code",
   "execution_count": 87,
   "id": "775f78f3",
   "metadata": {},
   "outputs": [
    {
     "data": {
      "image/png": "[encoded data removed]",
      "text/plain": [
       "<Figure size 700x400 with 6 Axes>"
      ]
     },
     "metadata": {},
     "output_type": "display_data"
    }
   ],
   "source": [
    "fig, axes = plt.subplots(2, 3, figsize=(7,4))\n",
    "axes = axes.flatten()\n",
    "for i, (label, cmap) in enumerate(zip(labels, cmaps)):\n",
    "    df_emb_sub = df_emb.query(f\"label == {i}\")\n",
    "    axes[i].hexbin(df_emb_sub[\"X\"], df_emb_sub[\"Y\"], cmap=cmap, gridsize=20, linewidth=(0,))\n",
    "    axes[i].set_title(label)\n",
    "    axes[i].set_xticks([]), axes[i].set_yticks([])"
   ]
  },
  {
   "cell_type": "markdown",
   "id": "348a7130",
   "metadata": {},
   "source": [
    "Patterns:\n",
    "- negative feelings such as `sadness`, `anger`, and `fear` all occupy similar regions with slightly varying distributions\n",
    "- `joy`, `love` are separated from the negative emotions and share similar space.\n",
    "- `surprise` is scalled all over the place. \n",
    "\n",
    "We may hoped for some separtion, but it's not guaranteed since the `DistilBERT` model was not trained to know the difference between emotions.  It only learned the mimplicity by guessing the masked words in texts."
   ]
  },
  {
   "cell_type": "markdown",
   "id": "a05f3af7",
   "metadata": {},
   "source": [
    "#### Train a simple classifier"
   ]
  },
  {
   "cell_type": "code",
   "execution_count": 212,
   "id": "95178686",
   "metadata": {},
   "outputs": [],
   "source": [
    "import time\n",
    "\n",
    "class MultiTrainer:\n",
    "    def __init__(self, classifiers, training_input, training_output, validation_input, validation_output):\n",
    "        self.classifiers = classifiers\n",
    "        self.training_input = training_input\n",
    "        self.training_output = training_output\n",
    "        self.validation_input = validation_input\n",
    "        self.validation_output = validation_output\n",
    "    \n",
    "    def train_with(self, classifier):\n",
    "        start = time.time()\n",
    "        classifier.fit(self.training_input, self.training_output)\n",
    "        stop = time.time()\n",
    "        return classifier.score(self.validation_input, self.validation_output), stop - start\n",
    "\n",
    "    def train(self):\n",
    "        results = []\n",
    "        for clf in classifiers:\n",
    "            score, training_time = self.train_with(clf)\n",
    "            results.append((clf, score, training_time))\n",
    "        return results"
   ]
  },
  {
   "cell_type": "code",
   "execution_count": 253,
   "id": "7c35ee1c",
   "metadata": {
    "scrolled": true
   },
   "outputs": [
    {
     "name": "stdout",
     "output_type": "stream",
     "text": [
      "DummyClassifier - score: 0.352, training time: 0.00s.\n",
      "LogisticRegression - score: 0.6335, training time: 552.36s.\n",
      "AdaBoostClassifier - score: 0.507, training time: 25093.46s.\n",
      "HistGradientBoostingClassifier - score: 0.5735, training time: 18.23s.\n",
      "RandomForestClassifier - score: 0.524, training time: 49.37s.\n",
      "DecisionTreeClassifier - score: 0.3515, training time: 11.08s.\n",
      "GaussianNB - score: 0.4045, training time: 0.03s.\n",
      "BernoulliNB - score: 0.419, training time: 0.11s.\n",
      "SVC - score: 0.583, training time: 90.71s.\n"
     ]
    }
   ],
   "source": [
    "from sklearn.dummy import DummyClassifier\n",
    "from sklearn.linear_model import LogisticRegression\n",
    "from sklearn.ensemble import AdaBoostClassifier, HistGradientBoostingClassifier, RandomForestClassifier\n",
    "from sklearn.tree import DecisionTreeClassifier\n",
    "from sklearn.naive_bayes import GaussianNB, BernoulliNB\n",
    "from sklearn.svm import SVC\n",
    "\n",
    "classifiers = [\n",
    "    DummyClassifier(strategy=\"most_frequent\"),\n",
    "    LogisticRegression(max_iter=5000), # We increase `max_iter` to guarantee convergence\n",
    "    AdaBoostClassifier(n_estimators=200),\n",
    "    HistGradientBoostingClassifier(max_iter=5000),\n",
    "    RandomForestClassifier(n_estimators=200),\n",
    "    DecisionTreeClassifier(),\n",
    "    GaussianNB(),\n",
    "    BernoulliNB(),\n",
    "    SVC(),\n",
    "]\n",
    "multi_trainer = MultiTrainer(\n",
    "            classifiers=classifiers, \n",
    "            training_input=X_train, \n",
    "            training_output=y_train,\n",
    "            validation_input=X_valid,\n",
    "            validation_output=y_valid)\n",
    "results = multi_trainer.train()\n",
    "\n",
    "for clf, score, training_time in results:\n",
    "    print(f\"{clf.__class__.__name__} - score: {score}, training time: {training_time:.2f}s.\")"
   ]
  },
  {
   "cell_type": "markdown",
   "id": "d7b318e3",
   "metadata": {},
   "source": [
    "It might appear that our model is just a bit better than random at predicting emotions, but since our dataset is unbalanced across the classes, it's actually sigificantly better.  We can examine whether our model is any good by comparing it against a simple baseline model, i.e. `DummyClassifier`.\n",
    "\n",
    "`DummyClassifier` can use simple hueristics (`strategy`) such as choosing the majority class (`most_frequent`).  Since this will be the best-performing heuristic against our dataset, "
   ]
  },
  {
   "cell_type": "code",
   "execution_count": 220,
   "id": "efba65e6",
   "metadata": {},
   "outputs": [],
   "source": [
    "def find_classifier(classifier_class, classifiers):\n",
    "    return next(clf for clf in classifiers if clf.__class__ == classifier_class)"
   ]
  },
  {
   "cell_type": "code",
   "execution_count": 221,
   "id": "a488513f",
   "metadata": {},
   "outputs": [],
   "source": [
    "from sklearn.metrics import ConfusionMatrixDisplay, confusion_matrix\n",
    "\n",
    "def plot_confusion_matrix(y_predictions, y_true, labels):\n",
    "    cm = confusion_matrix(y_true, y_predictions, normalize=\"true\")\n",
    "    fig, ax = plt.subplots(figsize=(6,6))\n",
    "    disp = ConfusionMatrixDisplay(confusion_matrix=cm, display_labels=labels)\n",
    "    disp.plot(cmap=\"Blues\", values_format=\".2f\", ax=ax, colorbar=False)\n",
    "    plt.title(\"normalized confusion matrix\")\n",
    "    plt.show\n"
   ]
  },
  {
   "cell_type": "code",
   "execution_count": 222,
   "id": "e8dd6146",
   "metadata": {},
   "outputs": [
    {
     "data": {
      "image/png": "[encoded data removed]",
      "text/plain": [
       "<Figure size 600x600 with 1 Axes>"
      ]
     },
     "metadata": {},
     "output_type": "display_data"
    }
   ],
   "source": [
    "lr_clf = find_classifier(LogisticRegression, classifiers)\n",
    "y_preds = lr_clf.predict(X_valid)\n",
    "plot_confusion_matrix(y_preds, y_valid, labels)"
   ]
  },
  {
   "cell_type": "markdown",
   "id": "80ef7dfc",
   "metadata": {},
   "source": [
    "`anger` and `fear` are most often confused with `sadness`, which agress with our initial visualization observation.  \n",
    "`love` and `surprise` are frequently mistaken with `joy`."
   ]
  },
  {
   "cell_type": "code",
   "execution_count": 251,
   "id": "afcbfdd2",
   "metadata": {},
   "outputs": [],
   "source": [
    "def classifier_predict(classifier, tokenizer, labels, text):\n",
    "    tensors = tokenizer(text, return_tensors=\"pt\")\n",
    "    device = torch_device()\n",
    "    inputs = {k:v.to(device) for k, v in tensors.items() \n",
    "              if k in tokenizer.model_input_names}\n",
    "    with torch.no_grad():\n",
    "        last_hidden_state = model(**inputs).last_hidden_state\n",
    "    # vector for [CLS] token\n",
    "    embeddings = last_hidden_state[:,0].cpu().numpy()\n",
    "    predictions = classifier.predict(embeddings)\n",
    "    return labels[predictions[0]]"
   ]
  },
  {
   "cell_type": "code",
   "execution_count": 271,
   "id": "1698089e",
   "metadata": {},
   "outputs": [
    {
     "name": "stdout",
     "output_type": "stream",
     "text": [
      "-----<class 'sklearn.dummy.DummyClassifier'>-----\n",
      "(joy)     I feel so happy that I've met you!\n",
      "(joy)     You suck!\n",
      "(joy)     what is going on with the world?\n",
      "(joy)     wtf is wrong with you?\n",
      "(joy)     wat???\n",
      "(joy)     what is happening here?\n",
      "(joy)     can someone explain what is chatgpt?\n",
      "(joy)     … attack on the military-industrial complex. The lobbying power of large government contractors is far higher than it should be for the good of the people.\n",
      "(joy)     do or doin't. there is no try.\n",
      "(joy)     joy to the world\n",
      "(joy)     Imagination is more important than knowledge\n",
      "(joy)     wow, is this really happening?\n",
      "(joy)     no way.  this cannot be happening.\n",
      "(joy)     I feel so sad. I want to cry.\n",
      "\n",
      "\n",
      "-----<class 'sklearn.linear_model._logistic.LogisticRegression'>-----\n",
      "(joy)     I feel so happy that I've met you!\n",
      "(anger)   You suck!\n",
      "(anger)   what is going on with the world?\n",
      "(sadness) wtf is wrong with you?\n",
      "(sadness) wat???\n",
      "(fear)    what is happening here?\n",
      "(fear)    can someone explain what is chatgpt?\n",
      "(anger)   … attack on the military-industrial complex. The lobbying power of large government contractors is far higher than it should be for the good of the people.\n",
      "(joy)     do or doin't. there is no try.\n",
      "(joy)     joy to the world\n",
      "(joy)     Imagination is more important than knowledge\n",
      "(surprise)wow, is this really happening?\n",
      "(joy)     no way.  this cannot be happening.\n",
      "(sadness) I feel so sad. I want to cry.\n",
      "\n",
      "\n",
      "-----<class 'sklearn.ensemble._weight_boosting.AdaBoostClassifier'>-----\n",
      "(surprise)I feel so happy that I've met you!\n",
      "(anger)   You suck!\n",
      "(fear)    what is going on with the world?\n",
      "(joy)     wtf is wrong with you?\n",
      "(joy)     wat???\n",
      "(surprise)what is happening here?\n",
      "(fear)    can someone explain what is chatgpt?\n",
      "(anger)   … attack on the military-industrial complex. The lobbying power of large government contractors is far higher than it should be for the good of the people.\n",
      "(joy)     do or doin't. there is no try.\n",
      "(joy)     joy to the world\n",
      "(joy)     Imagination is more important than knowledge\n",
      "(surprise)wow, is this really happening?\n",
      "(fear)    no way.  this cannot be happening.\n",
      "(sadness) I feel so sad. I want to cry.\n",
      "\n",
      "\n",
      "-----<class 'sklearn.ensemble._hist_gradient_boosting.gradient_boosting.HistGradientBoostingClassifier'>-----\n",
      "(joy)     I feel so happy that I've met you!\n",
      "(anger)   You suck!\n",
      "(fear)    what is going on with the world?\n",
      "(sadness) wtf is wrong with you?\n",
      "(fear)    wat???\n",
      "(fear)    what is happening here?\n",
      "(fear)    can someone explain what is chatgpt?\n",
      "(anger)   … attack on the military-industrial complex. The lobbying power of large government contractors is far higher than it should be for the good of the people.\n",
      "(joy)     do or doin't. there is no try.\n",
      "(joy)     joy to the world\n",
      "(joy)     Imagination is more important than knowledge\n",
      "(fear)    wow, is this really happening?\n",
      "(sadness) no way.  this cannot be happening.\n",
      "(sadness) I feel so sad. I want to cry.\n",
      "\n",
      "\n",
      "-----<class 'sklearn.ensemble._forest.RandomForestClassifier'>-----\n",
      "(joy)     I feel so happy that I've met you!\n",
      "(anger)   You suck!\n",
      "(sadness) what is going on with the world?\n",
      "(sadness) wtf is wrong with you?\n",
      "(joy)     wat???\n",
      "(fear)    what is happening here?\n",
      "(sadness) can someone explain what is chatgpt?\n",
      "(sadness) … attack on the military-industrial complex. The lobbying power of large government contractors is far higher than it should be for the good of the people.\n",
      "(sadness) do or doin't. there is no try.\n",
      "(joy)     joy to the world\n",
      "(joy)     Imagination is more important than knowledge\n",
      "(joy)     wow, is this really happening?\n",
      "(sadness) no way.  this cannot be happening.\n",
      "(sadness) I feel so sad. I want to cry.\n",
      "\n",
      "\n",
      "-----<class 'sklearn.tree._classes.DecisionTreeClassifier'>-----\n",
      "(joy)     I feel so happy that I've met you!\n",
      "(surprise)You suck!\n",
      "(fear)    what is going on with the world?\n",
      "(joy)     wtf is wrong with you?\n",
      "(anger)   wat???\n",
      "(fear)    what is happening here?\n",
      "(joy)     can someone explain what is chatgpt?\n",
      "(anger)   … attack on the military-industrial complex. The lobbying power of large government contractors is far higher than it should be for the good of the people.\n",
      "(joy)     do or doin't. there is no try.\n",
      "(surprise)joy to the world\n",
      "(sadness) Imagination is more important than knowledge\n",
      "(fear)    wow, is this really happening?\n",
      "(joy)     no way.  this cannot be happening.\n",
      "(sadness) I feel so sad. I want to cry.\n",
      "\n",
      "\n",
      "-----<class 'sklearn.naive_bayes.GaussianNB'>-----\n",
      "(joy)     I feel so happy that I've met you!\n",
      "(anger)   You suck!\n",
      "(fear)    what is going on with the world?\n",
      "(anger)   wtf is wrong with you?\n",
      "(joy)     wat???\n",
      "(fear)    what is happening here?\n",
      "(surprise)can someone explain what is chatgpt?\n",
      "(joy)     … attack on the military-industrial complex. The lobbying power of large government contractors is far higher than it should be for the good of the people.\n",
      "(love)    do or doin't. there is no try.\n",
      "(joy)     joy to the world\n",
      "(joy)     Imagination is more important than knowledge\n",
      "(surprise)wow, is this really happening?\n",
      "(fear)    no way.  this cannot be happening.\n",
      "(sadness) I feel so sad. I want to cry.\n",
      "\n",
      "\n",
      "-----<class 'sklearn.naive_bayes.BernoulliNB'>-----\n",
      "(joy)     I feel so happy that I've met you!\n",
      "(anger)   You suck!\n",
      "(fear)    what is going on with the world?\n",
      "(anger)   wtf is wrong with you?\n",
      "(joy)     wat???\n",
      "(fear)    what is happening here?\n",
      "(fear)    can someone explain what is chatgpt?\n",
      "(anger)   … attack on the military-industrial complex. The lobbying power of large government contractors is far higher than it should be for the good of the people.\n",
      "(love)    do or doin't. there is no try.\n",
      "(love)    joy to the world\n",
      "(joy)     Imagination is more important than knowledge\n",
      "(surprise)wow, is this really happening?\n",
      "(fear)    no way.  this cannot be happening.\n",
      "(sadness) I feel so sad. I want to cry.\n",
      "\n",
      "\n",
      "-----<class 'sklearn.svm._classes.SVC'>-----\n",
      "(joy)     I feel so happy that I've met you!\n",
      "(anger)   You suck!\n",
      "(fear)    what is going on with the world?\n",
      "(sadness) wtf is wrong with you?\n",
      "(fear)    wat???\n",
      "(fear)    what is happening here?\n",
      "(joy)     can someone explain what is chatgpt?\n",
      "(anger)   … attack on the military-industrial complex. The lobbying power of large government contractors is far higher than it should be for the good of the people.\n",
      "(joy)     do or doin't. there is no try.\n",
      "(joy)     joy to the world\n",
      "(joy)     Imagination is more important than knowledge\n",
      "(fear)    wow, is this really happening?\n",
      "(sadness) no way.  this cannot be happening.\n",
      "(sadness) I feel so sad. I want to cry.\n",
      "\n",
      "\n"
     ]
    }
   ],
   "source": [
    "tweets = [\n",
    "    \"I feel so happy that I've met you!\",\n",
    "    \"You suck!\",\n",
    "    \"what is going on with the world?\",\n",
    "    \"wtf is wrong with you?\",\n",
    "    \"wat???\",\n",
    "    \"what is happening here?\", \n",
    "    \"can someone explain what is chatgpt?\",\n",
    "    \"… attack on the military-industrial complex. The lobbying power of large government contractors is far higher than it should be for the good of the people.\",\n",
    "    \"do or doin't. there is no try.\",\n",
    "    \"joy to the world\",\n",
    "    \"Imagination is more important than knowledge\",\n",
    "    \"wow, is this really happening?\",\n",
    "    \"no way.  this cannot be happening.\",\n",
    "    \"I feel so sad. I want to cry.\"\n",
    "]\n",
    "for clf in classifiers:\n",
    "    print(f\"-----{clf.__class__}-----\")\n",
    "    for tweet in tweets:\n",
    "        emotion = f\"({classifier_predict(clf, tokenizer, labels, tweet)})\"\n",
    "        print(f\"{emotion:10}{tweet}\")\n",
    "    print(\"\\n\")"
   ]
  },
  {
   "cell_type": "markdown",
   "id": "05600fdf",
   "metadata": {},
   "source": [
    "## Fine-Tuning Transformers"
   ]
  },
  {
   "cell_type": "markdown",
   "id": "36162613",
   "metadata": {},
   "source": [
    "Fine-tuning does not use hidden states as fixed features, instead the entire model is trained along with the classification head. Training the hidden states that serve as inputs to the lassification "
   ]
  },
  {
   "cell_type": "markdown",
   "id": "19de4bb4",
   "metadata": {},
   "source": [
    "### Loading a pretrained model for classification fine-tuning"
   ]
  },
  {
   "cell_type": "code",
   "execution_count": 244,
   "id": "427a5bd7",
   "metadata": {},
   "outputs": [],
   "source": [
    "from transformers import AutoModelForSequenceClassification\n",
    "\n",
    "num_labels = 6 # 6 emotions\n",
    "model_for_classification = AutoModelForSequenceClassification.from_pretrained(model_ckpt, num_labels=num_labels).to(device)"
   ]
  },
  {
   "cell_type": "markdown",
   "id": "efc6c65a",
   "metadata": {},
   "source": [
    "`AutoModelForSequenceClassification` is like `AutoModel` but with a clasdsification head on top of the pretrained model outputs, which can be easily trained with the base model.  We just need to specified how many labels the model has to predict."
   ]
  },
  {
   "cell_type": "markdown",
   "id": "4f1a9e3f",
   "metadata": {},
   "source": [
    "### Defining the performance metrics"
   ]
  },
  {
   "cell_type": "code",
   "execution_count": 100,
   "id": "af0bfc82",
   "metadata": {},
   "outputs": [],
   "source": [
    "from sklearn.metrics import accuracy_score, f1_score\n",
    "\n",
    "def compute_metrics(pred):\n",
    "    labels = pred.label_ids\n",
    "    preds = pred.predictions.argmax(-1)\n",
    "    f1 = f1_score(labels, preds, average=\"weighted\")\n",
    "    acc = accuracy_score(labels, preds)\n",
    "    return {\"accuracy\": acc, \"f1\": f1}"
   ]
  },
  {
   "cell_type": "markdown",
   "id": "87d91eb8",
   "metadata": {},
   "source": [
    "To monitor metrics during training, we need to define a `compute_metrics()` function for the `Trainer`.  The function receives an `EvalPrediction` object (a named tuple w/ `predicitons` and `labeled_id` attributes).  It needs to return a dictionary that maps each metric's name to its value.  We're using the F1-score and accuracy of the model as our evaulation metrics.\n",
    "\n",
    "`f1_score` is defined as [Harmonic means](https://www.investopedia.com/terms/h/harmonicaverage.asp) of _Precision_ and _Recall_:\n",
    "```\n",
    "1/f1_score = 1/2 * (1/precision + 1/recall)\n",
    "f1_score = (2 * precision * recall)/(precision + recall)\n",
    "```\n",
    "\n",
    "References about evaluation metrics:\n",
    "- [Using Confusion Matrix and Accuracy to Test Classification Models](https://proclusacademy.com/blog/explainer/confusion-matrix-accuracy-classification-models/)\n",
    "- [Precision, Recall, and F1 Score: When Accuracy Betrays You](https://proclusacademy.com/blog/explainer/precision-recall-f1-score-classification-models/).\n",
    "- [Precision, Recall, and F1 Score: A Practical Guide Using Scikit-Learn](https://proclusacademy.com/blog/practical/precision-recall-f1-score-sklearn/)\n"
   ]
  },
  {
   "cell_type": "markdown",
   "id": "e8df4c67",
   "metadata": {},
   "source": [
    "### Training the model"
   ]
  },
  {
   "cell_type": "code",
   "execution_count": 246,
   "id": "d744f288",
   "metadata": {},
   "outputs": [],
   "source": [
    "from transformers import TrainingArguments\n",
    "\n",
    "batch_size = 6\n",
    "logging_steps = len(emotions_encoded['train']) // batch_size\n",
    "model_name = f\"{model_ckpt}-finetuned-emotion\"\n",
    "training_args = TrainingArguments(output_dir=model_name,\n",
    "                                  num_train_epochs=2,\n",
    "                                  learning_rate=2e-5,\n",
    "                                  per_device_train_batch_size=batch_size,\n",
    "                                  per_device_eval_batch_size=batch_size,\n",
    "                                  weight_decay=0.01,\n",
    "                                  evaluation_strategy=\"epoch\",\n",
    "                                  disable_tqdm=False, # progress bar\n",
    "                                  logging_steps = logging_steps,\n",
    "                                  push_to_hub=False,\n",
    "                                  log_level=\"error\")"
   ]
  },
  {
   "cell_type": "code",
   "execution_count": 247,
   "id": "da818667",
   "metadata": {},
   "outputs": [],
   "source": [
    "from transformers import Trainer\n",
    "trainer = Trainer(model=model_for_classification, args=training_args, compute_metrics=compute_metrics,\n",
    "                  train_dataset=emotions_encoded[\"train\"], eval_dataset=emotions_encoded[\"validation\"],\n",
    "                  tokenizer=tokenizer)"
   ]
  },
  {
   "cell_type": "code",
   "execution_count": 248,
   "id": "d7bb2b19",
   "metadata": {},
   "outputs": [
    {
     "name": "stderr",
     "output_type": "stream",
     "text": [
      "/Users/david/code/python/nlp-with-transformers/venv/lib/python3.11/site-packages/transformers/optimization.py:306: FutureWarning: This implementation of AdamW is deprecated and will be removed in a future version. Use the PyTorch implementation torch.optim.AdamW instead, or set `no_deprecation_warning=True` to disable this warning\n",
      "  warnings.warn(\n"
     ]
    },
    {
     "data": {
      "text/html": [
       "\n",
       "    <div>\n",
       "      \n",
       "      <progress value='5334' max='5334' style='width:300px; height:20px; vertical-align: middle;'></progress>\n",
       "      [5334/5334 26:21, Epoch 2/2]\n",
       "    </div>\n",
       "    <table border=\"1\" class=\"dataframe\">\n",
       "  <thead>\n",
       " <tr style=\"text-align: left;\">\n",
       "      <th>Epoch</th>\n",
       "      <th>Training Loss</th>\n",
       "      <th>Validation Loss</th>\n",
       "      <th>Accuracy</th>\n",
       "      <th>F1</th>\n",
       "    </tr>\n",
       "  </thead>\n",
       "  <tbody>\n",
       "    <tr>\n",
       "      <td>1</td>\n",
       "      <td>0.437700</td>\n",
       "      <td>0.219497</td>\n",
       "      <td>0.929500</td>\n",
       "      <td>0.929927</td>\n",
       "    </tr>\n",
       "    <tr>\n",
       "      <td>2</td>\n",
       "      <td>0.166100</td>\n",
       "      <td>0.181977</td>\n",
       "      <td>0.941000</td>\n",
       "      <td>0.940861</td>\n",
       "    </tr>\n",
       "  </tbody>\n",
       "</table><p>"
      ],
      "text/plain": [
       "<IPython.core.display.HTML object>"
      ]
     },
     "metadata": {},
     "output_type": "display_data"
    },
    {
     "data": {
      "text/plain": [
       "TrainOutput(global_step=5334, training_loss=0.3017948163384273, metrics={'train_runtime': 1582.0447, 'train_samples_per_second': 20.227, 'train_steps_per_second': 3.372, 'total_flos': 720342861696000.0, 'train_loss': 0.3017948163384273, 'epoch': 2.0})"
      ]
     },
     "execution_count": 248,
     "metadata": {},
     "output_type": "execute_result"
    }
   ],
   "source": [
    "trainer.train()"
   ]
  },
  {
   "cell_type": "code",
   "execution_count": 116,
   "id": "c535b6fd",
   "metadata": {},
   "outputs": [
    {
     "data": {
      "text/plain": [
       "PredictionOutput(predictions=array([[ 7.5695944, -2.2783434, -2.5306623, -2.0499625, -2.1550262,\n",
       "        -2.9008427],\n",
       "       [ 7.5319633, -2.2156653, -3.0009947, -1.8963985, -1.9080898,\n",
       "        -2.9059296],\n",
       "       [-2.9226015,  2.9242423,  4.962393 , -2.4134972, -2.804844 ,\n",
       "        -2.9553733],\n",
       "       ...,\n",
       "       [-2.4811943,  7.9928765, -0.6634035, -1.9468262, -2.2723792,\n",
       "        -2.1717534],\n",
       "       [-3.3244858,  3.4072359,  4.3355427, -2.0363631, -2.627234 ,\n",
       "        -2.7153826],\n",
       "       [-2.3780553,  8.101249 , -1.2072536, -2.1216896, -2.1702175,\n",
       "        -1.4693774]], dtype=float32), label_ids=array([0, 0, 2, ..., 1, 1, 1]), metrics={'test_loss': 0.17767806351184845, 'test_accuracy': 0.943, 'test_f1': 0.9430318112684176, 'test_runtime': 21.6, 'test_samples_per_second': 92.593, 'test_steps_per_second': 15.463})"
      ]
     },
     "execution_count": 116,
     "metadata": {},
     "output_type": "execute_result"
    }
   ],
   "source": [
    "preds_output = trainer.predict(emotions_encoded['validation'])\n",
    "preds_output"
   ]
  },
  {
   "cell_type": "code",
   "execution_count": 115,
   "id": "9376d8b5",
   "metadata": {},
   "outputs": [
    {
     "data": {
      "text/plain": [
       "Dataset({\n",
       "    features: ['text', 'label', 'input_ids', 'attention_mask'],\n",
       "    num_rows: 2000\n",
       "})"
      ]
     },
     "execution_count": 115,
     "metadata": {},
     "output_type": "execute_result"
    }
   ],
   "source": [
    "emotions_encoded['validation']"
   ]
  },
  {
   "cell_type": "markdown",
   "id": "fa3c1227",
   "metadata": {},
   "source": [
    "`predict()` method retruns a `PredictionOutput` object that contains `arrays` of `predictions` and `label_ids`. "
   ]
  },
  {
   "cell_type": "code",
   "execution_count": 106,
   "id": "75e0c404",
   "metadata": {},
   "outputs": [
    {
     "data": {
      "text/plain": [
       "{'test_loss': 0.17767806351184845,\n",
       " 'test_accuracy': 0.943,\n",
       " 'test_f1': 0.9430318112684176,\n",
       " 'test_runtime': 21.3532,\n",
       " 'test_samples_per_second': 93.663,\n",
       " 'test_steps_per_second': 15.642}"
      ]
     },
     "execution_count": 106,
     "metadata": {},
     "output_type": "execute_result"
    }
   ],
   "source": [
    "preds_output.metrics"
   ]
  },
  {
   "cell_type": "markdown",
   "id": "185d9105",
   "metadata": {},
   "source": [
    "`predictions` is the raw predictions for each class. We can decode the raw predicitons greedily using `np.argmax()`.  This yields the predicted labels and has the same format as the labels returned by the Scikit-learn models in the feature-based approach."
   ]
  },
  {
   "cell_type": "code",
   "execution_count": 161,
   "id": "e93389df",
   "metadata": {},
   "outputs": [
    {
     "data": {
      "text/plain": [
       "array([0, 0, 2, ..., 1, 2, 1])"
      ]
     },
     "execution_count": 161,
     "metadata": {},
     "output_type": "execute_result"
    }
   ],
   "source": [
    "y_preds = np.argmax(preds_output.predictions, axis=1)\n",
    "y_preds"
   ]
  },
  {
   "cell_type": "code",
   "execution_count": 153,
   "id": "b246fe01",
   "metadata": {},
   "outputs": [
    {
     "data": {
      "text/plain": [
       "array([0, 0, 2, ..., 1, 1, 1])"
      ]
     },
     "execution_count": 153,
     "metadata": {},
     "output_type": "execute_result"
    }
   ],
   "source": [
    "preds_output.label_ids # actual labeled ids"
   ]
  },
  {
   "cell_type": "code",
   "execution_count": 163,
   "id": "386b1788",
   "metadata": {},
   "outputs": [
    {
     "name": "stdout",
     "output_type": "stream",
     "text": [
      "114\n"
     ]
    }
   ],
   "source": [
    "diff = (y_preds - preds_output.label_ids)\n",
    "# import sys()\n",
    "# with np.printoptions(threshold=sys.maxsize):\n",
    "#     print(diff)\n",
    "print(np.count_nonzero(diff))"
   ]
  },
  {
   "cell_type": "code",
   "execution_count": 165,
   "id": "a6fb0085",
   "metadata": {},
   "outputs": [
    {
     "data": {
      "text/plain": [
       "(2000, 2000)"
      ]
     },
     "execution_count": 165,
     "metadata": {},
     "output_type": "execute_result"
    }
   ],
   "source": [
    "len(y_preds), len(preds_output.label_ids)"
   ]
  },
  {
   "cell_type": "markdown",
   "id": "c4953705",
   "metadata": {},
   "source": [
    "our predictions has an error rate of 114/2000 = 0.057 (5.7%), or 94.3% accuracy."
   ]
  },
  {
   "cell_type": "code",
   "execution_count": 155,
   "id": "7b92aaeb",
   "metadata": {},
   "outputs": [
    {
     "data": {
      "image/png": "[encoded data removed]",
      "text/plain": [
       "<Figure size 600x600 with 1 Axes>"
      ]
     },
     "metadata": {},
     "output_type": "display_data"
    }
   ],
   "source": [
    "plot_confusion_matrix(y_preds, y_valid, labels)"
   ]
  },
  {
   "cell_type": "markdown",
   "id": "fb49ffed",
   "metadata": {},
   "source": [
    "This is much closer to our ideal diagonal confusion matrix.  The `love` category is still often confused with joy & surpised is mistaken for `fear` or `joy`. "
   ]
  },
  {
   "cell_type": "code",
   "execution_count": 171,
   "id": "64de128b",
   "metadata": {},
   "outputs": [
    {
     "data": {
      "text/plain": [
       "{'text': Value(dtype='string', id=None),\n",
       " 'label': ClassLabel(names=['sadness', 'joy', 'love', 'anger', 'fear', 'surprise'], id=None)}"
      ]
     },
     "execution_count": 171,
     "metadata": {},
     "output_type": "execute_result"
    }
   ],
   "source": [
    "emotions['test'].features"
   ]
  },
  {
   "cell_type": "code",
   "execution_count": 172,
   "id": "187fe70f",
   "metadata": {},
   "outputs": [
    {
     "data": {
      "text/plain": [
       "{'text': Value(dtype='string', id=None),\n",
       " 'label': ClassLabel(names=['sadness', 'joy', 'love', 'anger', 'fear', 'surprise'], id=None),\n",
       " 'input_ids': Sequence(feature=Value(dtype='int32', id=None), length=-1, id=None),\n",
       " 'attention_mask': Sequence(feature=Value(dtype='int8', id=None), length=-1, id=None)}"
      ]
     },
     "execution_count": 172,
     "metadata": {},
     "output_type": "execute_result"
    }
   ],
   "source": [
    "emotions_encoded['test'].features"
   ]
  },
  {
   "cell_type": "code",
   "execution_count": 174,
   "id": "841fb564",
   "metadata": {},
   "outputs": [
    {
     "data": {
      "text/plain": [
       "{'text': 'im feeling rather rotten so im not very ambitious right now',\n",
       " 'label': 0}"
      ]
     },
     "execution_count": 174,
     "metadata": {},
     "output_type": "execute_result"
    }
   ],
   "source": [
    "emotions['test'][0]"
   ]
  },
  {
   "cell_type": "code",
   "execution_count": 274,
   "id": "e1c3b153",
   "metadata": {},
   "outputs": [
    {
     "name": "stdout",
     "output_type": "stream",
     "text": [
      "tweets_ds: Dataset({\n",
      "    features: ['text'],\n",
      "    num_rows: 14\n",
      "})\n"
     ]
    },
    {
     "data": {
      "application/vnd.jupyter.widget-view+json": {
       "model_id": "",
       "version_major": 2,
       "version_minor": 0
      },
      "text/plain": [
       "Map:   0%|          | 0/14 [00:00<?, ? examples/s]"
      ]
     },
     "metadata": {},
     "output_type": "display_data"
    },
    {
     "name": "stdout",
     "output_type": "stream",
     "text": [
      "tweets_encoded: Dataset({\n",
      "    features: ['text', 'input_ids', 'attention_mask'],\n",
      "    num_rows: 14\n",
      "})\n",
      "PredictionOutput(predictions=array([[-2.4050655 ,  7.974109  , -1.0013708 , -2.539317  , -2.7525434 ,\n",
      "        -2.3678005 ],\n",
      "       [-0.29538885,  0.80408496, -2.1107514 ,  3.1372983 , -0.9639336 ,\n",
      "        -3.22886   ],\n",
      "       [-0.9856232 , -0.2841504 , -3.6220284 ,  2.2362924 ,  2.1055999 ,\n",
      "        -2.1823356 ],\n",
      "       [-1.3477324 , -1.1689988 , -3.474562  ,  5.2340226 ,  0.40440294,\n",
      "        -2.924654  ],\n",
      "       [-0.5288272 , -0.19084848, -2.5920334 ,  1.5951625 ,  1.6621213 ,\n",
      "        -2.0128717 ],\n",
      "       [-1.5749325 , -0.71107924, -3.7727745 ,  1.0608923 ,  3.634183  ,\n",
      "        -1.6515876 ],\n",
      "       [-1.1909035 ,  0.40587023, -3.3287578 ,  1.9245574 ,  1.8373855 ,\n",
      "        -1.9805942 ],\n",
      "       [-1.5718445 ,  1.1304473 , -2.0054815 ,  3.6006758 , -0.68181247,\n",
      "        -3.327874  ],\n",
      "       [-0.07804473,  1.3975824 , -2.3609138 ,  2.242118  , -0.3658206 ,\n",
      "        -3.4875476 ],\n",
      "       [-1.3874415 ,  6.241901  , -0.51956445, -1.4984297 , -2.6844137 ,\n",
      "        -2.6333587 ],\n",
      "       [-1.6039727 ,  6.197495  , -1.8546596 , -1.1984559 , -1.9168129 ,\n",
      "        -2.1164076 ],\n",
      "       [-2.2165303 ,  2.4758227 , -4.043396  , -1.1992909 ,  0.8103017 ,\n",
      "         0.37711224],\n",
      "       [-0.21257517,  0.6947955 , -3.1180658 ,  1.6133074 ,  1.4277116 ,\n",
      "        -3.043252  ],\n",
      "       [ 7.602267  , -1.7702292 , -2.0834036 , -2.0617101 , -2.0622911 ,\n",
      "        -2.927483  ]], dtype=float32), label_ids=None, metrics={'test_runtime': 0.1012, 'test_samples_per_second': 138.299, 'test_steps_per_second': 29.635})\n",
      "int_label_preds: [1 3 3 3 4 4 3 3 3 1 1 1 3 0]\n",
      "['joy' 'anger' 'anger' 'anger' 'fear' 'fear' 'anger' 'anger' 'anger' 'joy'\n",
      " 'joy' 'joy' 'anger' 'sadness']\n",
      "(joy)      I feel so happy that I've met you!\n",
      "(anger)    You suck!\n",
      "(anger)    what is going on with the world?\n",
      "(anger)    wtf is wrong with you?\n",
      "(fear)     wat???\n",
      "(fear)     what is happening here?\n",
      "(anger)    can someone explain what is chatgpt?\n",
      "(anger)    … attack on the military-industrial complex. The lobbying power of large government contractors is far higher than it should be for the good of the people.\n",
      "(anger)    do or doin't. there is no try.\n",
      "(joy)      joy to the world\n",
      "(joy)      Imagination is more important than knowledge\n",
      "(joy)      wow, is this really happening?\n",
      "(anger)    no way.  this cannot be happening.\n",
      "(sadness)  I feel so sad. I want to cry.\n"
     ]
    }
   ],
   "source": [
    "# convert inputs (tweets) into a Dataset\n",
    "from datasets import Dataset \n",
    "tweets_ds = Dataset.from_dict({\"text\": tweets})\n",
    "print(f\"tweets_ds: {tweets_ds}\")\n",
    "\n",
    "# encode text as input_ids\n",
    "tweets_encoded = tweets_ds.map(tokenize, batched=True, batch_size=None)\n",
    "print(f\"tweets_encoded: {tweets_encoded}\")\n",
    "\n",
    "# prediction emotions\n",
    "tweets_preds = trainer.predict(tweets_encoded)\n",
    "print(tweets_preds)\n",
    "int_label_preds = np.argmax(tweets_preds.predictions, axis=1)\n",
    "print(f\"int_label_preds: {int_label_preds}\")\n",
    "\n",
    "# convert int_label_preds to labels\n",
    "tweets_pred_emotions = np.vectorize(lambda int_label : labels[int_label])(int_label_preds)\n",
    "print(tweets_pred_emotions)\n",
    "\n",
    "# print predicted labels w/ tweets\n",
    "for i, tweet in enumerate(tweets_ds):\n",
    "    emotion = f\"({tweets_pred_emotions[i]})\"\n",
    "    print(f\"{emotion:10} {tweet['text']}\")"
   ]
  },
  {
   "cell_type": "markdown",
   "id": "3dd44eba",
   "metadata": {
    "heading_collapsed": true
   },
   "source": [
    "####  Uploading Model to Hugging Face"
   ]
  },
  {
   "cell_type": "code",
   "execution_count": 345,
   "id": "208a16c7",
   "metadata": {
    "hidden": true
   },
   "outputs": [
    {
     "data": {
      "application/vnd.jupyter.widget-view+json": {
       "model_id": "906ca589cb35465ab9c6ac5cbbe90094",
       "version_major": 2,
       "version_minor": 0
      },
      "text/plain": [
       "VBox(children=(HTML(value='<center> <img\\nsrc=https://huggingface.co/front/assets/huggingface_logo-noborder.sv…"
      ]
     },
     "metadata": {},
     "output_type": "display_data"
    },
    {
     "name": "stdout",
     "output_type": "stream",
     "text": [
      "huggingface/tokenizers: The current process just got forked, after parallelism has already been used. Disabling parallelism to avoid deadlocks...\n",
      "To disable this warning, you can either:\n",
      "\t- Avoid using `tokenizers` before the fork if possible\n",
      "\t- Explicitly set the environment variable TOKENIZERS_PARALLELISM=(true | false)\n",
      "huggingface/tokenizers: The current process just got forked, after parallelism has already been used. Disabling parallelism to avoid deadlocks...\n",
      "To disable this warning, you can either:\n",
      "\t- Avoid using `tokenizers` before the fork if possible\n",
      "\t- Explicitly set the environment variable TOKENIZERS_PARALLELISM=(true | false)\n",
      "huggingface/tokenizers: The current process just got forked, after parallelism has already been used. Disabling parallelism to avoid deadlocks...\n",
      "To disable this warning, you can either:\n",
      "\t- Avoid using `tokenizers` before the fork if possible\n",
      "\t- Explicitly set the environment variable TOKENIZERS_PARALLELISM=(true | false)\n"
     ]
    }
   ],
   "source": [
    "from huggingface_hub import notebook_login\n",
    "notebook_login()"
   ]
  },
  {
   "cell_type": "code",
   "execution_count": 357,
   "id": "94f6e103",
   "metadata": {
    "hidden": true
   },
   "outputs": [
    {
     "ename": "TypeError",
     "evalue": "Repository.__init__() got an unexpected keyword argument 'private'",
     "output_type": "error",
     "traceback": [
      "\u001b[0;31m---------------------------------------------------------------------------\u001b[0m",
      "\u001b[0;31mTypeError\u001b[0m                                 Traceback (most recent call last)",
      "Cell \u001b[0;32mIn[357], line 2\u001b[0m\n\u001b[1;32m      1\u001b[0m trainer\u001b[38;5;241m.\u001b[39margs\u001b[38;5;241m.\u001b[39mpush_to_hub \u001b[38;5;241m=\u001b[39m \u001b[38;5;28;01mFalse\u001b[39;00m\n\u001b[0;32m----> 2\u001b[0m \u001b[43mtrainer\u001b[49m\u001b[38;5;241;43m.\u001b[39;49m\u001b[43mpush_to_hub\u001b[49m\u001b[43m(\u001b[49m\u001b[43mcommit_message\u001b[49m\u001b[38;5;241;43m=\u001b[39;49m\u001b[38;5;124;43m\"\u001b[39;49m\u001b[38;5;124;43mFinished Emotions fine-tuning from ch2 of nlp-with-transformers.\u001b[39;49m\u001b[38;5;124;43m\"\u001b[39;49m\u001b[43m)\u001b[49m\n",
      "File \u001b[0;32m~/code/python/nlp-with-transformers/venv/lib/python3.11/site-packages/transformers/trainer.py:3065\u001b[0m, in \u001b[0;36mTrainer.push_to_hub\u001b[0;34m(self, commit_message, blocking, **kwargs)\u001b[0m\n\u001b[1;32m   3062\u001b[0m \u001b[38;5;66;03m# If a user calls manually `push_to_hub` with `self.args.push_to_hub = False`, we try to create the repo but\u001b[39;00m\n\u001b[1;32m   3063\u001b[0m \u001b[38;5;66;03m# it might fail.\u001b[39;00m\n\u001b[1;32m   3064\u001b[0m \u001b[38;5;28;01mif\u001b[39;00m \u001b[38;5;129;01mnot\u001b[39;00m \u001b[38;5;28mhasattr\u001b[39m(\u001b[38;5;28mself\u001b[39m, \u001b[38;5;124m\"\u001b[39m\u001b[38;5;124mrepo\u001b[39m\u001b[38;5;124m\"\u001b[39m):\n\u001b[0;32m-> 3065\u001b[0m     \u001b[38;5;28;43mself\u001b[39;49m\u001b[38;5;241;43m.\u001b[39;49m\u001b[43minit_git_repo\u001b[49m\u001b[43m(\u001b[49m\u001b[43m)\u001b[49m\n\u001b[1;32m   3067\u001b[0m \u001b[38;5;28;01mif\u001b[39;00m \u001b[38;5;28mself\u001b[39m\u001b[38;5;241m.\u001b[39margs\u001b[38;5;241m.\u001b[39mshould_save:\n\u001b[1;32m   3068\u001b[0m     \u001b[38;5;28;01mif\u001b[39;00m \u001b[38;5;28mself\u001b[39m\u001b[38;5;241m.\u001b[39margs\u001b[38;5;241m.\u001b[39mhub_model_id \u001b[38;5;129;01mis\u001b[39;00m \u001b[38;5;28;01mNone\u001b[39;00m:\n",
      "File \u001b[0;32m~/code/python/nlp-with-transformers/venv/lib/python3.11/site-packages/transformers/trainer.py:2943\u001b[0m, in \u001b[0;36mTrainer.init_git_repo\u001b[0;34m(self, at_init)\u001b[0m\n\u001b[1;32m   2940\u001b[0m     repo_name \u001b[38;5;241m=\u001b[39m get_full_repo_name(repo_name, token\u001b[38;5;241m=\u001b[39m\u001b[38;5;28mself\u001b[39m\u001b[38;5;241m.\u001b[39margs\u001b[38;5;241m.\u001b[39mhub_token)\n\u001b[1;32m   2942\u001b[0m \u001b[38;5;28;01mtry\u001b[39;00m:\n\u001b[0;32m-> 2943\u001b[0m     \u001b[38;5;28mself\u001b[39m\u001b[38;5;241m.\u001b[39mrepo \u001b[38;5;241m=\u001b[39m \u001b[43mRepository\u001b[49m\u001b[43m(\u001b[49m\n\u001b[1;32m   2944\u001b[0m \u001b[43m        \u001b[49m\u001b[38;5;28;43mself\u001b[39;49m\u001b[38;5;241;43m.\u001b[39;49m\u001b[43margs\u001b[49m\u001b[38;5;241;43m.\u001b[39;49m\u001b[43moutput_dir\u001b[49m\u001b[43m,\u001b[49m\n\u001b[1;32m   2945\u001b[0m \u001b[43m        \u001b[49m\u001b[43mclone_from\u001b[49m\u001b[38;5;241;43m=\u001b[39;49m\u001b[43mrepo_name\u001b[49m\u001b[43m,\u001b[49m\n\u001b[1;32m   2946\u001b[0m \u001b[43m        \u001b[49m\u001b[43muse_auth_token\u001b[49m\u001b[38;5;241;43m=\u001b[39;49m\u001b[43muse_auth_token\u001b[49m\u001b[43m,\u001b[49m\n\u001b[1;32m   2947\u001b[0m \u001b[43m        \u001b[49m\u001b[43mprivate\u001b[49m\u001b[38;5;241;43m=\u001b[39;49m\u001b[38;5;28;43mself\u001b[39;49m\u001b[38;5;241;43m.\u001b[39;49m\u001b[43margs\u001b[49m\u001b[38;5;241;43m.\u001b[39;49m\u001b[43mhub_private_repo\u001b[49m\u001b[43m,\u001b[49m\n\u001b[1;32m   2948\u001b[0m \u001b[43m    \u001b[49m\u001b[43m)\u001b[49m\n\u001b[1;32m   2949\u001b[0m \u001b[38;5;28;01mexcept\u001b[39;00m \u001b[38;5;167;01mEnvironmentError\u001b[39;00m:\n\u001b[1;32m   2950\u001b[0m     \u001b[38;5;28;01mif\u001b[39;00m \u001b[38;5;28mself\u001b[39m\u001b[38;5;241m.\u001b[39margs\u001b[38;5;241m.\u001b[39moverwrite_output_dir \u001b[38;5;129;01mand\u001b[39;00m at_init:\n\u001b[1;32m   2951\u001b[0m         \u001b[38;5;66;03m# Try again after wiping output_dir\u001b[39;00m\n",
      "File \u001b[0;32m~/code/python/nlp-with-transformers/venv/lib/python3.11/site-packages/huggingface_hub/utils/_validators.py:118\u001b[0m, in \u001b[0;36mvalidate_hf_hub_args.<locals>._inner_fn\u001b[0;34m(*args, **kwargs)\u001b[0m\n\u001b[1;32m    115\u001b[0m \u001b[38;5;28;01mif\u001b[39;00m check_use_auth_token:\n\u001b[1;32m    116\u001b[0m     kwargs \u001b[38;5;241m=\u001b[39m smoothly_deprecate_use_auth_token(fn_name\u001b[38;5;241m=\u001b[39mfn\u001b[38;5;241m.\u001b[39m\u001b[38;5;18m__name__\u001b[39m, has_token\u001b[38;5;241m=\u001b[39mhas_token, kwargs\u001b[38;5;241m=\u001b[39mkwargs)\n\u001b[0;32m--> 118\u001b[0m \u001b[38;5;28;01mreturn\u001b[39;00m \u001b[43mfn\u001b[49m\u001b[43m(\u001b[49m\u001b[38;5;241;43m*\u001b[39;49m\u001b[43margs\u001b[49m\u001b[43m,\u001b[49m\u001b[43m \u001b[49m\u001b[38;5;241;43m*\u001b[39;49m\u001b[38;5;241;43m*\u001b[39;49m\u001b[43mkwargs\u001b[49m\u001b[43m)\u001b[49m\n",
      "\u001b[0;31mTypeError\u001b[0m: Repository.__init__() got an unexpected keyword argument 'private'"
     ]
    }
   ],
   "source": [
    "# this doesn't work at the moment as we need to upgrade transformers to the latest version\n",
    "# but it still requires Tensorflow < 2.13 since Tensorflow 2.13 is still in rc2.\n",
    "trainer.args.push_to_hub = False\n",
    "trainer.push_to_hub(commit_message=\"Finished Emotions fine-tuning from ch2 of nlp-with-transformers.\")"
   ]
  },
  {
   "cell_type": "markdown",
   "id": "03ea1a3e",
   "metadata": {},
   "source": [
    "#### Save the models locally"
   ]
  },
  {
   "cell_type": "markdown",
   "id": "b0d6ee67",
   "metadata": {},
   "source": [
    "To save the model locally, we can use the `Trainer.save_model()` method."
   ]
  },
  {
   "cell_type": "code",
   "execution_count": 353,
   "id": "1afc20b5",
   "metadata": {},
   "outputs": [],
   "source": [
    "local_model_path = \"./models/distilbert-base-uncased-finetuned-emotion/\"\n",
    "trainer.save_model(local_model_path)"
   ]
  },
  {
   "cell_type": "code",
   "execution_count": 354,
   "id": "563bcd5a",
   "metadata": {},
   "outputs": [
    {
     "data": {
      "text/plain": [
       "DistilBertForSequenceClassification(\n",
       "  (distilbert): DistilBertModel(\n",
       "    (embeddings): Embeddings(\n",
       "      (word_embeddings): Embedding(30522, 768, padding_idx=0)\n",
       "      (position_embeddings): Embedding(512, 768)\n",
       "      (LayerNorm): LayerNorm((768,), eps=1e-12, elementwise_affine=True)\n",
       "      (dropout): Dropout(p=0.1, inplace=False)\n",
       "    )\n",
       "    (transformer): Transformer(\n",
       "      (layer): ModuleList(\n",
       "        (0-5): 6 x TransformerBlock(\n",
       "          (attention): MultiHeadSelfAttention(\n",
       "            (dropout): Dropout(p=0.1, inplace=False)\n",
       "            (q_lin): Linear(in_features=768, out_features=768, bias=True)\n",
       "            (k_lin): Linear(in_features=768, out_features=768, bias=True)\n",
       "            (v_lin): Linear(in_features=768, out_features=768, bias=True)\n",
       "            (out_lin): Linear(in_features=768, out_features=768, bias=True)\n",
       "          )\n",
       "          (sa_layer_norm): LayerNorm((768,), eps=1e-12, elementwise_affine=True)\n",
       "          (ffn): FFN(\n",
       "            (dropout): Dropout(p=0.1, inplace=False)\n",
       "            (lin1): Linear(in_features=768, out_features=3072, bias=True)\n",
       "            (lin2): Linear(in_features=3072, out_features=768, bias=True)\n",
       "            (activation): GELUActivation()\n",
       "          )\n",
       "          (output_layer_norm): LayerNorm((768,), eps=1e-12, elementwise_affine=True)\n",
       "        )\n",
       "      )\n",
       "    )\n",
       "  )\n",
       "  (pre_classifier): Linear(in_features=768, out_features=768, bias=True)\n",
       "  (classifier): Linear(in_features=768, out_features=6, bias=True)\n",
       "  (dropout): Dropout(p=0.2, inplace=False)\n",
       ")"
      ]
     },
     "execution_count": 354,
     "metadata": {},
     "output_type": "execute_result"
    }
   ],
   "source": [
    "local_model = AutoModelForSequenceClassification.from_pretrained(local_model_path, \n",
    "                                                                 num_labels=num_labels,\n",
    "                                                                 label2id={'sadness':0, 'joy':1, 'love':2, 'anger':3, 'fear':4, 'surprise':5},\n",
    "                                                                 id2label={0:'sadness', 1:'joy', 2:'love', 3:'anger', 4:'fear', 5:'surprise'},\n",
    "                                                                )\n",
    "local_model"
   ]
  },
  {
   "cell_type": "code",
   "execution_count": 323,
   "id": "c0ba0cd5",
   "metadata": {},
   "outputs": [
    {
     "data": {
      "text/plain": [
       "DistilBertForSequenceClassification(\n",
       "  (distilbert): DistilBertModel(\n",
       "    (embeddings): Embeddings(\n",
       "      (word_embeddings): Embedding(30522, 768, padding_idx=0)\n",
       "      (position_embeddings): Embedding(512, 768)\n",
       "      (LayerNorm): LayerNorm((768,), eps=1e-12, elementwise_affine=True)\n",
       "      (dropout): Dropout(p=0.1, inplace=False)\n",
       "    )\n",
       "    (transformer): Transformer(\n",
       "      (layer): ModuleList(\n",
       "        (0-5): 6 x TransformerBlock(\n",
       "          (attention): MultiHeadSelfAttention(\n",
       "            (dropout): Dropout(p=0.1, inplace=False)\n",
       "            (q_lin): Linear(in_features=768, out_features=768, bias=True)\n",
       "            (k_lin): Linear(in_features=768, out_features=768, bias=True)\n",
       "            (v_lin): Linear(in_features=768, out_features=768, bias=True)\n",
       "            (out_lin): Linear(in_features=768, out_features=768, bias=True)\n",
       "          )\n",
       "          (sa_layer_norm): LayerNorm((768,), eps=1e-12, elementwise_affine=True)\n",
       "          (ffn): FFN(\n",
       "            (dropout): Dropout(p=0.1, inplace=False)\n",
       "            (lin1): Linear(in_features=768, out_features=3072, bias=True)\n",
       "            (lin2): Linear(in_features=3072, out_features=768, bias=True)\n",
       "            (activation): GELUActivation()\n",
       "          )\n",
       "          (output_layer_norm): LayerNorm((768,), eps=1e-12, elementwise_affine=True)\n",
       "        )\n",
       "      )\n",
       "    )\n",
       "  )\n",
       "  (pre_classifier): Linear(in_features=768, out_features=768, bias=True)\n",
       "  (classifier): Linear(in_features=768, out_features=6, bias=True)\n",
       "  (dropout): Dropout(p=0.2, inplace=False)\n",
       ")"
      ]
     },
     "execution_count": 323,
     "metadata": {},
     "output_type": "execute_result"
    }
   ],
   "source": [
    "from transformers import TextClassificationPipeline\n",
    "local_tokenizer = AutoTokenizer.from_pretrained(local_model_path)\n",
    "local_pipe = TextClassificationPipeline(model=local_model, tokenizer=local_tokenizer)\n",
    "# torch.device('mps') is throwing: RuntimeError: Placeholder storage has not been allocated on MPS device!\n",
    "# we'll switch to cpu for prediction for now.\n",
    "local_model.to(torch.device('cpu'))"
   ]
  },
  {
   "cell_type": "code",
   "execution_count": 339,
   "id": "04e642c4",
   "metadata": {},
   "outputs": [
    {
     "name": "stdout",
     "output_type": "stream",
     "text": [
      "I feel so happy that I've met you!\n",
      "[{'label': 'joy', 'score': 0.9997610449790955}]\n",
      "You suck!\n",
      "[{'label': 'anger', 'score': 0.8674440979957581}]\n",
      "what is going on with the world?\n",
      "[{'label': 'anger', 'score': 0.4968463182449341}]\n",
      "wtf is wrong with you?\n",
      "[{'label': 'anger', 'score': 0.9886475205421448}]\n",
      "wat???\n",
      "[{'label': 'fear', 'score': 0.4457583725452423}]\n",
      "what is happening here?\n",
      "[{'label': 'fear', 'score': 0.9087695479393005}]\n",
      "can someone explain what is chatgpt?\n",
      "[{'label': 'anger', 'score': 0.45346468687057495}]\n",
      "… attack on the military-industrial complex. The lobbying power of large government contractors is far higher than it should be for the good of the people.\n",
      "[{'label': 'anger', 'score': 0.9019584655761719}]\n",
      "do or doin't. there is no try.\n",
      "[{'label': 'anger', 'score': 0.6192066073417664}]\n",
      "joy to the world\n",
      "[{'label': 'joy', 'score': 0.9976544976234436}]\n",
      "Imagination is more important than knowledge\n",
      "[{'label': 'joy', 'score': 0.9981180429458618}]\n",
      "wow, is this really happening?\n",
      "[{'label': 'joy', 'score': 0.7420080304145813}]\n",
      "no way.  this cannot be happening.\n",
      "[{'label': 'anger', 'score': 0.41509053111076355}]\n",
      "I feel so sad. I want to cry.\n",
      "[{'label': 'sadness', 'score': 0.9996991157531738}]\n"
     ]
    }
   ],
   "source": [
    "for tweet in tweets:\n",
    "    # pred = local_pipe(tweet, return_all_scores=True)\n",
    "    pred = local_pipe(tweet)\n",
    "    print(tweet)\n",
    "    print(pred)"
   ]
  },
  {
   "cell_type": "markdown",
   "id": "93055a0a",
   "metadata": {
    "heading_collapsed": true
   },
   "source": [
    "#### Fine-Tunning with Keras (TensorFlow)"
   ]
  },
  {
   "cell_type": "markdown",
   "id": "39cda16c",
   "metadata": {
    "hidden": true
   },
   "source": [
    "For Tensorflow, we can use the Keras API.  The main difference from the PyTorch API is that there is not `Traner` class, since Keras models already provide a built-in `fit()` method for training. "
   ]
  },
  {
   "cell_type": "code",
   "execution_count": 389,
   "id": "d5bc67b9",
   "metadata": {
    "hidden": true
   },
   "outputs": [
    {
     "data": {
      "text/plain": [
       "<transformers.models.distilbert.modeling_tf_distilbert.TFDistilBertForSequenceClassification at 0x2c1cde810>"
      ]
     },
     "execution_count": 389,
     "metadata": {},
     "output_type": "execute_result"
    }
   ],
   "source": [
    "from transformers import TFAutoModelForSequenceClassification\n",
    "\n",
    "tf_model_for_classification = TFAutoModelForSequenceClassification.from_pretrained(model_ckpt, \n",
    "                                                                                  num_labels=num_labels)\n",
    "tf_model_for_classification"
   ]
  },
  {
   "cell_type": "markdown",
   "id": "1f6274c2",
   "metadata": {
    "hidden": true
   },
   "source": [
    "We'll need to convert our datasets into the `tf.data.Datatset` format. Because we have already padded our otenized inputs, we can do this conversion easily by applying the `to_tf_dataset()` method to `emotions_encoded`.  We also shuffle the training dataset and definied the batch_size."
   ]
  },
  {
   "cell_type": "code",
   "execution_count": 334,
   "id": "448747ca",
   "metadata": {
    "hidden": true
   },
   "outputs": [],
   "source": [
    "# The column names to convert to TensorFlow tensors\n",
    "tokenizer_columns = tokenizer.model_input_names\n",
    "\n",
    "tf_train_dataset = emotions_encoded['train'].to_tf_dataset(columns=tokenizer_columns, \n",
    "                                                           label_cols=['label'], \n",
    "                                                           shuffle=True,\n",
    "                                                           batch_size=batch_size)\n",
    "tf_eval_dataset = emotions_encoded['validation'].to_tf_dataset(columns=tokenizer_columns, \n",
    "                                                           label_cols=['label'], \n",
    "                                                           shuffle=False,\n",
    "                                                           batch_size=batch_size)\n"
   ]
  },
  {
   "cell_type": "code",
   "execution_count": 337,
   "id": "70bb58bd",
   "metadata": {
    "hidden": true
   },
   "outputs": [],
   "source": [
    "import tensorflow as tf\n",
    "\n",
    "tf_model_for_classification.compile(\n",
    "#     optimizer=tf.keras.optimizers.Adam(learning_rate=5e-5),\n",
    "# WARNING:absl:At this time, the v2.11+ optimizer `tf.keras.optimizers.Adam` runs \n",
    "# slowly on M1/M2 Macs, please use the legacy Keras optimizer instead, \n",
    "# located at `tf.keras.optimizers.legacy.Adam`.\n",
    "    optimizer=tf.keras.optimizers.legacy.Adam(learning_rate=5e-5),\n",
    "    loss=tf.keras.losses.SparseCategoricalCrossentropy(from_logits=True),\n",
    "    metrics=tf.metrics.SparseCategoricalAccuracy())"
   ]
  },
  {
   "cell_type": "code",
   "execution_count": 338,
   "id": "9ecb44d3",
   "metadata": {
    "hidden": true
   },
   "outputs": [
    {
     "name": "stdout",
     "output_type": "stream",
     "text": [
      "Epoch 1/2\n"
     ]
    },
    {
     "name": "stderr",
     "output_type": "stream",
     "text": [
      "2023-06-21 16:54:42.251732: I tensorflow/core/grappler/optimizers/custom_graph_optimizer_registry.cc:114] Plugin optimizer for device_type GPU is enabled.\n"
     ]
    },
    {
     "name": "stdout",
     "output_type": "stream",
     "text": [
      "2667/2667 [==============================] - ETA: 0s - loss: 0.4167 - sparse_categorical_accuracy: 0.8532"
     ]
    },
    {
     "name": "stderr",
     "output_type": "stream",
     "text": [
      "2023-06-21 16:58:42.418298: I tensorflow/core/grappler/optimizers/custom_graph_optimizer_registry.cc:114] Plugin optimizer for device_type GPU is enabled.\n"
     ]
    },
    {
     "name": "stdout",
     "output_type": "stream",
     "text": [
      "2667/2667 [==============================] - 261s 95ms/step - loss: 0.4167 - sparse_categorical_accuracy: 0.8532 - val_loss: 0.2001 - val_sparse_categorical_accuracy: 0.9240\n",
      "Epoch 2/2\n",
      "2667/2667 [==============================] - 254s 95ms/step - loss: 0.1618 - sparse_categorical_accuracy: 0.9303 - val_loss: 0.1859 - val_sparse_categorical_accuracy: 0.9215\n"
     ]
    },
    {
     "data": {
      "text/plain": [
       "<keras.src.callbacks.History at 0x38e97ffd0>"
      ]
     },
     "execution_count": 338,
     "metadata": {},
     "output_type": "execute_result"
    }
   ],
   "source": [
    "tf_model_for_classification.fit(tf_train_dataset, validation_data=tf_eval_dataset, epochs=2)"
   ]
  },
  {
   "cell_type": "code",
   "execution_count": 362,
   "id": "9d2d23c8",
   "metadata": {
    "hidden": true
   },
   "outputs": [],
   "source": [
    "local_tf_model_path = \"./models/tf-distilbert-base-uncased-finetuned-emotion\"\n",
    "tf_model_for_classification.save_pretrained(local_tf_model_path)"
   ]
  },
  {
   "cell_type": "code",
   "execution_count": 393,
   "id": "351f148a",
   "metadata": {
    "hidden": true
   },
   "outputs": [
    {
     "data": {
      "text/plain": [
       "<transformers.models.distilbert.modeling_tf_distilbert.TFDistilBertForSequenceClassification at 0x75ea19b50>"
      ]
     },
     "execution_count": 393,
     "metadata": {},
     "output_type": "execute_result"
    }
   ],
   "source": [
    "local_tf_model = TFAutoModelForSequenceClassification.from_pretrained(local_tf_model_path, \n",
    "                                                                      num_labels=num_labels,\n",
    "                                                                      label2id={'sadness':0, 'joy':1, 'love':2, 'anger':3, 'fear':4, 'surprise':5},\n",
    "                                                                      id2label={0:'sadness', 1:'joy', 2:'love', 3:'anger', 4:'fear', 5:'surprise'},\n",
    "                                                                     )\n",
    "local_tf_model"
   ]
  },
  {
   "cell_type": "code",
   "execution_count": 407,
   "id": "5421b8be",
   "metadata": {
    "hidden": true
   },
   "outputs": [
    {
     "data": {
      "text/plain": [
       "<tf.Tensor: shape=(1, 5), dtype=int32, numpy=array([[  101,  2017, 11891,   999,   102]], dtype=int32)>"
      ]
     },
     "execution_count": 407,
     "metadata": {},
     "output_type": "execute_result"
    }
   ],
   "source": [
    "local_tf_encoded_input = local_tokenizer.encode(\"You suck!\", padding=True, truncation=True, return_tensors=\"tf\")\n",
    "local_tf_encoded_input"
   ]
  },
  {
   "cell_type": "code",
   "execution_count": 411,
   "id": "c5dfca8c",
   "metadata": {
    "hidden": true
   },
   "outputs": [
    {
     "data": {
      "text/plain": [
       "TFSequenceClassifierOutput(loss=None, logits=<tf.Tensor: shape=(1, 6), dtype=float32, numpy=\n",
       "array([[-0.13896966,  1.0460713 , -1.3655035 ,  0.7820544 ,  0.18823323,\n",
       "        -0.58504486]], dtype=float32)>, hidden_states=None, attentions=None)"
      ]
     },
     "execution_count": 411,
     "metadata": {},
     "output_type": "execute_result"
    }
   ],
   "source": [
    "local_tf_pred = local_tf_model(local_tf_encoded_input)\n",
    "local_tf_pred"
   ]
  },
  {
   "cell_type": "code",
   "execution_count": 412,
   "id": "3e9e0e8e",
   "metadata": {
    "hidden": true
   },
   "outputs": [
    {
     "data": {
      "text/plain": [
       "<tf.Tensor: shape=(1, 6), dtype=float32, numpy=\n",
       "array([[-0.13896966,  1.0460713 , -1.3655035 ,  0.7820544 ,  0.18823323,\n",
       "        -0.58504486]], dtype=float32)>"
      ]
     },
     "execution_count": 412,
     "metadata": {},
     "output_type": "execute_result"
    }
   ],
   "source": [
    "local_tf_pred_logits = local_tf_pred[0]\n",
    "local_tf_pred_logits"
   ]
  },
  {
   "cell_type": "code",
   "execution_count": 413,
   "id": "d21e3dc8",
   "metadata": {
    "hidden": true
   },
   "outputs": [
    {
     "name": "stdout",
     "output_type": "stream",
     "text": [
      "The prediction probs are: [[0.10985138 0.3593042  0.03222023 0.27593145 0.15237297 0.07031978]]\n"
     ]
    }
   ],
   "source": [
    "local_tf_pred_probs = tf.nn.softmax(local_tf_pred_logits,axis=1).numpy()\n",
    "print(f'The prediction probs are: {local_tf_pred_probs}')"
   ]
  },
  {
   "cell_type": "code",
   "execution_count": 414,
   "id": "40db6665",
   "metadata": {
    "hidden": true
   },
   "outputs": [
    {
     "data": {
      "text/plain": [
       "'joy'"
      ]
     },
     "execution_count": 414,
     "metadata": {},
     "output_type": "execute_result"
    }
   ],
   "source": [
    "labels[local_tf_pred_probs[0].argmax(-1)]"
   ]
  },
  {
   "cell_type": "code",
   "execution_count": 415,
   "id": "14f13622",
   "metadata": {
    "hidden": true
   },
   "outputs": [
    {
     "name": "stdout",
     "output_type": "stream",
     "text": [
      "sadness: 0.10985138267278671\n",
      "joy: 0.35930418968200684\n",
      "love: 0.032220225781202316\n",
      "anger: 0.2759314477443695\n",
      "fear: 0.15237297117710114\n",
      "surprise: 0.0703197792172432\n"
     ]
    }
   ],
   "source": [
    "for i, probability in enumerate(local_tf_pred_probs[0]):\n",
    "    print(f\"{labels[i]}: {probability}\")"
   ]
  },
  {
   "cell_type": "code",
   "execution_count": 394,
   "id": "a3d0ddc1",
   "metadata": {
    "hidden": true
   },
   "outputs": [
    {
     "name": "stdout",
     "output_type": "stream",
     "text": [
      "I feel so happy that I've met you!\n",
      "[{'label': 'joy', 'score': 0.8764247298240662}]\n",
      "You suck!\n",
      "[{'label': 'joy', 'score': 0.35930442810058594}]\n",
      "what is going on with the world?\n",
      "[{'label': 'fear', 'score': 0.8139909505844116}]\n",
      "wtf is wrong with you?\n",
      "[{'label': 'anger', 'score': 0.9559595584869385}]\n",
      "wat???\n",
      "[{'label': 'fear', 'score': 0.7025518417358398}]\n",
      "what is happening here?\n",
      "[{'label': 'fear', 'score': 0.7944713234901428}]\n",
      "can someone explain what is chatgpt?\n",
      "[{'label': 'fear', 'score': 0.7592072486877441}]\n",
      "… attack on the military-industrial complex. The lobbying power of large government contractors is far higher than it should be for the good of the people.\n",
      "[{'label': 'anger', 'score': 0.444684237241745}]\n",
      "do or doin't. there is no try.\n",
      "[{'label': 'fear', 'score': 0.6147090792655945}]\n",
      "joy to the world\n",
      "[{'label': 'joy', 'score': 0.8273923397064209}]\n",
      "Imagination is more important than knowledge\n",
      "[{'label': 'joy', 'score': 0.955780029296875}]\n",
      "wow, is this really happening?\n",
      "[{'label': 'joy', 'score': 0.47851771116256714}]\n",
      "no way.  this cannot be happening.\n",
      "[{'label': 'fear', 'score': 0.5981571674346924}]\n",
      "I feel so sad. I want to cry.\n",
      "[{'label': 'sadness', 'score': 0.8956495523452759}]\n"
     ]
    }
   ],
   "source": [
    "local_tf_pipe = TextClassificationPipeline(model=local_tf_model, tokenizer=local_tokenizer)\n",
    "for tweet in tweets:\n",
    "    # pred = local_pipe(tweet, return_all_scores=True)\n",
    "    pred = local_tf_pipe(tweet)\n",
    "    print(tweet)\n",
    "    print(pred)"
   ]
  },
  {
   "cell_type": "code",
   "execution_count": 416,
   "id": "feb32fdd",
   "metadata": {
    "hidden": true
   },
   "outputs": [
    {
     "name": "stderr",
     "output_type": "stream",
     "text": [
      "/Users/david/code/python/nlp-with-transformers/venv/lib/python3.11/site-packages/datasets/arrow_dataset.py:388: FutureWarning: The output of `to_tf_dataset` will change when a passing single element list for `labels` or `columns` in the next datasets version. To return a tuple structure rather than dict, pass a single string.\n",
      "Old behaviour: columns=['a'], labels=['labels'] -> (tf.Tensor, tf.Tensor)  \n",
      "             : columns='a', labels='labels' -> (tf.Tensor, tf.Tensor)  \n",
      "New behaviour: columns=['a'],labels=['labels'] -> ({'a': tf.Tensor}, {'labels': tf.Tensor})  \n",
      "             : columns='a', labels='labels' -> (tf.Tensor, tf.Tensor) \n",
      "  warnings.warn(\n"
     ]
    }
   ],
   "source": [
    "tf_valid_dataset = emotions_encoded['validation'].to_tf_dataset(columns=tokenizer_columns, \n",
    "                                                           label_cols=['label'], \n",
    "                                                           shuffle=False,\n",
    "                                                           batch_size=batch_size)\n"
   ]
  },
  {
   "cell_type": "code",
   "execution_count": 433,
   "id": "8aa8e702",
   "metadata": {
    "hidden": true
   },
   "outputs": [
    {
     "name": "stdout",
     "output_type": "stream",
     "text": [
      "334/334 [==============================] - 16s 48ms/step\n"
     ]
    }
   ],
   "source": [
    "tf_y_preds_output = local_tf_model.predict(tf_valid_dataset)"
   ]
  },
  {
   "cell_type": "code",
   "execution_count": 435,
   "id": "4e917043",
   "metadata": {
    "hidden": true
   },
   "outputs": [
    {
     "data": {
      "text/plain": [
       "array([0, 0, 2, ..., 1, 2, 1])"
      ]
     },
     "execution_count": 435,
     "metadata": {},
     "output_type": "execute_result"
    }
   ],
   "source": [
    "tf_y_preds = np.argmax(tf_y_preds_output.logits, axis=1)\n",
    "tf_y_preds"
   ]
  },
  {
   "cell_type": "code",
   "execution_count": 436,
   "id": "59d6a966",
   "metadata": {
    "hidden": true
   },
   "outputs": [
    {
     "data": {
      "image/png": "[encoded data removed]",
      "text/plain": [
       "<Figure size 600x600 with 1 Axes>"
      ]
     },
     "metadata": {},
     "output_type": "display_data"
    }
   ],
   "source": [
    "plot_confusion_matrix(y_preds, y_valid, labels)"
   ]
  },
  {
   "cell_type": "markdown",
   "id": "ceec1343",
   "metadata": {},
   "source": [
    "#### Error Analysis"
   ]
  },
  {
   "cell_type": "markdown",
   "id": "e00d4970",
   "metadata": {},
   "source": [
    "A simple (yet powerful) technique to investigate our model's predictions is to sort the validation samples by the model's loss.  When we pass the label during the forward pass, the loss is automatically calculated and returend. "
   ]
  },
  {
   "cell_type": "code",
   "execution_count": 448,
   "id": "ef2099e5",
   "metadata": {},
   "outputs": [],
   "source": [
    "from torch.nn.functional import cross_entropy\n",
    "local_model.to(device) # set local model back to device\n",
    "def forward_pass_with_label(batch):\n",
    "    # place all input tensors on the same device as the model\n",
    "    inputs = {k:v.to(device) for k,v in batch.items() if k in tokenizer.model_input_names}\n",
    "\n",
    "    with torch.no_grad():\n",
    "        output = local_model(**inputs)\n",
    "        pred_label = torch.argmax(output.logits, axis=-1)\n",
    "        loss = cross_entropy(output.logits, batch[\"label\"].to(device), reduction=\"none\")\n",
    "    # place output on CPU for compatibility with other dataset columns\n",
    "    return {\"loss\": loss.cpu().numpy(), \"predicted_label\": pred_label.cpu().numpy()}"
   ]
  },
  {
   "cell_type": "code",
   "execution_count": 454,
   "id": "21a3c8d4",
   "metadata": {},
   "outputs": [
    {
     "data": {
      "application/vnd.jupyter.widget-view+json": {
       "model_id": "",
       "version_major": 2,
       "version_minor": 0
      },
      "text/plain": [
       "Map:   0%|          | 0/2000 [00:00<?, ? examples/s]"
      ]
     },
     "metadata": {},
     "output_type": "display_data"
    },
    {
     "data": {
      "text/plain": [
       "Dataset({\n",
       "    features: ['text', 'label', 'input_ids', 'attention_mask', 'loss', 'predicted_label'],\n",
       "    num_rows: 2000\n",
       "})"
      ]
     },
     "execution_count": 454,
     "metadata": {},
     "output_type": "execute_result"
    }
   ],
   "source": [
    "# convert dataset back to PyTorch tensors\n",
    "emotions_encoded.set_format(\"torch\", columns=[\"input_ids\", \"attention_mask\", \"label\"])\n",
    "\n",
    "# compute loss values\n",
    "df_validation = emotions_encoded[\"validation\"].map(forward_pass_with_label, batched=True, batch_size=16)\n",
    "df_validation.set_format('pandas')\n",
    "df_validation"
   ]
  },
  {
   "cell_type": "code",
   "execution_count": 462,
   "id": "488e2afc",
   "metadata": {},
   "outputs": [
    {
     "data": {
      "text/html": [
       "<div>\n",
       "<style scoped>\n",
       "    .dataframe tbody tr th:only-of-type {\n",
       "        vertical-align: middle;\n",
       "    }\n",
       "\n",
       "    .dataframe tbody tr th {\n",
       "        vertical-align: top;\n",
       "    }\n",
       "\n",
       "    .dataframe thead th {\n",
       "        text-align: right;\n",
       "    }\n",
       "</style>\n",
       "<table border=\"1\" class=\"dataframe\">\n",
       "  <thead>\n",
       "    <tr style=\"text-align: right;\">\n",
       "      <th></th>\n",
       "      <th>text</th>\n",
       "      <th>label</th>\n",
       "      <th>predicted_label</th>\n",
       "      <th>loss</th>\n",
       "    </tr>\n",
       "  </thead>\n",
       "  <tbody>\n",
       "    <tr>\n",
       "      <th>0</th>\n",
       "      <td>im feeling quite sad and sorry for myself but ...</td>\n",
       "      <td>0</td>\n",
       "      <td>0</td>\n",
       "      <td>0.000287</td>\n",
       "    </tr>\n",
       "    <tr>\n",
       "      <th>1</th>\n",
       "      <td>i feel like i am still looking at a blank canv...</td>\n",
       "      <td>0</td>\n",
       "      <td>0</td>\n",
       "      <td>0.000300</td>\n",
       "    </tr>\n",
       "    <tr>\n",
       "      <th>2</th>\n",
       "      <td>i feel like a faithful servant</td>\n",
       "      <td>2</td>\n",
       "      <td>2</td>\n",
       "      <td>0.230387</td>\n",
       "    </tr>\n",
       "    <tr>\n",
       "      <th>3</th>\n",
       "      <td>i am just feeling cranky and blue</td>\n",
       "      <td>3</td>\n",
       "      <td>3</td>\n",
       "      <td>0.000572</td>\n",
       "    </tr>\n",
       "    <tr>\n",
       "      <th>4</th>\n",
       "      <td>i can have for a treat or if i am feeling festive</td>\n",
       "      <td>1</td>\n",
       "      <td>1</td>\n",
       "      <td>0.000250</td>\n",
       "    </tr>\n",
       "    <tr>\n",
       "      <th>...</th>\n",
       "      <td>...</td>\n",
       "      <td>...</td>\n",
       "      <td>...</td>\n",
       "      <td>...</td>\n",
       "    </tr>\n",
       "    <tr>\n",
       "      <th>1995</th>\n",
       "      <td>im having ssa examination tomorrow in the morn...</td>\n",
       "      <td>0</td>\n",
       "      <td>0</td>\n",
       "      <td>0.000275</td>\n",
       "    </tr>\n",
       "    <tr>\n",
       "      <th>1996</th>\n",
       "      <td>i constantly worry about their fight against n...</td>\n",
       "      <td>1</td>\n",
       "      <td>1</td>\n",
       "      <td>0.000263</td>\n",
       "    </tr>\n",
       "    <tr>\n",
       "      <th>1997</th>\n",
       "      <td>i feel its important to share this info for th...</td>\n",
       "      <td>1</td>\n",
       "      <td>1</td>\n",
       "      <td>0.000321</td>\n",
       "    </tr>\n",
       "    <tr>\n",
       "      <th>1998</th>\n",
       "      <td>i truly feel that if you are passionate enough...</td>\n",
       "      <td>1</td>\n",
       "      <td>2</td>\n",
       "      <td>1.531131</td>\n",
       "    </tr>\n",
       "    <tr>\n",
       "      <th>1999</th>\n",
       "      <td>i feel like i just wanna buy any cute make up ...</td>\n",
       "      <td>1</td>\n",
       "      <td>1</td>\n",
       "      <td>0.000224</td>\n",
       "    </tr>\n",
       "  </tbody>\n",
       "</table>\n",
       "<p>2000 rows × 4 columns</p>\n",
       "</div>"
      ],
      "text/plain": [
       "                                                   text  label  \\\n",
       "0     im feeling quite sad and sorry for myself but ...      0   \n",
       "1     i feel like i am still looking at a blank canv...      0   \n",
       "2                        i feel like a faithful servant      2   \n",
       "3                     i am just feeling cranky and blue      3   \n",
       "4     i can have for a treat or if i am feeling festive      1   \n",
       "...                                                 ...    ...   \n",
       "1995  im having ssa examination tomorrow in the morn...      0   \n",
       "1996  i constantly worry about their fight against n...      1   \n",
       "1997  i feel its important to share this info for th...      1   \n",
       "1998  i truly feel that if you are passionate enough...      1   \n",
       "1999  i feel like i just wanna buy any cute make up ...      1   \n",
       "\n",
       "      predicted_label      loss  \n",
       "0                   0  0.000287  \n",
       "1                   0  0.000300  \n",
       "2                   2  0.230387  \n",
       "3                   3  0.000572  \n",
       "4                   1  0.000250  \n",
       "...               ...       ...  \n",
       "1995                0  0.000275  \n",
       "1996                1  0.000263  \n",
       "1997                1  0.000321  \n",
       "1998                2  1.531131  \n",
       "1999                1  0.000224  \n",
       "\n",
       "[2000 rows x 4 columns]"
      ]
     },
     "metadata": {},
     "output_type": "display_data"
    },
    {
     "data": {
      "text/html": [
       "<div>\n",
       "<style scoped>\n",
       "    .dataframe tbody tr th:only-of-type {\n",
       "        vertical-align: middle;\n",
       "    }\n",
       "\n",
       "    .dataframe tbody tr th {\n",
       "        vertical-align: top;\n",
       "    }\n",
       "\n",
       "    .dataframe thead th {\n",
       "        text-align: right;\n",
       "    }\n",
       "</style>\n",
       "<table border=\"1\" class=\"dataframe\">\n",
       "  <thead>\n",
       "    <tr style=\"text-align: right;\">\n",
       "      <th></th>\n",
       "      <th>text</th>\n",
       "      <th>label</th>\n",
       "      <th>predicted_label</th>\n",
       "      <th>loss</th>\n",
       "    </tr>\n",
       "  </thead>\n",
       "  <tbody>\n",
       "    <tr>\n",
       "      <th>0</th>\n",
       "      <td>im feeling quite sad and sorry for myself but ...</td>\n",
       "      <td>sadness</td>\n",
       "      <td>sadness</td>\n",
       "      <td>0.000287</td>\n",
       "    </tr>\n",
       "    <tr>\n",
       "      <th>1</th>\n",
       "      <td>i feel like i am still looking at a blank canv...</td>\n",
       "      <td>sadness</td>\n",
       "      <td>sadness</td>\n",
       "      <td>0.000300</td>\n",
       "    </tr>\n",
       "    <tr>\n",
       "      <th>2</th>\n",
       "      <td>i feel like a faithful servant</td>\n",
       "      <td>love</td>\n",
       "      <td>love</td>\n",
       "      <td>0.230387</td>\n",
       "    </tr>\n",
       "    <tr>\n",
       "      <th>3</th>\n",
       "      <td>i am just feeling cranky and blue</td>\n",
       "      <td>anger</td>\n",
       "      <td>anger</td>\n",
       "      <td>0.000572</td>\n",
       "    </tr>\n",
       "    <tr>\n",
       "      <th>4</th>\n",
       "      <td>i can have for a treat or if i am feeling festive</td>\n",
       "      <td>joy</td>\n",
       "      <td>joy</td>\n",
       "      <td>0.000250</td>\n",
       "    </tr>\n",
       "    <tr>\n",
       "      <th>...</th>\n",
       "      <td>...</td>\n",
       "      <td>...</td>\n",
       "      <td>...</td>\n",
       "      <td>...</td>\n",
       "    </tr>\n",
       "    <tr>\n",
       "      <th>1995</th>\n",
       "      <td>im having ssa examination tomorrow in the morn...</td>\n",
       "      <td>sadness</td>\n",
       "      <td>sadness</td>\n",
       "      <td>0.000275</td>\n",
       "    </tr>\n",
       "    <tr>\n",
       "      <th>1996</th>\n",
       "      <td>i constantly worry about their fight against n...</td>\n",
       "      <td>joy</td>\n",
       "      <td>joy</td>\n",
       "      <td>0.000263</td>\n",
       "    </tr>\n",
       "    <tr>\n",
       "      <th>1997</th>\n",
       "      <td>i feel its important to share this info for th...</td>\n",
       "      <td>joy</td>\n",
       "      <td>joy</td>\n",
       "      <td>0.000321</td>\n",
       "    </tr>\n",
       "    <tr>\n",
       "      <th>1998</th>\n",
       "      <td>i truly feel that if you are passionate enough...</td>\n",
       "      <td>joy</td>\n",
       "      <td>love</td>\n",
       "      <td>1.531131</td>\n",
       "    </tr>\n",
       "    <tr>\n",
       "      <th>1999</th>\n",
       "      <td>i feel like i just wanna buy any cute make up ...</td>\n",
       "      <td>joy</td>\n",
       "      <td>joy</td>\n",
       "      <td>0.000224</td>\n",
       "    </tr>\n",
       "  </tbody>\n",
       "</table>\n",
       "<p>2000 rows × 4 columns</p>\n",
       "</div>"
      ],
      "text/plain": [
       "                                                   text    label  \\\n",
       "0     im feeling quite sad and sorry for myself but ...  sadness   \n",
       "1     i feel like i am still looking at a blank canv...  sadness   \n",
       "2                        i feel like a faithful servant     love   \n",
       "3                     i am just feeling cranky and blue    anger   \n",
       "4     i can have for a treat or if i am feeling festive      joy   \n",
       "...                                                 ...      ...   \n",
       "1995  im having ssa examination tomorrow in the morn...  sadness   \n",
       "1996  i constantly worry about their fight against n...      joy   \n",
       "1997  i feel its important to share this info for th...      joy   \n",
       "1998  i truly feel that if you are passionate enough...      joy   \n",
       "1999  i feel like i just wanna buy any cute make up ...      joy   \n",
       "\n",
       "     predicted_label      loss  \n",
       "0            sadness  0.000287  \n",
       "1            sadness  0.000300  \n",
       "2               love  0.230387  \n",
       "3              anger  0.000572  \n",
       "4                joy  0.000250  \n",
       "...              ...       ...  \n",
       "1995         sadness  0.000275  \n",
       "1996             joy  0.000263  \n",
       "1997             joy  0.000321  \n",
       "1998            love  1.531131  \n",
       "1999             joy  0.000224  \n",
       "\n",
       "[2000 rows x 4 columns]"
      ]
     },
     "metadata": {},
     "output_type": "display_data"
    }
   ],
   "source": [
    "cols = [\"text\", \"label\", \"predicted_label\", \"loss\"]\n",
    "df_test = df_validation[:][cols]\n",
    "display(df_test)\n",
    "df_test[\"label\"] = df_test[\"label\"].apply(label_int2str)\n",
    "df_test[\"predicted_label\"] = df_test[\"predicted_label\"].apply(label_int2str)\n",
    "display(df_test)"
   ]
  },
  {
   "cell_type": "code",
   "execution_count": 472,
   "id": "855e41ef",
   "metadata": {},
   "outputs": [
    {
     "data": {
      "text/html": [
       "<div>\n",
       "<style scoped>\n",
       "    .dataframe tbody tr th:only-of-type {\n",
       "        vertical-align: middle;\n",
       "    }\n",
       "\n",
       "    .dataframe tbody tr th {\n",
       "        vertical-align: top;\n",
       "    }\n",
       "\n",
       "    .dataframe thead th {\n",
       "        text-align: right;\n",
       "    }\n",
       "</style>\n",
       "<table border=\"1\" class=\"dataframe\">\n",
       "  <thead>\n",
       "    <tr style=\"text-align: right;\">\n",
       "      <th></th>\n",
       "      <th>text</th>\n",
       "      <th>label</th>\n",
       "      <th>predicted_label</th>\n",
       "      <th>loss</th>\n",
       "    </tr>\n",
       "  </thead>\n",
       "  <tbody>\n",
       "    <tr>\n",
       "      <th>1801</th>\n",
       "      <td>i feel that he was being overshadowed by the supporting characters</td>\n",
       "      <td>love</td>\n",
       "      <td>sadness</td>\n",
       "      <td>9.587017</td>\n",
       "    </tr>\n",
       "    <tr>\n",
       "      <th>1500</th>\n",
       "      <td>i guess we would naturally feel a sense of loneliness even the people who said unkind things to you might be missed</td>\n",
       "      <td>anger</td>\n",
       "      <td>sadness</td>\n",
       "      <td>8.700874</td>\n",
       "    </tr>\n",
       "    <tr>\n",
       "      <th>1963</th>\n",
       "      <td>i called myself pro life and voted for perry without knowing this information i would feel betrayed but moreover i would feel that i had betrayed god by supporting a man who mandated a barely year old vaccine for little girls putting them in danger to financially support people close to him</td>\n",
       "      <td>joy</td>\n",
       "      <td>sadness</td>\n",
       "      <td>8.691442</td>\n",
       "    </tr>\n",
       "    <tr>\n",
       "      <th>415</th>\n",
       "      <td>im kind of embarrassed about feeling that way though because my moms training was such a wonderfully defining part of my own life and i loved and still love</td>\n",
       "      <td>love</td>\n",
       "      <td>joy</td>\n",
       "      <td>7.943871</td>\n",
       "    </tr>\n",
       "    <tr>\n",
       "      <th>1919</th>\n",
       "      <td>i should admit when consuming alcohol myself in small amounts i feel much less inhibited ideas come to me more easily and i can write with greater ease</td>\n",
       "      <td>fear</td>\n",
       "      <td>sadness</td>\n",
       "      <td>7.941580</td>\n",
       "    </tr>\n",
       "    <tr>\n",
       "      <th>1195</th>\n",
       "      <td>i always think about are act the way i want to feel so even when im grumpy i still need to act pleasant and happy and then i will start to feel more that way</td>\n",
       "      <td>anger</td>\n",
       "      <td>joy</td>\n",
       "      <td>7.938544</td>\n",
       "    </tr>\n",
       "    <tr>\n",
       "      <th>1836</th>\n",
       "      <td>i got a very nasty electrical shock when i was tampering with some electrical applainces</td>\n",
       "      <td>fear</td>\n",
       "      <td>anger</td>\n",
       "      <td>7.305942</td>\n",
       "    </tr>\n",
       "    <tr>\n",
       "      <th>997</th>\n",
       "      <td>i feel as if there is anyone who really understands the insincere motives of females its me</td>\n",
       "      <td>anger</td>\n",
       "      <td>joy</td>\n",
       "      <td>7.216261</td>\n",
       "    </tr>\n",
       "    <tr>\n",
       "      <th>1683</th>\n",
       "      <td>i had applied for a job and they had assured me that the exams would take place a few months later a week later i went to obtain some more information and they told me that the exams had already taken place</td>\n",
       "      <td>anger</td>\n",
       "      <td>joy</td>\n",
       "      <td>6.743524</td>\n",
       "    </tr>\n",
       "    <tr>\n",
       "      <th>1124</th>\n",
       "      <td>someone acting stupid in public</td>\n",
       "      <td>anger</td>\n",
       "      <td>sadness</td>\n",
       "      <td>6.740613</td>\n",
       "    </tr>\n",
       "    <tr>\n",
       "      <th>259</th>\n",
       "      <td>when i noticed two spiders running on the floor in different directions</td>\n",
       "      <td>anger</td>\n",
       "      <td>fear</td>\n",
       "      <td>6.434271</td>\n",
       "    </tr>\n",
       "    <tr>\n",
       "      <th>17</th>\n",
       "      <td>i know what it feels like he stressed glaring down at her as she squeezed more soap onto her sponge</td>\n",
       "      <td>anger</td>\n",
       "      <td>sadness</td>\n",
       "      <td>6.377649</td>\n",
       "    </tr>\n",
       "    <tr>\n",
       "      <th>1111</th>\n",
       "      <td>im lazy my characters fall into categories of smug and or blas people and their foils people who feel inconvenienced by smug and or blas people</td>\n",
       "      <td>joy</td>\n",
       "      <td>anger</td>\n",
       "      <td>6.024315</td>\n",
       "    </tr>\n",
       "    <tr>\n",
       "      <th>1870</th>\n",
       "      <td>i guess i feel betrayed because i admired him so much and for someone to do this to his wife and kids just goes beyond the pale</td>\n",
       "      <td>joy</td>\n",
       "      <td>sadness</td>\n",
       "      <td>5.852555</td>\n",
       "    </tr>\n",
       "    <tr>\n",
       "      <th>1590</th>\n",
       "      <td>deception from a person i loved very much</td>\n",
       "      <td>anger</td>\n",
       "      <td>love</td>\n",
       "      <td>5.827696</td>\n",
       "    </tr>\n",
       "    <tr>\n",
       "      <th>318</th>\n",
       "      <td>i felt ashamed of these feelings and was scared because i knew that something wrong with me and thought i might be gay</td>\n",
       "      <td>fear</td>\n",
       "      <td>sadness</td>\n",
       "      <td>5.607389</td>\n",
       "    </tr>\n",
       "    <tr>\n",
       "      <th>367</th>\n",
       "      <td>i feel assaulted by all directions</td>\n",
       "      <td>sadness</td>\n",
       "      <td>fear</td>\n",
       "      <td>5.158562</td>\n",
       "    </tr>\n",
       "    <tr>\n",
       "      <th>1122</th>\n",
       "      <td>i feel so amazing about taking this trip as i think ill finally be able to relax and feel comfortable at home and somehow just melt back into it</td>\n",
       "      <td>surprise</td>\n",
       "      <td>joy</td>\n",
       "      <td>5.050759</td>\n",
       "    </tr>\n",
       "    <tr>\n",
       "      <th>1807</th>\n",
       "      <td>i am afraid of my emotions because certain people cause me to feel assaulted by feeling and i just get hammered by their waves as if i am an tempestuous ocean raging and only god knows why</td>\n",
       "      <td>sadness</td>\n",
       "      <td>fear</td>\n",
       "      <td>4.989058</td>\n",
       "    </tr>\n",
       "    <tr>\n",
       "      <th>746</th>\n",
       "      <td>i feel they are amazing unique people and i love them so very much</td>\n",
       "      <td>surprise</td>\n",
       "      <td>joy</td>\n",
       "      <td>4.942284</td>\n",
       "    </tr>\n",
       "    <tr>\n",
       "      <th>1852</th>\n",
       "      <td>i arrived home with a strange feeling of happiness and discontent</td>\n",
       "      <td>sadness</td>\n",
       "      <td>fear</td>\n",
       "      <td>4.822703</td>\n",
       "    </tr>\n",
       "    <tr>\n",
       "      <th>1112</th>\n",
       "      <td>i feel gracious what about you</td>\n",
       "      <td>love</td>\n",
       "      <td>joy</td>\n",
       "      <td>4.589413</td>\n",
       "    </tr>\n",
       "    <tr>\n",
       "      <th>1840</th>\n",
       "      <td>id let you kill it now but as a matter of fact im not feeling frightfully well today</td>\n",
       "      <td>joy</td>\n",
       "      <td>fear</td>\n",
       "      <td>4.539064</td>\n",
       "    </tr>\n",
       "    <tr>\n",
       "      <th>1230</th>\n",
       "      <td>i don t always feel like i have amazing style and most days i choose comfort over anything else but there is one thing that i feel makes all the difference in how i feel about myself and that is makeup</td>\n",
       "      <td>surprise</td>\n",
       "      <td>joy</td>\n",
       "      <td>4.453571</td>\n",
       "    </tr>\n",
       "    <tr>\n",
       "      <th>1741</th>\n",
       "      <td>i go home feeling simultaneously gutted and determined</td>\n",
       "      <td>joy</td>\n",
       "      <td>anger</td>\n",
       "      <td>4.444158</td>\n",
       "    </tr>\n",
       "    <tr>\n",
       "      <th>1322</th>\n",
       "      <td>i hate being the party girl because i feel like such a hypocrite because i always hated them</td>\n",
       "      <td>sadness</td>\n",
       "      <td>anger</td>\n",
       "      <td>4.127114</td>\n",
       "    </tr>\n",
       "    <tr>\n",
       "      <th>481</th>\n",
       "      <td>i feel hated there but had to remind my selfish self that none of this was about me</td>\n",
       "      <td>sadness</td>\n",
       "      <td>anger</td>\n",
       "      <td>3.835017</td>\n",
       "    </tr>\n",
       "    <tr>\n",
       "      <th>1857</th>\n",
       "      <td>im going to be very honest with you it feels amazing</td>\n",
       "      <td>surprise</td>\n",
       "      <td>joy</td>\n",
       "      <td>3.604572</td>\n",
       "    </tr>\n",
       "    <tr>\n",
       "      <th>1816</th>\n",
       "      <td>i am feeling overwhelmed i dont feel hopeless to often but i do cycle through frustration anxiety and sometimes anger that i have to go through this</td>\n",
       "      <td>surprise</td>\n",
       "      <td>fear</td>\n",
       "      <td>3.573390</td>\n",
       "    </tr>\n",
       "    <tr>\n",
       "      <th>1724</th>\n",
       "      <td>i feel a strange type of peace with this go around that i never felt with ally</td>\n",
       "      <td>surprise</td>\n",
       "      <td>fear</td>\n",
       "      <td>3.569110</td>\n",
       "    </tr>\n",
       "    <tr>\n",
       "      <th>539</th>\n",
       "      <td>i feel i should say what i want since you are in fact reading my diary i feel that many of my beloved readers are becoming offended with some of the things i say and post here</td>\n",
       "      <td>joy</td>\n",
       "      <td>love</td>\n",
       "      <td>3.553792</td>\n",
       "    </tr>\n",
       "    <tr>\n",
       "      <th>1274</th>\n",
       "      <td>i am going to several holiday parties and i can t wait to feel super awkward i am going to several holiday parties and i can t wait to feel super awkward a href http badplaydate</td>\n",
       "      <td>joy</td>\n",
       "      <td>sadness</td>\n",
       "      <td>3.524942</td>\n",
       "    </tr>\n",
       "    <tr>\n",
       "      <th>1021</th>\n",
       "      <td>i do remember my left quad starting to feel strange not hurting yet an aggravating feeling about a week or two before the marathon</td>\n",
       "      <td>surprise</td>\n",
       "      <td>fear</td>\n",
       "      <td>3.384269</td>\n",
       "    </tr>\n",
       "    <tr>\n",
       "      <th>841</th>\n",
       "      <td>i am feeling stressed like that is to the water</td>\n",
       "      <td>anger</td>\n",
       "      <td>sadness</td>\n",
       "      <td>3.382011</td>\n",
       "    </tr>\n",
       "    <tr>\n",
       "      <th>393</th>\n",
       "      <td>i drew this because i feel hated</td>\n",
       "      <td>sadness</td>\n",
       "      <td>anger</td>\n",
       "      <td>3.301140</td>\n",
       "    </tr>\n",
       "    <tr>\n",
       "      <th>986</th>\n",
       "      <td>i am feeling amazing</td>\n",
       "      <td>surprise</td>\n",
       "      <td>joy</td>\n",
       "      <td>3.294919</td>\n",
       "    </tr>\n",
       "    <tr>\n",
       "      <th>1009</th>\n",
       "      <td>i feel really strange about this</td>\n",
       "      <td>surprise</td>\n",
       "      <td>fear</td>\n",
       "      <td>3.213764</td>\n",
       "    </tr>\n",
       "    <tr>\n",
       "      <th>1201</th>\n",
       "      <td>i don t know i feel really helpless about it</td>\n",
       "      <td>fear</td>\n",
       "      <td>sadness</td>\n",
       "      <td>3.107672</td>\n",
       "    </tr>\n",
       "    <tr>\n",
       "      <th>1888</th>\n",
       "      <td>i feel like many times when i m generous with whatever i feel like i ve kept track of things i ve given them or given up for them and have a tally of what they owe me</td>\n",
       "      <td>joy</td>\n",
       "      <td>love</td>\n",
       "      <td>3.094212</td>\n",
       "    </tr>\n",
       "    <tr>\n",
       "      <th>638</th>\n",
       "      <td>i think it is the worst feeling it gives me the shivers and just thinking about it makes my teeth feel strange</td>\n",
       "      <td>surprise</td>\n",
       "      <td>fear</td>\n",
       "      <td>3.046853</td>\n",
       "    </tr>\n",
       "    <tr>\n",
       "      <th>27</th>\n",
       "      <td>i feel as if i am the beloved preparing herself for the wedding</td>\n",
       "      <td>joy</td>\n",
       "      <td>love</td>\n",
       "      <td>3.044080</td>\n",
       "    </tr>\n",
       "    <tr>\n",
       "      <th>1367</th>\n",
       "      <td>that day i was alone at home after coming home from school i did not know where everyone else had gone</td>\n",
       "      <td>fear</td>\n",
       "      <td>sadness</td>\n",
       "      <td>2.935562</td>\n",
       "    </tr>\n",
       "    <tr>\n",
       "      <th>1554</th>\n",
       "      <td>when i was walking around all alone at night</td>\n",
       "      <td>fear</td>\n",
       "      <td>sadness</td>\n",
       "      <td>2.926592</td>\n",
       "    </tr>\n",
       "    <tr>\n",
       "      <th>879</th>\n",
       "      <td>i feel not having a generous spirit or a forgiving nature closes me off from accepting gifts from the universe</td>\n",
       "      <td>joy</td>\n",
       "      <td>love</td>\n",
       "      <td>2.825695</td>\n",
       "    </tr>\n",
       "    <tr>\n",
       "      <th>1304</th>\n",
       "      <td>i feel not just attracted to but completely enthralled and captivated by him like hes some kind of other worldly creature with nothing inside him but a really bright light</td>\n",
       "      <td>surprise</td>\n",
       "      <td>joy</td>\n",
       "      <td>2.725387</td>\n",
       "    </tr>\n",
       "    <tr>\n",
       "      <th>91</th>\n",
       "      <td>i feel like the people i know are really generous and i have my needs met</td>\n",
       "      <td>joy</td>\n",
       "      <td>love</td>\n",
       "      <td>2.705678</td>\n",
       "    </tr>\n",
       "    <tr>\n",
       "      <th>164</th>\n",
       "      <td>i have stayed at heritage christian because of the fulfillment that i feel in doing christ s work in action by being the hands the eyes the legs and the voice of supporting the individuals that i have been blessed to know and support</td>\n",
       "      <td>joy</td>\n",
       "      <td>love</td>\n",
       "      <td>2.554011</td>\n",
       "    </tr>\n",
       "    <tr>\n",
       "      <th>360</th>\n",
       "      <td>im feeling very agitated right now</td>\n",
       "      <td>anger</td>\n",
       "      <td>fear</td>\n",
       "      <td>2.544218</td>\n",
       "    </tr>\n",
       "    <tr>\n",
       "      <th>1908</th>\n",
       "      <td>i feel like ive hit a sweet spot in life</td>\n",
       "      <td>joy</td>\n",
       "      <td>love</td>\n",
       "      <td>2.487077</td>\n",
       "    </tr>\n",
       "    <tr>\n",
       "      <th>1924</th>\n",
       "      <td>i feel an ache when my phone chimes and it s not a sweet text from my sweetheart</td>\n",
       "      <td>joy</td>\n",
       "      <td>love</td>\n",
       "      <td>2.441842</td>\n",
       "    </tr>\n",
       "  </tbody>\n",
       "</table>\n",
       "</div>"
      ],
      "text/plain": [
       "                                                                                                                                                                                                                                                                                                     text  \\\n",
       "1801                                                                                                                                                                                                                                   i feel that he was being overshadowed by the supporting characters   \n",
       "1500                                                                                                                                                                                  i guess we would naturally feel a sense of loneliness even the people who said unkind things to you might be missed   \n",
       "1963  i called myself pro life and voted for perry without knowing this information i would feel betrayed but moreover i would feel that i had betrayed god by supporting a man who mandated a barely year old vaccine for little girls putting them in danger to financially support people close to him   \n",
       "415                                                                                                                                          im kind of embarrassed about feeling that way though because my moms training was such a wonderfully defining part of my own life and i loved and still love   \n",
       "1919                                                                                                                                              i should admit when consuming alcohol myself in small amounts i feel much less inhibited ideas come to me more easily and i can write with greater ease   \n",
       "1195                                                                                                                                        i always think about are act the way i want to feel so even when im grumpy i still need to act pleasant and happy and then i will start to feel more that way   \n",
       "1836                                                                                                                                                                                                             i got a very nasty electrical shock when i was tampering with some electrical applainces   \n",
       "997                                                                                                                                                                                                           i feel as if there is anyone who really understands the insincere motives of females its me   \n",
       "1683                                                                                       i had applied for a job and they had assured me that the exams would take place a few months later a week later i went to obtain some more information and they told me that the exams had already taken place   \n",
       "1124                                                                                                                                                                                                                                                                      someone acting stupid in public   \n",
       "259                                                                                                                                                                                                                               when i noticed two spiders running on the floor in different directions   \n",
       "17                                                                                                                                                                                                    i know what it feels like he stressed glaring down at her as she squeezed more soap onto her sponge   \n",
       "1111                                                                                                                                                      im lazy my characters fall into categories of smug and or blas people and their foils people who feel inconvenienced by smug and or blas people   \n",
       "1870                                                                                                                                                                      i guess i feel betrayed because i admired him so much and for someone to do this to his wife and kids just goes beyond the pale   \n",
       "1590                                                                                                                                                                                                                                                            deception from a person i loved very much   \n",
       "318                                                                                                                                                                                i felt ashamed of these feelings and was scared because i knew that something wrong with me and thought i might be gay   \n",
       "367                                                                                                                                                                                                                                                                    i feel assaulted by all directions   \n",
       "1122                                                                                                                                                     i feel so amazing about taking this trip as i think ill finally be able to relax and feel comfortable at home and somehow just melt back into it   \n",
       "1807                                                                                                         i am afraid of my emotions because certain people cause me to feel assaulted by feeling and i just get hammered by their waves as if i am an tempestuous ocean raging and only god knows why   \n",
       "746                                                                                                                                                                                                                                    i feel they are amazing unique people and i love them so very much   \n",
       "1852                                                                                                                                                                                                                                    i arrived home with a strange feeling of happiness and discontent   \n",
       "1112                                                                                                                                                                                                                                                                       i feel gracious what about you   \n",
       "1840                                                                                                                                                                                                                 id let you kill it now but as a matter of fact im not feeling frightfully well today   \n",
       "1230                                                                                            i don t always feel like i have amazing style and most days i choose comfort over anything else but there is one thing that i feel makes all the difference in how i feel about myself and that is makeup   \n",
       "1741                                                                                                                                                                                                                                               i go home feeling simultaneously gutted and determined   \n",
       "1322                                                                                                                                                                                                         i hate being the party girl because i feel like such a hypocrite because i always hated them   \n",
       "481                                                                                                                                                                                                                   i feel hated there but had to remind my selfish self that none of this was about me   \n",
       "1857                                                                                                                                                                                                                                                 im going to be very honest with you it feels amazing   \n",
       "1816                                                                                                                                                 i am feeling overwhelmed i dont feel hopeless to often but i do cycle through frustration anxiety and sometimes anger that i have to go through this   \n",
       "1724                                                                                                                                                                                                                       i feel a strange type of peace with this go around that i never felt with ally   \n",
       "539                                                                                                                       i feel i should say what i want since you are in fact reading my diary i feel that many of my beloved readers are becoming offended with some of the things i say and post here   \n",
       "1274                                                                                                                    i am going to several holiday parties and i can t wait to feel super awkward i am going to several holiday parties and i can t wait to feel super awkward a href http badplaydate   \n",
       "1021                                                                                                                                                                   i do remember my left quad starting to feel strange not hurting yet an aggravating feeling about a week or two before the marathon   \n",
       "841                                                                                                                                                                                                                                                       i am feeling stressed like that is to the water   \n",
       "393                                                                                                                                                                                                                                                                      i drew this because i feel hated   \n",
       "986                                                                                                                                                                                                                                                                                  i am feeling amazing   \n",
       "1009                                                                                                                                                                                                                                                                     i feel really strange about this   \n",
       "1201                                                                                                                                                                                                                                                         i don t know i feel really helpless about it   \n",
       "1888                                                                                                                               i feel like many times when i m generous with whatever i feel like i ve kept track of things i ve given them or given up for them and have a tally of what they owe me   \n",
       "638                                                                                                                                                                                        i think it is the worst feeling it gives me the shivers and just thinking about it makes my teeth feel strange   \n",
       "27                                                                                                                                                                                                                                        i feel as if i am the beloved preparing herself for the wedding   \n",
       "1367                                                                                                                                                                                               that day i was alone at home after coming home from school i did not know where everyone else had gone   \n",
       "1554                                                                                                                                                                                                                                                         when i was walking around all alone at night   \n",
       "879                                                                                                                                                                                        i feel not having a generous spirit or a forgiving nature closes me off from accepting gifts from the universe   \n",
       "1304                                                                                                                          i feel not just attracted to but completely enthralled and captivated by him like hes some kind of other worldly creature with nothing inside him but a really bright light   \n",
       "91                                                                                                                                                                                                                              i feel like the people i know are really generous and i have my needs met   \n",
       "164                                                             i have stayed at heritage christian because of the fulfillment that i feel in doing christ s work in action by being the hands the eyes the legs and the voice of supporting the individuals that i have been blessed to know and support   \n",
       "360                                                                                                                                                                                                                                                                    im feeling very agitated right now   \n",
       "1908                                                                                                                                                                                                                                                             i feel like ive hit a sweet spot in life   \n",
       "1924                                                                                                                                                                                                                     i feel an ache when my phone chimes and it s not a sweet text from my sweetheart   \n",
       "\n",
       "         label predicted_label      loss  \n",
       "1801      love         sadness  9.587017  \n",
       "1500     anger         sadness  8.700874  \n",
       "1963       joy         sadness  8.691442  \n",
       "415       love             joy  7.943871  \n",
       "1919      fear         sadness  7.941580  \n",
       "1195     anger             joy  7.938544  \n",
       "1836      fear           anger  7.305942  \n",
       "997      anger             joy  7.216261  \n",
       "1683     anger             joy  6.743524  \n",
       "1124     anger         sadness  6.740613  \n",
       "259      anger            fear  6.434271  \n",
       "17       anger         sadness  6.377649  \n",
       "1111       joy           anger  6.024315  \n",
       "1870       joy         sadness  5.852555  \n",
       "1590     anger            love  5.827696  \n",
       "318       fear         sadness  5.607389  \n",
       "367    sadness            fear  5.158562  \n",
       "1122  surprise             joy  5.050759  \n",
       "1807   sadness            fear  4.989058  \n",
       "746   surprise             joy  4.942284  \n",
       "1852   sadness            fear  4.822703  \n",
       "1112      love             joy  4.589413  \n",
       "1840       joy            fear  4.539064  \n",
       "1230  surprise             joy  4.453571  \n",
       "1741       joy           anger  4.444158  \n",
       "1322   sadness           anger  4.127114  \n",
       "481    sadness           anger  3.835017  \n",
       "1857  surprise             joy  3.604572  \n",
       "1816  surprise            fear  3.573390  \n",
       "1724  surprise            fear  3.569110  \n",
       "539        joy            love  3.553792  \n",
       "1274       joy         sadness  3.524942  \n",
       "1021  surprise            fear  3.384269  \n",
       "841      anger         sadness  3.382011  \n",
       "393    sadness           anger  3.301140  \n",
       "986   surprise             joy  3.294919  \n",
       "1009  surprise            fear  3.213764  \n",
       "1201      fear         sadness  3.107672  \n",
       "1888       joy            love  3.094212  \n",
       "638   surprise            fear  3.046853  \n",
       "27         joy            love  3.044080  \n",
       "1367      fear         sadness  2.935562  \n",
       "1554      fear         sadness  2.926592  \n",
       "879        joy            love  2.825695  \n",
       "1304  surprise             joy  2.725387  \n",
       "91         joy            love  2.705678  \n",
       "164        joy            love  2.554011  \n",
       "360      anger            fear  2.544218  \n",
       "1908       joy            love  2.487077  \n",
       "1924       joy            love  2.441842  "
      ]
     },
     "metadata": {},
     "output_type": "display_data"
    }
   ],
   "source": [
    "with pd.option_context('display.max_colwidth', None, 'display.max_rows', None):\n",
    "    display(df_test.sort_values(\"loss\", ascending=False).head(50))"
   ]
  },
  {
   "cell_type": "markdown",
   "id": "7806775f",
   "metadata": {},
   "source": [
    "Our job is now to detect one of the follows:\n",
    "- _Wrong labels_: annotator mislabels\n",
    "- _Quirks of dataset_: special characters or text etc."
   ]
  },
  {
   "cell_type": "markdown",
   "id": "89371a03",
   "metadata": {},
   "source": [
    "Even though the model did predict quote a few labels incorrectly, some of the labels were also mislabeled. In particular, **joy** seems to be mislabeled several times.  We can now refined the dataset for gain performance. "
   ]
  },
  {
   "cell_type": "code",
   "execution_count": 474,
   "id": "7d03e417",
   "metadata": {},
   "outputs": [
    {
     "data": {
      "text/html": [
       "<div>\n",
       "<style scoped>\n",
       "    .dataframe tbody tr th:only-of-type {\n",
       "        vertical-align: middle;\n",
       "    }\n",
       "\n",
       "    .dataframe tbody tr th {\n",
       "        vertical-align: top;\n",
       "    }\n",
       "\n",
       "    .dataframe thead th {\n",
       "        text-align: right;\n",
       "    }\n",
       "</style>\n",
       "<table border=\"1\" class=\"dataframe\">\n",
       "  <thead>\n",
       "    <tr style=\"text-align: right;\">\n",
       "      <th></th>\n",
       "      <th>text</th>\n",
       "      <th>label</th>\n",
       "      <th>predicted_label</th>\n",
       "      <th>loss</th>\n",
       "    </tr>\n",
       "  </thead>\n",
       "  <tbody>\n",
       "    <tr>\n",
       "      <th>876</th>\n",
       "      <td>i feel like the cool mom</td>\n",
       "      <td>joy</td>\n",
       "      <td>joy</td>\n",
       "      <td>0.000197</td>\n",
       "    </tr>\n",
       "    <tr>\n",
       "      <th>382</th>\n",
       "      <td>i feel cool because the plane has four seats instead of only two</td>\n",
       "      <td>joy</td>\n",
       "      <td>joy</td>\n",
       "      <td>0.000199</td>\n",
       "    </tr>\n",
       "    <tr>\n",
       "      <th>197</th>\n",
       "      <td>i feel so cool like ice t huhwe neun gatda beoryeo priceless sesang ye ban bani namja neottaemune na ulji anha gucha hage neoreul jabgeo na mae dallil ireun jeoldae no</td>\n",
       "      <td>joy</td>\n",
       "      <td>joy</td>\n",
       "      <td>0.000201</td>\n",
       "    </tr>\n",
       "    <tr>\n",
       "      <th>620</th>\n",
       "      <td>i shall move right along to the post interview portion of the day the results of which will be far more exciting and interesting to you i feel sure</td>\n",
       "      <td>joy</td>\n",
       "      <td>joy</td>\n",
       "      <td>0.000203</td>\n",
       "    </tr>\n",
       "    <tr>\n",
       "      <th>199</th>\n",
       "      <td>i feel invigorated full of energy ready for the day ahead</td>\n",
       "      <td>joy</td>\n",
       "      <td>joy</td>\n",
       "      <td>0.000204</td>\n",
       "    </tr>\n",
       "    <tr>\n",
       "      <th>892</th>\n",
       "      <td>i feel kinda cool</td>\n",
       "      <td>joy</td>\n",
       "      <td>joy</td>\n",
       "      <td>0.000206</td>\n",
       "    </tr>\n",
       "    <tr>\n",
       "      <th>1082</th>\n",
       "      <td>i feel the cool night air against my face</td>\n",
       "      <td>joy</td>\n",
       "      <td>joy</td>\n",
       "      <td>0.000206</td>\n",
       "    </tr>\n",
       "    <tr>\n",
       "      <th>1099</th>\n",
       "      <td>i feel invigorated when i look at this image just as i did when i looked at the other two photos</td>\n",
       "      <td>joy</td>\n",
       "      <td>joy</td>\n",
       "      <td>0.000206</td>\n",
       "    </tr>\n",
       "    <tr>\n",
       "      <th>911</th>\n",
       "      <td>i feel in love with a cute little maltese</td>\n",
       "      <td>joy</td>\n",
       "      <td>joy</td>\n",
       "      <td>0.000207</td>\n",
       "    </tr>\n",
       "    <tr>\n",
       "      <th>1567</th>\n",
       "      <td>i feel wonderful shayla admitted</td>\n",
       "      <td>joy</td>\n",
       "      <td>joy</td>\n",
       "      <td>0.000207</td>\n",
       "    </tr>\n",
       "    <tr>\n",
       "      <th>1263</th>\n",
       "      <td>i feel this way about blake lively</td>\n",
       "      <td>joy</td>\n",
       "      <td>joy</td>\n",
       "      <td>0.000207</td>\n",
       "    </tr>\n",
       "    <tr>\n",
       "      <th>1742</th>\n",
       "      <td>i feel peaceful and prepared to face the day</td>\n",
       "      <td>joy</td>\n",
       "      <td>joy</td>\n",
       "      <td>0.000209</td>\n",
       "    </tr>\n",
       "    <tr>\n",
       "      <th>1198</th>\n",
       "      <td>i feel like i should also mention that there was some content that i wasnt thrilled with either</td>\n",
       "      <td>joy</td>\n",
       "      <td>joy</td>\n",
       "      <td>0.000209</td>\n",
       "    </tr>\n",
       "    <tr>\n",
       "      <th>1716</th>\n",
       "      <td>im not sure what will come of this decision but im feeling excited to participate again</td>\n",
       "      <td>joy</td>\n",
       "      <td>joy</td>\n",
       "      <td>0.000211</td>\n",
       "    </tr>\n",
       "    <tr>\n",
       "      <th>1941</th>\n",
       "      <td>i did see a few people looking at the points and steps on the board behind me when they forget the next one which made me feel glad to have the aid in the back to prevent me from running back and forth to people who required help constantly</td>\n",
       "      <td>joy</td>\n",
       "      <td>joy</td>\n",
       "      <td>0.000211</td>\n",
       "    </tr>\n",
       "    <tr>\n",
       "      <th>644</th>\n",
       "      <td>i have a feeling a forks version of that charming little tale will happen soon</td>\n",
       "      <td>joy</td>\n",
       "      <td>joy</td>\n",
       "      <td>0.000211</td>\n",
       "    </tr>\n",
       "    <tr>\n",
       "      <th>1017</th>\n",
       "      <td>i will be happy when someone i know from across the internet feels happy as well</td>\n",
       "      <td>joy</td>\n",
       "      <td>joy</td>\n",
       "      <td>0.000211</td>\n",
       "    </tr>\n",
       "    <tr>\n",
       "      <th>319</th>\n",
       "      <td>im feeling wonderful these days</td>\n",
       "      <td>joy</td>\n",
       "      <td>joy</td>\n",
       "      <td>0.000211</td>\n",
       "    </tr>\n",
       "    <tr>\n",
       "      <th>908</th>\n",
       "      <td>i said earlier that the overall feeling is joyful happy thankful and that s spoken in just about every other post i have of mason</td>\n",
       "      <td>joy</td>\n",
       "      <td>joy</td>\n",
       "      <td>0.000211</td>\n",
       "    </tr>\n",
       "    <tr>\n",
       "      <th>64</th>\n",
       "      <td>i hope he will pull out the tissue paper himself but i feel like to him sunday will be just another day to be cute and wonderful</td>\n",
       "      <td>joy</td>\n",
       "      <td>joy</td>\n",
       "      <td>0.000212</td>\n",
       "    </tr>\n",
       "    <tr>\n",
       "      <th>1966</th>\n",
       "      <td>i am feeling pretty wonderful</td>\n",
       "      <td>joy</td>\n",
       "      <td>joy</td>\n",
       "      <td>0.000213</td>\n",
       "    </tr>\n",
       "    <tr>\n",
       "      <th>557</th>\n",
       "      <td>i really do feel so peaceful right now as i type this</td>\n",
       "      <td>joy</td>\n",
       "      <td>joy</td>\n",
       "      <td>0.000213</td>\n",
       "    </tr>\n",
       "    <tr>\n",
       "      <th>1565</th>\n",
       "      <td>im feeling a little mellow right now i have to admit that im actually feeling pretty low key and happy</td>\n",
       "      <td>joy</td>\n",
       "      <td>joy</td>\n",
       "      <td>0.000213</td>\n",
       "    </tr>\n",
       "    <tr>\n",
       "      <th>496</th>\n",
       "      <td>i woke up feeling ecstatic for about seconds and then reality hit and it just made me all upset again</td>\n",
       "      <td>joy</td>\n",
       "      <td>joy</td>\n",
       "      <td>0.000214</td>\n",
       "    </tr>\n",
       "    <tr>\n",
       "      <th>1528</th>\n",
       "      <td>i am feeling a little happy with him</td>\n",
       "      <td>joy</td>\n",
       "      <td>joy</td>\n",
       "      <td>0.000214</td>\n",
       "    </tr>\n",
       "    <tr>\n",
       "      <th>239</th>\n",
       "      <td>i feel strongly that those who finger point and wish to control other peoples lives are not feeling very peaceful and content within their own lives</td>\n",
       "      <td>joy</td>\n",
       "      <td>joy</td>\n",
       "      <td>0.000214</td>\n",
       "    </tr>\n",
       "    <tr>\n",
       "      <th>260</th>\n",
       "      <td>i am feeling so invigorated and so ready to keep pushing on to goal</td>\n",
       "      <td>joy</td>\n",
       "      <td>joy</td>\n",
       "      <td>0.000214</td>\n",
       "    </tr>\n",
       "    <tr>\n",
       "      <th>1600</th>\n",
       "      <td>i enjoy going to churches acquired there feeling is always so peaceful and tranquil thats why ive had a wish to visit pochayiv monastery and without comments it was really worthy</td>\n",
       "      <td>joy</td>\n",
       "      <td>joy</td>\n",
       "      <td>0.000214</td>\n",
       "    </tr>\n",
       "    <tr>\n",
       "      <th>1125</th>\n",
       "      <td>i feel innocent on summer nights</td>\n",
       "      <td>joy</td>\n",
       "      <td>joy</td>\n",
       "      <td>0.000215</td>\n",
       "    </tr>\n",
       "    <tr>\n",
       "      <th>193</th>\n",
       "      <td>i was feeling pretty pleased with myself with the addition of two year birds and so i decided to walk around the fire station area which has produced good birds in the past</td>\n",
       "      <td>joy</td>\n",
       "      <td>joy</td>\n",
       "      <td>0.000215</td>\n",
       "    </tr>\n",
       "    <tr>\n",
       "      <th>835</th>\n",
       "      <td>i alternate between feeling perfectly happy with this plan and very sad and disappointed that we dont get to experience a real vaginal birth</td>\n",
       "      <td>joy</td>\n",
       "      <td>joy</td>\n",
       "      <td>0.000215</td>\n",
       "    </tr>\n",
       "    <tr>\n",
       "      <th>716</th>\n",
       "      <td>im feeling pretty cool calm and collected and sho nuff ready</td>\n",
       "      <td>joy</td>\n",
       "      <td>joy</td>\n",
       "      <td>0.000215</td>\n",
       "    </tr>\n",
       "    <tr>\n",
       "      <th>1481</th>\n",
       "      <td>i dont know why but i just cant help but feel this innocent yet awkward feeling towards her</td>\n",
       "      <td>joy</td>\n",
       "      <td>joy</td>\n",
       "      <td>0.000215</td>\n",
       "    </tr>\n",
       "    <tr>\n",
       "      <th>1154</th>\n",
       "      <td>i love feeling carefree and without all these nervous feelings shooting through my body like i just saw myself on americas most wanted</td>\n",
       "      <td>joy</td>\n",
       "      <td>joy</td>\n",
       "      <td>0.000215</td>\n",
       "    </tr>\n",
       "    <tr>\n",
       "      <th>1199</th>\n",
       "      <td>i didn t feel ecstatic after each workout or anything like that</td>\n",
       "      <td>joy</td>\n",
       "      <td>joy</td>\n",
       "      <td>0.000215</td>\n",
       "    </tr>\n",
       "    <tr>\n",
       "      <th>737</th>\n",
       "      <td>im so grateful to feel peaceful at the end of the day</td>\n",
       "      <td>joy</td>\n",
       "      <td>joy</td>\n",
       "      <td>0.000216</td>\n",
       "    </tr>\n",
       "    <tr>\n",
       "      <th>669</th>\n",
       "      <td>i am not feeling very joyful today its been a rough day</td>\n",
       "      <td>joy</td>\n",
       "      <td>joy</td>\n",
       "      <td>0.000216</td>\n",
       "    </tr>\n",
       "    <tr>\n",
       "      <th>763</th>\n",
       "      <td>i feel peaceful with them being where they are but miss them like crazy i get giddy from the picture texts and random phone calls</td>\n",
       "      <td>joy</td>\n",
       "      <td>joy</td>\n",
       "      <td>0.000216</td>\n",
       "    </tr>\n",
       "    <tr>\n",
       "      <th>1402</th>\n",
       "      <td>ive had in a long time and i feel fantastic about it</td>\n",
       "      <td>joy</td>\n",
       "      <td>joy</td>\n",
       "      <td>0.000216</td>\n",
       "    </tr>\n",
       "    <tr>\n",
       "      <th>400</th>\n",
       "      <td>i are just relaxing together and i feel ecstatic and blissfully happy because i know he loves me and i love him</td>\n",
       "      <td>joy</td>\n",
       "      <td>joy</td>\n",
       "      <td>0.000216</td>\n",
       "    </tr>\n",
       "    <tr>\n",
       "      <th>126</th>\n",
       "      <td>i am feeling pretty pleased with the amount of work trackchanges has allowed me to document</td>\n",
       "      <td>joy</td>\n",
       "      <td>joy</td>\n",
       "      <td>0.000216</td>\n",
       "    </tr>\n",
       "    <tr>\n",
       "      <th>358</th>\n",
       "      <td>i am feeling wonderful filled with hope and faith</td>\n",
       "      <td>joy</td>\n",
       "      <td>joy</td>\n",
       "      <td>0.000216</td>\n",
       "    </tr>\n",
       "    <tr>\n",
       "      <th>1012</th>\n",
       "      <td>i definitely succumbed to pre holiday sales but i feel good going into the holiday season i probably shouldnt say that though</td>\n",
       "      <td>joy</td>\n",
       "      <td>joy</td>\n",
       "      <td>0.000216</td>\n",
       "    </tr>\n",
       "    <tr>\n",
       "      <th>1657</th>\n",
       "      <td>i get up to refill my coffee and feel that pleasant and familiar ache it reminds me how much i miss the whole body conversations you can have when you re sitting on a good good horse</td>\n",
       "      <td>joy</td>\n",
       "      <td>joy</td>\n",
       "      <td>0.000217</td>\n",
       "    </tr>\n",
       "    <tr>\n",
       "      <th>1949</th>\n",
       "      <td>im starting to feel graceful oh happiness</td>\n",
       "      <td>joy</td>\n",
       "      <td>joy</td>\n",
       "      <td>0.000217</td>\n",
       "    </tr>\n",
       "    <tr>\n",
       "      <th>208</th>\n",
       "      <td>i am more well read and i feel like im becoming more intelligent and articulate</td>\n",
       "      <td>joy</td>\n",
       "      <td>joy</td>\n",
       "      <td>0.000218</td>\n",
       "    </tr>\n",
       "    <tr>\n",
       "      <th>1385</th>\n",
       "      <td>i am feeling pretty relaxed though</td>\n",
       "      <td>joy</td>\n",
       "      <td>joy</td>\n",
       "      <td>0.000218</td>\n",
       "    </tr>\n",
       "    <tr>\n",
       "      <th>173</th>\n",
       "      <td>i expected to feel more but nope i dont and thats a pleasant surprise</td>\n",
       "      <td>joy</td>\n",
       "      <td>joy</td>\n",
       "      <td>0.000218</td>\n",
       "    </tr>\n",
       "    <tr>\n",
       "      <th>1702</th>\n",
       "      <td>i feel like everytime i blog i am relaying a story about the wonderful food that i had to sit and admire but its a big deal</td>\n",
       "      <td>joy</td>\n",
       "      <td>joy</td>\n",
       "      <td>0.000218</td>\n",
       "    </tr>\n",
       "    <tr>\n",
       "      <th>378</th>\n",
       "      <td>i feel quite clever</td>\n",
       "      <td>joy</td>\n",
       "      <td>joy</td>\n",
       "      <td>0.000218</td>\n",
       "    </tr>\n",
       "    <tr>\n",
       "      <th>877</th>\n",
       "      <td>im caught up on sleep and no longer feel like a zombie im excited to focus on being a good wife mother and homemaker again</td>\n",
       "      <td>joy</td>\n",
       "      <td>joy</td>\n",
       "      <td>0.000218</td>\n",
       "    </tr>\n",
       "    <tr>\n",
       "      <th>1430</th>\n",
       "      <td>i would pick out for myself but i will give them a try when i am feeling adventurous</td>\n",
       "      <td>joy</td>\n",
       "      <td>joy</td>\n",
       "      <td>0.000218</td>\n",
       "    </tr>\n",
       "    <tr>\n",
       "      <th>410</th>\n",
       "      <td>i feel like if he was innocent he wouldn t feel like he has anything to prove</td>\n",
       "      <td>joy</td>\n",
       "      <td>joy</td>\n",
       "      <td>0.000218</td>\n",
       "    </tr>\n",
       "    <tr>\n",
       "      <th>248</th>\n",
       "      <td>i firmly believe that you shouldnt have to spend a lot to look feel fantastic and i love mixing style steals with higher end items</td>\n",
       "      <td>joy</td>\n",
       "      <td>joy</td>\n",
       "      <td>0.000219</td>\n",
       "    </tr>\n",
       "    <tr>\n",
       "      <th>1558</th>\n",
       "      <td>i was feeling very bah humbugish coming out of this year s thanksgiving weekend and was not thinking pleasant christmas thoughts about the gift giving guilt trip conspiracy run by the marketing racket the decorating and the whole thing in general</td>\n",
       "      <td>joy</td>\n",
       "      <td>joy</td>\n",
       "      <td>0.000219</td>\n",
       "    </tr>\n",
       "    <tr>\n",
       "      <th>1020</th>\n",
       "      <td>i feel that the content i have in mind isnt really that great after all</td>\n",
       "      <td>joy</td>\n",
       "      <td>joy</td>\n",
       "      <td>0.000219</td>\n",
       "    </tr>\n",
       "    <tr>\n",
       "      <th>893</th>\n",
       "      <td>im quite bored but feel intelligent for no real apparent reason</td>\n",
       "      <td>joy</td>\n",
       "      <td>joy</td>\n",
       "      <td>0.000219</td>\n",
       "    </tr>\n",
       "    <tr>\n",
       "      <th>266</th>\n",
       "      <td>i want to feel good but during that short week you don t get a chance</td>\n",
       "      <td>joy</td>\n",
       "      <td>joy</td>\n",
       "      <td>0.000220</td>\n",
       "    </tr>\n",
       "    <tr>\n",
       "      <th>578</th>\n",
       "      <td>i got to christmas feeling positive about the future and hopeful that hospital admissions were finally behind me</td>\n",
       "      <td>joy</td>\n",
       "      <td>joy</td>\n",
       "      <td>0.000220</td>\n",
       "    </tr>\n",
       "    <tr>\n",
       "      <th>987</th>\n",
       "      <td>i somehow feel glad shes now in malacca with me my younger sis</td>\n",
       "      <td>joy</td>\n",
       "      <td>joy</td>\n",
       "      <td>0.000220</td>\n",
       "    </tr>\n",
       "    <tr>\n",
       "      <th>1172</th>\n",
       "      <td>i feel like i dont need school to be intelligent</td>\n",
       "      <td>joy</td>\n",
       "      <td>joy</td>\n",
       "      <td>0.000220</td>\n",
       "    </tr>\n",
       "    <tr>\n",
       "      <th>11</th>\n",
       "      <td>i was dribbling on mums coffee table looking out of the window and feeling very happy</td>\n",
       "      <td>joy</td>\n",
       "      <td>joy</td>\n",
       "      <td>0.000220</td>\n",
       "    </tr>\n",
       "    <tr>\n",
       "      <th>140</th>\n",
       "      <td>im feeling truly adventurous ill go for a faux hawk of some sort</td>\n",
       "      <td>joy</td>\n",
       "      <td>joy</td>\n",
       "      <td>0.000221</td>\n",
       "    </tr>\n",
       "    <tr>\n",
       "      <th>1620</th>\n",
       "      <td>ill watch either the firth version or if im feeling adventurous ill watch the fictional fantasy fulfilled version of it a</td>\n",
       "      <td>joy</td>\n",
       "      <td>joy</td>\n",
       "      <td>0.000221</td>\n",
       "    </tr>\n",
       "    <tr>\n",
       "      <th>1036</th>\n",
       "      <td>i say this mostly because i wasnt feeling so well later that evening</td>\n",
       "      <td>joy</td>\n",
       "      <td>joy</td>\n",
       "      <td>0.000222</td>\n",
       "    </tr>\n",
       "    <tr>\n",
       "      <th>1100</th>\n",
       "      <td>i almost feel as if i am paving the way to the more pleasant memory that prabhupada saved me and that my life now is real</td>\n",
       "      <td>joy</td>\n",
       "      <td>joy</td>\n",
       "      <td>0.000222</td>\n",
       "    </tr>\n",
       "    <tr>\n",
       "      <th>1732</th>\n",
       "      <td>i am feeling really adventurous</td>\n",
       "      <td>joy</td>\n",
       "      <td>joy</td>\n",
       "      <td>0.000222</td>\n",
       "    </tr>\n",
       "    <tr>\n",
       "      <th>1560</th>\n",
       "      <td>im feeling pretty pleased with myself</td>\n",
       "      <td>joy</td>\n",
       "      <td>joy</td>\n",
       "      <td>0.000222</td>\n",
       "    </tr>\n",
       "    <tr>\n",
       "      <th>709</th>\n",
       "      <td>i feel curiously invigorated</td>\n",
       "      <td>joy</td>\n",
       "      <td>joy</td>\n",
       "      <td>0.000222</td>\n",
       "    </tr>\n",
       "    <tr>\n",
       "      <th>964</th>\n",
       "      <td>i am now feeling much more relaxed and settled in my life and am enjoying blogging just as much as i did when i first started</td>\n",
       "      <td>joy</td>\n",
       "      <td>joy</td>\n",
       "      <td>0.000223</td>\n",
       "    </tr>\n",
       "    <tr>\n",
       "      <th>941</th>\n",
       "      <td>i expected but it did feel hopeful and it definitely shed new light on her family</td>\n",
       "      <td>joy</td>\n",
       "      <td>joy</td>\n",
       "      <td>0.000223</td>\n",
       "    </tr>\n",
       "    <tr>\n",
       "      <th>474</th>\n",
       "      <td>i needed to relax b i didnt really feel like being productive and c the weather was not</td>\n",
       "      <td>joy</td>\n",
       "      <td>joy</td>\n",
       "      <td>0.000223</td>\n",
       "    </tr>\n",
       "    <tr>\n",
       "      <th>1340</th>\n",
       "      <td>i just didn t feel thrilled by the whole experience</td>\n",
       "      <td>joy</td>\n",
       "      <td>joy</td>\n",
       "      <td>0.000223</td>\n",
       "    </tr>\n",
       "    <tr>\n",
       "      <th>272</th>\n",
       "      <td>i know sweetie turning in a month but you re still years old it s hard to comprehend what s going on except that the feeling isn t pleasant</td>\n",
       "      <td>joy</td>\n",
       "      <td>joy</td>\n",
       "      <td>0.000223</td>\n",
       "    </tr>\n",
       "    <tr>\n",
       "      <th>1062</th>\n",
       "      <td>i feel successful in balancing my paid work and family life or i am satisfied with the balance i have achieved between my work and life on a scale of to</td>\n",
       "      <td>joy</td>\n",
       "      <td>joy</td>\n",
       "      <td>0.000223</td>\n",
       "    </tr>\n",
       "    <tr>\n",
       "      <th>761</th>\n",
       "      <td>i feel like im smart now</td>\n",
       "      <td>joy</td>\n",
       "      <td>joy</td>\n",
       "      <td>0.000223</td>\n",
       "    </tr>\n",
       "    <tr>\n",
       "      <th>628</th>\n",
       "      <td>i probably know where im going like i know the back of my hand i still feel thrilled because i know every trip would reveal something new to me</td>\n",
       "      <td>joy</td>\n",
       "      <td>joy</td>\n",
       "      <td>0.000223</td>\n",
       "    </tr>\n",
       "    <tr>\n",
       "      <th>1101</th>\n",
       "      <td>im feeling good i increase</td>\n",
       "      <td>joy</td>\n",
       "      <td>joy</td>\n",
       "      <td>0.000224</td>\n",
       "    </tr>\n",
       "    <tr>\n",
       "      <th>1081</th>\n",
       "      <td>i am beginning to feel like a fabulous adult</td>\n",
       "      <td>joy</td>\n",
       "      <td>joy</td>\n",
       "      <td>0.000224</td>\n",
       "    </tr>\n",
       "    <tr>\n",
       "      <th>1078</th>\n",
       "      <td>i have angel alone and although i feel a little more relaxed i know im still stressing majorly about travelling tomorrow and all of the things we need to do before tomorrow</td>\n",
       "      <td>joy</td>\n",
       "      <td>joy</td>\n",
       "      <td>0.000224</td>\n",
       "    </tr>\n",
       "    <tr>\n",
       "      <th>1254</th>\n",
       "      <td>im fighting some sniffles that developed last night wasnt feeling the most energetic this morning</td>\n",
       "      <td>joy</td>\n",
       "      <td>joy</td>\n",
       "      <td>0.000224</td>\n",
       "    </tr>\n",
       "    <tr>\n",
       "      <th>238</th>\n",
       "      <td>i came home with these bits and bobs feeling very pleased with myself and ready for some sunny british weather</td>\n",
       "      <td>joy</td>\n",
       "      <td>joy</td>\n",
       "      <td>0.000224</td>\n",
       "    </tr>\n",
       "    <tr>\n",
       "      <th>424</th>\n",
       "      <td>i believe everyone can feel energetic after listening</td>\n",
       "      <td>joy</td>\n",
       "      <td>joy</td>\n",
       "      <td>0.000224</td>\n",
       "    </tr>\n",
       "    <tr>\n",
       "      <th>1999</th>\n",
       "      <td>i feel like i just wanna buy any cute make up i see online or even the one</td>\n",
       "      <td>joy</td>\n",
       "      <td>joy</td>\n",
       "      <td>0.000224</td>\n",
       "    </tr>\n",
       "    <tr>\n",
       "      <th>1157</th>\n",
       "      <td>i was able to feel pretty</td>\n",
       "      <td>joy</td>\n",
       "      <td>joy</td>\n",
       "      <td>0.000225</td>\n",
       "    </tr>\n",
       "    <tr>\n",
       "      <th>432</th>\n",
       "      <td>i wasnt feeling well so we had to cancel our plans to join a larger family gathering</td>\n",
       "      <td>joy</td>\n",
       "      <td>joy</td>\n",
       "      <td>0.000225</td>\n",
       "    </tr>\n",
       "    <tr>\n",
       "      <th>1066</th>\n",
       "      <td>im feeling less adventurous</td>\n",
       "      <td>joy</td>\n",
       "      <td>joy</td>\n",
       "      <td>0.000225</td>\n",
       "    </tr>\n",
       "    <tr>\n",
       "      <th>611</th>\n",
       "      <td>i woke up this morning feeling hopeful and energetic</td>\n",
       "      <td>joy</td>\n",
       "      <td>joy</td>\n",
       "      <td>0.000225</td>\n",
       "    </tr>\n",
       "    <tr>\n",
       "      <th>604</th>\n",
       "      <td>i don t like to use the h word recklessly but i would admit to feeling jolly these days and i have a reason alfie is now the fourth most popular name in the uk well england and wales</td>\n",
       "      <td>joy</td>\n",
       "      <td>joy</td>\n",
       "      <td>0.000225</td>\n",
       "    </tr>\n",
       "    <tr>\n",
       "      <th>435</th>\n",
       "      <td>i sure feel triumphant lately</td>\n",
       "      <td>joy</td>\n",
       "      <td>joy</td>\n",
       "      <td>0.000225</td>\n",
       "    </tr>\n",
       "    <tr>\n",
       "      <th>317</th>\n",
       "      <td>i also loved bruise brothers it was so much fun playing alongside so many brilliant skaters and feeling useful on track</td>\n",
       "      <td>joy</td>\n",
       "      <td>joy</td>\n",
       "      <td>0.000226</td>\n",
       "    </tr>\n",
       "    <tr>\n",
       "      <th>1505</th>\n",
       "      <td>im feeling hopeful about a great deal of things which is a good thing</td>\n",
       "      <td>joy</td>\n",
       "      <td>joy</td>\n",
       "      <td>0.000226</td>\n",
       "    </tr>\n",
       "    <tr>\n",
       "      <th>451</th>\n",
       "      <td>i feel unusually mellow not having to worry about any of the aforementioned things not having to rely on tylenol pm or nyquil to lull me to sleep</td>\n",
       "      <td>joy</td>\n",
       "      <td>joy</td>\n",
       "      <td>0.000226</td>\n",
       "    </tr>\n",
       "    <tr>\n",
       "      <th>829</th>\n",
       "      <td>i really want to be a better person and i finally feel confident enough in myself to take the next step and create the building blocks of a new successful life</td>\n",
       "      <td>joy</td>\n",
       "      <td>joy</td>\n",
       "      <td>0.000226</td>\n",
       "    </tr>\n",
       "    <tr>\n",
       "      <th>1607</th>\n",
       "      <td>i feel incredibly mellow and spacey</td>\n",
       "      <td>joy</td>\n",
       "      <td>joy</td>\n",
       "      <td>0.000226</td>\n",
       "    </tr>\n",
       "    <tr>\n",
       "      <th>1353</th>\n",
       "      <td>i feel like he is kinda cute too</td>\n",
       "      <td>joy</td>\n",
       "      <td>joy</td>\n",
       "      <td>0.000226</td>\n",
       "    </tr>\n",
       "    <tr>\n",
       "      <th>793</th>\n",
       "      <td>i feel thrilled and quite humbled i wasn t expecting anything like that and it s a funny feeling</td>\n",
       "      <td>joy</td>\n",
       "      <td>joy</td>\n",
       "      <td>0.000226</td>\n",
       "    </tr>\n",
       "    <tr>\n",
       "      <th>19</th>\n",
       "      <td>i had lunch with an old friend and it was nice but in general im not feeling energetic</td>\n",
       "      <td>joy</td>\n",
       "      <td>joy</td>\n",
       "      <td>0.000226</td>\n",
       "    </tr>\n",
       "    <tr>\n",
       "      <th>1010</th>\n",
       "      <td>i was feeling very pleased with myself for having resisted the very strong urge to buy fabric</td>\n",
       "      <td>joy</td>\n",
       "      <td>joy</td>\n",
       "      <td>0.000226</td>\n",
       "    </tr>\n",
       "    <tr>\n",
       "      <th>617</th>\n",
       "      <td>im feeling relaxed</td>\n",
       "      <td>joy</td>\n",
       "      <td>joy</td>\n",
       "      <td>0.000227</td>\n",
       "    </tr>\n",
       "    <tr>\n",
       "      <th>107</th>\n",
       "      <td>i feel the cool edge of the barrel against my head</td>\n",
       "      <td>joy</td>\n",
       "      <td>joy</td>\n",
       "      <td>0.000227</td>\n",
       "    </tr>\n",
       "    <tr>\n",
       "      <th>1624</th>\n",
       "      <td>i do what i can to still feel like a valuable member</td>\n",
       "      <td>joy</td>\n",
       "      <td>joy</td>\n",
       "      <td>0.000227</td>\n",
       "    </tr>\n",
       "    <tr>\n",
       "      <th>6</th>\n",
       "      <td>i am feeling more confident that we will be able to take care of this baby</td>\n",
       "      <td>joy</td>\n",
       "      <td>joy</td>\n",
       "      <td>0.000227</td>\n",
       "    </tr>\n",
       "    <tr>\n",
       "      <th>1425</th>\n",
       "      <td>i see you the light in the room brightens i get a glow in my eyes i feel ecstatic</td>\n",
       "      <td>joy</td>\n",
       "      <td>joy</td>\n",
       "      <td>0.000227</td>\n",
       "    </tr>\n",
       "    <tr>\n",
       "      <th>329</th>\n",
       "      <td>i have had my treasury selection on the front page a couple of times and believe me it is a real squeeee moment you feel jolly and smug and treat yourself to extra chocolate that day</td>\n",
       "      <td>joy</td>\n",
       "      <td>joy</td>\n",
       "      <td>0.000227</td>\n",
       "    </tr>\n",
       "    <tr>\n",
       "      <th>1694</th>\n",
       "      <td>i cant even believe that i have reached a half century young and feel so terrific</td>\n",
       "      <td>joy</td>\n",
       "      <td>joy</td>\n",
       "      <td>0.000227</td>\n",
       "    </tr>\n",
       "    <tr>\n",
       "      <th>1977</th>\n",
       "      <td>i anticipated feeling ecstatic jubilant over the moon wired giddy</td>\n",
       "      <td>joy</td>\n",
       "      <td>joy</td>\n",
       "      <td>0.000227</td>\n",
       "    </tr>\n",
       "    <tr>\n",
       "      <th>1472</th>\n",
       "      <td>im not sure how much each diploma will cost or if its even recognized in this country but its something to make me feel productive and add to my resume when the babys old enough to allow me to go back to work</td>\n",
       "      <td>joy</td>\n",
       "      <td>joy</td>\n",
       "      <td>0.000227</td>\n",
       "    </tr>\n",
       "    <tr>\n",
       "      <th>1577</th>\n",
       "      <td>i told my dad i would make him a wall hanging for christmas so now i feel a bit more confident with making these stars to head into that project</td>\n",
       "      <td>joy</td>\n",
       "      <td>joy</td>\n",
       "      <td>0.000227</td>\n",
       "    </tr>\n",
       "    <tr>\n",
       "      <th>1265</th>\n",
       "      <td>im feeling more hopeful today than i did yesterday</td>\n",
       "      <td>joy</td>\n",
       "      <td>joy</td>\n",
       "      <td>0.000227</td>\n",
       "    </tr>\n",
       "    <tr>\n",
       "      <th>494</th>\n",
       "      <td>i feel freaking fantastic this morning</td>\n",
       "      <td>joy</td>\n",
       "      <td>joy</td>\n",
       "      <td>0.000228</td>\n",
       "    </tr>\n",
       "    <tr>\n",
       "      <th>362</th>\n",
       "      <td>i don t always feel quite as graceful but that s a story for another time</td>\n",
       "      <td>joy</td>\n",
       "      <td>joy</td>\n",
       "      <td>0.000228</td>\n",
       "    </tr>\n",
       "    <tr>\n",
       "      <th>1986</th>\n",
       "      <td>i had been feeling fabulous and full of energy but easter weekend wiped me out and i havent been able to recover</td>\n",
       "      <td>joy</td>\n",
       "      <td>joy</td>\n",
       "      <td>0.000228</td>\n",
       "    </tr>\n",
       "    <tr>\n",
       "      <th>1028</th>\n",
       "      <td>im now winded at the end of a tough rally but during the rally i feel good enough to stay in the point</td>\n",
       "      <td>joy</td>\n",
       "      <td>joy</td>\n",
       "      <td>0.000228</td>\n",
       "    </tr>\n",
       "    <tr>\n",
       "      <th>52</th>\n",
       "      <td>i love this song and it always makes me feel happy</td>\n",
       "      <td>joy</td>\n",
       "      <td>joy</td>\n",
       "      <td>0.000228</td>\n",
       "    </tr>\n",
       "    <tr>\n",
       "      <th>1546</th>\n",
       "      <td>i think for once i feel quite content at the moment and free of worry</td>\n",
       "      <td>joy</td>\n",
       "      <td>joy</td>\n",
       "      <td>0.000228</td>\n",
       "    </tr>\n",
       "    <tr>\n",
       "      <th>1226</th>\n",
       "      <td>im feeling terrific and in great shape im optimistic that ill heal well and quickly while remaining realistic that im going to feel fairly crap for the first week</td>\n",
       "      <td>joy</td>\n",
       "      <td>joy</td>\n",
       "      <td>0.000228</td>\n",
       "    </tr>\n",
       "    <tr>\n",
       "      <th>1618</th>\n",
       "      <td>i had a good feeling about the presentation and the reactions from the audience were fine</td>\n",
       "      <td>joy</td>\n",
       "      <td>joy</td>\n",
       "      <td>0.000228</td>\n",
       "    </tr>\n",
       "    <tr>\n",
       "      <th>1622</th>\n",
       "      <td>i feel that it was a good investment to make this building into a restaurant</td>\n",
       "      <td>joy</td>\n",
       "      <td>joy</td>\n",
       "      <td>0.000228</td>\n",
       "    </tr>\n",
       "    <tr>\n",
       "      <th>205</th>\n",
       "      <td>i cannot wait for school to end so i can change into a tank top and shorts and head to the gym and then to release my toxins and stretch and realize that homework is important but feeling good is even better</td>\n",
       "      <td>joy</td>\n",
       "      <td>joy</td>\n",
       "      <td>0.000229</td>\n",
       "    </tr>\n",
       "    <tr>\n",
       "      <th>286</th>\n",
       "      <td>i have to say i really feel a little useful for the progress of the second half the replacement of the shirt plus the coach s hairdryer</td>\n",
       "      <td>joy</td>\n",
       "      <td>joy</td>\n",
       "      <td>0.000229</td>\n",
       "    </tr>\n",
       "    <tr>\n",
       "      <th>458</th>\n",
       "      <td>i am feeling so proud</td>\n",
       "      <td>joy</td>\n",
       "      <td>joy</td>\n",
       "      <td>0.000229</td>\n",
       "    </tr>\n",
       "    <tr>\n",
       "      <th>1357</th>\n",
       "      <td>i got everything squared away and was feeling fairly productive already</td>\n",
       "      <td>joy</td>\n",
       "      <td>joy</td>\n",
       "      <td>0.000229</td>\n",
       "    </tr>\n",
       "    <tr>\n",
       "      <th>1771</th>\n",
       "      <td>i woke up feeling artistic ish</td>\n",
       "      <td>joy</td>\n",
       "      <td>joy</td>\n",
       "      <td>0.000229</td>\n",
       "    </tr>\n",
       "    <tr>\n",
       "      <th>420</th>\n",
       "      <td>im not feeling very graceful today</td>\n",
       "      <td>joy</td>\n",
       "      <td>joy</td>\n",
       "      <td>0.000229</td>\n",
       "    </tr>\n",
       "    <tr>\n",
       "      <th>255</th>\n",
       "      <td>ive been sitting in my wheel chair to move laundry and while the chair isnt terribly maneuverable due to the confines of the small laundry area at least it feels fairly safe even it it is still quite a struggle</td>\n",
       "      <td>joy</td>\n",
       "      <td>joy</td>\n",
       "      <td>0.000229</td>\n",
       "    </tr>\n",
       "    <tr>\n",
       "      <th>811</th>\n",
       "      <td>i had tuition the next day because i wasnt feeling well n i felt so damned sleepy</td>\n",
       "      <td>joy</td>\n",
       "      <td>joy</td>\n",
       "      <td>0.000230</td>\n",
       "    </tr>\n",
       "    <tr>\n",
       "      <th>1365</th>\n",
       "      <td>i am feeling pretty confident that on monday i will get up and slip in to the water at masters swim and enjoy my time with everyone there</td>\n",
       "      <td>joy</td>\n",
       "      <td>joy</td>\n",
       "      <td>0.000230</td>\n",
       "    </tr>\n",
       "    <tr>\n",
       "      <th>337</th>\n",
       "      <td>im praying you didnt feel a thing and it was peaceful for you</td>\n",
       "      <td>joy</td>\n",
       "      <td>joy</td>\n",
       "      <td>0.000231</td>\n",
       "    </tr>\n",
       "    <tr>\n",
       "      <th>942</th>\n",
       "      <td>i can offer is that i felt like reggie must feel a kind of carefree power except unlike her expansive drive it didn t last more than a second</td>\n",
       "      <td>joy</td>\n",
       "      <td>joy</td>\n",
       "      <td>0.000231</td>\n",
       "    </tr>\n",
       "    <tr>\n",
       "      <th>1133</th>\n",
       "      <td>ive begun my fall semester and i feel thrilled</td>\n",
       "      <td>joy</td>\n",
       "      <td>joy</td>\n",
       "      <td>0.000231</td>\n",
       "    </tr>\n",
       "    <tr>\n",
       "      <th>840</th>\n",
       "      <td>i feel as if i am naturally talented in though i know each one needs improving</td>\n",
       "      <td>joy</td>\n",
       "      <td>joy</td>\n",
       "      <td>0.000231</td>\n",
       "    </tr>\n",
       "    <tr>\n",
       "      <th>383</th>\n",
       "      <td>i still cannot find the damned tin certificate but i feeling mellow i clean up cart out two salt bags full of junk to the rubbish bin</td>\n",
       "      <td>joy</td>\n",
       "      <td>joy</td>\n",
       "      <td>0.000231</td>\n",
       "    </tr>\n",
       "    <tr>\n",
       "      <th>530</th>\n",
       "      <td>i feel pretty safe but i do realize that we do have outside influences coming to our campus but i havent seen any real law enforcements come down either</td>\n",
       "      <td>joy</td>\n",
       "      <td>joy</td>\n",
       "      <td>0.000231</td>\n",
       "    </tr>\n",
       "    <tr>\n",
       "      <th>722</th>\n",
       "      <td>i am feeling so comfortable and so happy he says</td>\n",
       "      <td>joy</td>\n",
       "      <td>joy</td>\n",
       "      <td>0.000231</td>\n",
       "    </tr>\n",
       "    <tr>\n",
       "      <th>275</th>\n",
       "      <td>i feel pretty confident in saying this</td>\n",
       "      <td>joy</td>\n",
       "      <td>joy</td>\n",
       "      <td>0.000231</td>\n",
       "    </tr>\n",
       "    <tr>\n",
       "      <th>247</th>\n",
       "      <td>i have had a seizure i am not allowed to take part even though i feel fine</td>\n",
       "      <td>joy</td>\n",
       "      <td>joy</td>\n",
       "      <td>0.000232</td>\n",
       "    </tr>\n",
       "    <tr>\n",
       "      <th>683</th>\n",
       "      <td>i am doing this namely for myself but i feel that anything i write might be useful to someone else</td>\n",
       "      <td>joy</td>\n",
       "      <td>joy</td>\n",
       "      <td>0.000232</td>\n",
       "    </tr>\n",
       "    <tr>\n",
       "      <th>1448</th>\n",
       "      <td>i suppose i ended up feeling that some of these clues were a bit too clever for their own good</td>\n",
       "      <td>joy</td>\n",
       "      <td>joy</td>\n",
       "      <td>0.000232</td>\n",
       "    </tr>\n",
       "    <tr>\n",
       "      <th>1921</th>\n",
       "      <td>i feel the need to write i always want to write in a clever way</td>\n",
       "      <td>joy</td>\n",
       "      <td>joy</td>\n",
       "      <td>0.000232</td>\n",
       "    </tr>\n",
       "    <tr>\n",
       "      <th>1063</th>\n",
       "      <td>i was feeling fine</td>\n",
       "      <td>joy</td>\n",
       "      <td>joy</td>\n",
       "      <td>0.000232</td>\n",
       "    </tr>\n",
       "    <tr>\n",
       "      <th>857</th>\n",
       "      <td>i kava and vanuatu kava he described a time to me when he had had bowls of kava and was feeling very relaxed the kava was definitely speaking to him</td>\n",
       "      <td>joy</td>\n",
       "      <td>joy</td>\n",
       "      <td>0.000232</td>\n",
       "    </tr>\n",
       "    <tr>\n",
       "      <th>934</th>\n",
       "      <td>i feel a positive responsibility to see this through to reward our efforts and to make sure were all proud of the end result</td>\n",
       "      <td>joy</td>\n",
       "      <td>joy</td>\n",
       "      <td>0.000232</td>\n",
       "    </tr>\n",
       "    <tr>\n",
       "      <th>422</th>\n",
       "      <td>i am right now made me feel special</td>\n",
       "      <td>joy</td>\n",
       "      <td>joy</td>\n",
       "      <td>0.000232</td>\n",
       "    </tr>\n",
       "    <tr>\n",
       "      <th>1568</th>\n",
       "      <td>im feeling confident that im back on form</td>\n",
       "      <td>joy</td>\n",
       "      <td>joy</td>\n",
       "      <td>0.000232</td>\n",
       "    </tr>\n",
       "    <tr>\n",
       "      <th>742</th>\n",
       "      <td>i do have some pictures in my head of stuff i d like to sew when i get a chance if i m feeling brave i will blog about these projects if for no other reason to make others feel better about themselves</td>\n",
       "      <td>joy</td>\n",
       "      <td>joy</td>\n",
       "      <td>0.000233</td>\n",
       "    </tr>\n",
       "    <tr>\n",
       "      <th>1547</th>\n",
       "      <td>i am writing this on a sunday evening feeling considerably more relaxed well sort of than i did this time last sunday and also at the end of what has been a long stressful but ultimately rewarding week</td>\n",
       "      <td>joy</td>\n",
       "      <td>joy</td>\n",
       "      <td>0.000233</td>\n",
       "    </tr>\n",
       "    <tr>\n",
       "      <th>274</th>\n",
       "      <td>i thought it would be fun and therapeutic and that i would feel useful and helpful by keeping up her blog</td>\n",
       "      <td>joy</td>\n",
       "      <td>joy</td>\n",
       "      <td>0.000233</td>\n",
       "    </tr>\n",
       "    <tr>\n",
       "      <th>925</th>\n",
       "      <td>i am feeling triumphant i bang my helmet hard into a beam that they all pass easily under</td>\n",
       "      <td>joy</td>\n",
       "      <td>joy</td>\n",
       "      <td>0.000233</td>\n",
       "    </tr>\n",
       "    <tr>\n",
       "      <th>1780</th>\n",
       "      <td>ive explained that he is very creative and loves to makes things and i feel that he is very smart and intelligent and he is lacking in some areas that i agree with</td>\n",
       "      <td>joy</td>\n",
       "      <td>joy</td>\n",
       "      <td>0.000233</td>\n",
       "    </tr>\n",
       "    <tr>\n",
       "      <th>222</th>\n",
       "      <td>i am at day and i am feeling terrific</td>\n",
       "      <td>joy</td>\n",
       "      <td>joy</td>\n",
       "      <td>0.000233</td>\n",
       "    </tr>\n",
       "    <tr>\n",
       "      <th>1139</th>\n",
       "      <td>im back and feeling creative</td>\n",
       "      <td>joy</td>\n",
       "      <td>joy</td>\n",
       "      <td>0.000233</td>\n",
       "    </tr>\n",
       "    <tr>\n",
       "      <th>1829</th>\n",
       "      <td>i do connect with a family and feel my work is valuable</td>\n",
       "      <td>joy</td>\n",
       "      <td>joy</td>\n",
       "      <td>0.000233</td>\n",
       "    </tr>\n",
       "    <tr>\n",
       "      <th>491</th>\n",
       "      <td>i feel like it is a valuable addition to any teachers repertoire</td>\n",
       "      <td>joy</td>\n",
       "      <td>joy</td>\n",
       "      <td>0.000234</td>\n",
       "    </tr>\n",
       "    <tr>\n",
       "      <th>701</th>\n",
       "      <td>i left feeling entertained but empty</td>\n",
       "      <td>joy</td>\n",
       "      <td>joy</td>\n",
       "      <td>0.000234</td>\n",
       "    </tr>\n",
       "    <tr>\n",
       "      <th>63</th>\n",
       "      <td>i feel perfect with you on facebook href http www</td>\n",
       "      <td>joy</td>\n",
       "      <td>joy</td>\n",
       "      <td>0.000234</td>\n",
       "    </tr>\n",
       "    <tr>\n",
       "      <th>190</th>\n",
       "      <td>i feel lucky really</td>\n",
       "      <td>joy</td>\n",
       "      <td>joy</td>\n",
       "      <td>0.000234</td>\n",
       "    </tr>\n",
       "    <tr>\n",
       "      <th>606</th>\n",
       "      <td>i can barely speak at all even though i feel just fine</td>\n",
       "      <td>joy</td>\n",
       "      <td>joy</td>\n",
       "      <td>0.000234</td>\n",
       "    </tr>\n",
       "    <tr>\n",
       "      <th>1475</th>\n",
       "      <td>im feeling happy sad or angry</td>\n",
       "      <td>joy</td>\n",
       "      <td>joy</td>\n",
       "      <td>0.000234</td>\n",
       "    </tr>\n",
       "    <tr>\n",
       "      <th>1831</th>\n",
       "      <td>i zapper controls seemed to feel the most user friendly and you could easily access everything with them</td>\n",
       "      <td>joy</td>\n",
       "      <td>joy</td>\n",
       "      <td>0.000234</td>\n",
       "    </tr>\n",
       "    <tr>\n",
       "      <th>1873</th>\n",
       "      <td>i feel practically virtuous this month i have not exceeded my target of only buying things</td>\n",
       "      <td>joy</td>\n",
       "      <td>joy</td>\n",
       "      <td>0.000234</td>\n",
       "    </tr>\n",
       "    <tr>\n",
       "      <th>1090</th>\n",
       "      <td>i dont know what it is about me and sweets they make me feel bouncy and pleased with everything</td>\n",
       "      <td>joy</td>\n",
       "      <td>joy</td>\n",
       "      <td>0.000234</td>\n",
       "    </tr>\n",
       "    <tr>\n",
       "      <th>1971</th>\n",
       "      <td>i feel confident that it wasn t my company that was bothering him</td>\n",
       "      <td>joy</td>\n",
       "      <td>joy</td>\n",
       "      <td>0.000234</td>\n",
       "    </tr>\n",
       "    <tr>\n",
       "      <th>1636</th>\n",
       "      <td>i feel so lucky that my mom is alive and i get to talk to her daily and</td>\n",
       "      <td>joy</td>\n",
       "      <td>joy</td>\n",
       "      <td>0.000234</td>\n",
       "    </tr>\n",
       "    <tr>\n",
       "      <th>762</th>\n",
       "      <td>im feeling confident about it</td>\n",
       "      <td>joy</td>\n",
       "      <td>joy</td>\n",
       "      <td>0.000234</td>\n",
       "    </tr>\n",
       "    <tr>\n",
       "      <th>1862</th>\n",
       "      <td>i feel most productive when i feel like i m building something even if it s something no one wants or will use or read</td>\n",
       "      <td>joy</td>\n",
       "      <td>joy</td>\n",
       "      <td>0.000235</td>\n",
       "    </tr>\n",
       "    <tr>\n",
       "      <th>546</th>\n",
       "      <td>i just cant stand that thick dragging feeling of oil paints so im glad i had the underlying texture on the wood to give the painting some extra interest</td>\n",
       "      <td>joy</td>\n",
       "      <td>joy</td>\n",
       "      <td>0.000235</td>\n",
       "    </tr>\n",
       "    <tr>\n",
       "      <th>845</th>\n",
       "      <td>i already feel very glamorous have a great day everybody</td>\n",
       "      <td>joy</td>\n",
       "      <td>joy</td>\n",
       "      <td>0.000235</td>\n",
       "    </tr>\n",
       "    <tr>\n",
       "      <th>1638</th>\n",
       "      <td>i feel like if you shop smart you can still add a few things here and there to your wardrobe without breaking the bank</td>\n",
       "      <td>joy</td>\n",
       "      <td>joy</td>\n",
       "      <td>0.000235</td>\n",
       "    </tr>\n",
       "    <tr>\n",
       "      <th>1880</th>\n",
       "      <td>i feel confident that you and i have something solid</td>\n",
       "      <td>joy</td>\n",
       "      <td>joy</td>\n",
       "      <td>0.000236</td>\n",
       "    </tr>\n",
       "    <tr>\n",
       "      <th>651</th>\n",
       "      <td>i am feeling fine i guess</td>\n",
       "      <td>joy</td>\n",
       "      <td>joy</td>\n",
       "      <td>0.000236</td>\n",
       "    </tr>\n",
       "    <tr>\n",
       "      <th>1446</th>\n",
       "      <td>i feel thankful to be strong enough and courageous enough to have taken the steps to change my life</td>\n",
       "      <td>joy</td>\n",
       "      <td>joy</td>\n",
       "      <td>0.000236</td>\n",
       "    </tr>\n",
       "    <tr>\n",
       "      <th>839</th>\n",
       "      <td>i feel very excited about the future of gaming right now</td>\n",
       "      <td>joy</td>\n",
       "      <td>joy</td>\n",
       "      <td>0.000236</td>\n",
       "    </tr>\n",
       "    <tr>\n",
       "      <th>702</th>\n",
       "      <td>i only find out that they are looking and feeling complacent just before a match started and i have no other way to find out except through the assistant manager</td>\n",
       "      <td>joy</td>\n",
       "      <td>joy</td>\n",
       "      <td>0.000236</td>\n",
       "    </tr>\n",
       "    <tr>\n",
       "      <th>564</th>\n",
       "      <td>i feel like i m just a good actress then maybe</td>\n",
       "      <td>joy</td>\n",
       "      <td>joy</td>\n",
       "      <td>0.000236</td>\n",
       "    </tr>\n",
       "    <tr>\n",
       "      <th>1659</th>\n",
       "      <td>i feel as if is useful</td>\n",
       "      <td>joy</td>\n",
       "      <td>joy</td>\n",
       "      <td>0.000236</td>\n",
       "    </tr>\n",
       "    <tr>\n",
       "      <th>1513</th>\n",
       "      <td>i have also been getting back into my gym routine so im feeling positive about this now</td>\n",
       "      <td>joy</td>\n",
       "      <td>joy</td>\n",
       "      <td>0.000236</td>\n",
       "    </tr>\n",
       "    <tr>\n",
       "      <th>833</th>\n",
       "      <td>im feeling quite festive</td>\n",
       "      <td>joy</td>\n",
       "      <td>joy</td>\n",
       "      <td>0.000236</td>\n",
       "    </tr>\n",
       "    <tr>\n",
       "      <th>518</th>\n",
       "      <td>im starting to feel a little more energetic when the boys dont wear me out that is</td>\n",
       "      <td>joy</td>\n",
       "      <td>joy</td>\n",
       "      <td>0.000236</td>\n",
       "    </tr>\n",
       "    <tr>\n",
       "      <th>927</th>\n",
       "      <td>i feel thrilled when one of the students signs up on facebook and manages to locate me when it was just a few months ago we started computer lessons at the school</td>\n",
       "      <td>joy</td>\n",
       "      <td>joy</td>\n",
       "      <td>0.000236</td>\n",
       "    </tr>\n",
       "    <tr>\n",
       "      <th>418</th>\n",
       "      <td>i love being swung around the dance floor with him leading making me feel graceful</td>\n",
       "      <td>joy</td>\n",
       "      <td>joy</td>\n",
       "      <td>0.000236</td>\n",
       "    </tr>\n",
       "    <tr>\n",
       "      <th>1480</th>\n",
       "      <td>i feel mellow antonios</td>\n",
       "      <td>joy</td>\n",
       "      <td>joy</td>\n",
       "      <td>0.000237</td>\n",
       "    </tr>\n",
       "    <tr>\n",
       "      <th>609</th>\n",
       "      <td>i was feeling festive yesterday</td>\n",
       "      <td>joy</td>\n",
       "      <td>joy</td>\n",
       "      <td>0.000237</td>\n",
       "    </tr>\n",
       "    <tr>\n",
       "      <th>1286</th>\n",
       "      <td>i feel strong for a few reasons</td>\n",
       "      <td>joy</td>\n",
       "      <td>joy</td>\n",
       "      <td>0.000237</td>\n",
       "    </tr>\n",
       "    <tr>\n",
       "      <th>983</th>\n",
       "      <td>im not feeling quite as jolly though</td>\n",
       "      <td>joy</td>\n",
       "      <td>joy</td>\n",
       "      <td>0.000237</td>\n",
       "    </tr>\n",
       "    <tr>\n",
       "      <th>1191</th>\n",
       "      <td>i feel satisfied with one viewing for the moment</td>\n",
       "      <td>joy</td>\n",
       "      <td>joy</td>\n",
       "      <td>0.000237</td>\n",
       "    </tr>\n",
       "    <tr>\n",
       "      <th>789</th>\n",
       "      <td>i feel content to just be present giving my full attention to this weather masterpiece</td>\n",
       "      <td>joy</td>\n",
       "      <td>joy</td>\n",
       "      <td>0.000237</td>\n",
       "    </tr>\n",
       "    <tr>\n",
       "      <th>268</th>\n",
       "      <td>i did though and woke up feeling terrific</td>\n",
       "      <td>joy</td>\n",
       "      <td>joy</td>\n",
       "      <td>0.000237</td>\n",
       "    </tr>\n",
       "    <tr>\n",
       "      <th>328</th>\n",
       "      <td>i feel like being sincere i am speechless lacking in my ability to combine meaningless characters into a diagram of thoughts</td>\n",
       "      <td>joy</td>\n",
       "      <td>joy</td>\n",
       "      <td>0.000237</td>\n",
       "    </tr>\n",
       "    <tr>\n",
       "      <th>676</th>\n",
       "      <td>ive been feeling pretty mellow lately aside from stressing at work from time to time but thats work for you</td>\n",
       "      <td>joy</td>\n",
       "      <td>joy</td>\n",
       "      <td>0.000237</td>\n",
       "    </tr>\n",
       "    <tr>\n",
       "      <th>1583</th>\n",
       "      <td>i am not always feeling creative</td>\n",
       "      <td>joy</td>\n",
       "      <td>joy</td>\n",
       "      <td>0.000238</td>\n",
       "    </tr>\n",
       "    <tr>\n",
       "      <th>1308</th>\n",
       "      <td>i feel there are very smart people that can count all these numbers but i am not one</td>\n",
       "      <td>joy</td>\n",
       "      <td>joy</td>\n",
       "      <td>0.000238</td>\n",
       "    </tr>\n",
       "    <tr>\n",
       "      <th>1688</th>\n",
       "      <td>i feel very very rich and fulfilled and a part of the grand scheme of the universe</td>\n",
       "      <td>joy</td>\n",
       "      <td>joy</td>\n",
       "      <td>0.000238</td>\n",
       "    </tr>\n",
       "    <tr>\n",
       "      <th>1259</th>\n",
       "      <td>i feel terrific but won t hammer it home</td>\n",
       "      <td>joy</td>\n",
       "      <td>joy</td>\n",
       "      <td>0.000238</td>\n",
       "    </tr>\n",
       "    <tr>\n",
       "      <th>1389</th>\n",
       "      <td>i feel safe around you and i never wanna lose you or let you go ever</td>\n",
       "      <td>joy</td>\n",
       "      <td>joy</td>\n",
       "      <td>0.000238</td>\n",
       "    </tr>\n",
       "    <tr>\n",
       "      <th>510</th>\n",
       "      <td>i am feeling so super accomplished ive even forgotten what i was going to post about</td>\n",
       "      <td>joy</td>\n",
       "      <td>joy</td>\n",
       "      <td>0.000238</td>\n",
       "    </tr>\n",
       "    <tr>\n",
       "      <th>7</th>\n",
       "      <td>i feel incredibly lucky just to be able to talk to her</td>\n",
       "      <td>joy</td>\n",
       "      <td>joy</td>\n",
       "      <td>0.000238</td>\n",
       "    </tr>\n",
       "    <tr>\n",
       "      <th>1369</th>\n",
       "      <td>i am feeling not so cute and my clothes are kind of snug so its time to clean up my act</td>\n",
       "      <td>joy</td>\n",
       "      <td>joy</td>\n",
       "      <td>0.000239</td>\n",
       "    </tr>\n",
       "    <tr>\n",
       "      <th>391</th>\n",
       "      <td>i am on the same exact combination i was on when i conceived tate i started feeling so hopeful this month</td>\n",
       "      <td>joy</td>\n",
       "      <td>joy</td>\n",
       "      <td>0.000239</td>\n",
       "    </tr>\n",
       "    <tr>\n",
       "      <th>505</th>\n",
       "      <td>i want so much to feel successful and not frantic that my prep time can be what takes up my own time for painting my own projects</td>\n",
       "      <td>joy</td>\n",
       "      <td>joy</td>\n",
       "      <td>0.000239</td>\n",
       "    </tr>\n",
       "  </tbody>\n",
       "</table>\n",
       "</div>"
      ],
      "text/plain": [
       "                                                                                                                                                                                                                                                        text  \\\n",
       "876                                                                                                                                                                                                                                 i feel like the cool mom   \n",
       "382                                                                                                                                                                                         i feel cool because the plane has four seats instead of only two   \n",
       "197                                                                                  i feel so cool like ice t huhwe neun gatda beoryeo priceless sesang ye ban bani namja neottaemune na ulji anha gucha hage neoreul jabgeo na mae dallil ireun jeoldae no   \n",
       "620                                                                                                      i shall move right along to the post interview portion of the day the results of which will be far more exciting and interesting to you i feel sure   \n",
       "199                                                                                                                                                                                                i feel invigorated full of energy ready for the day ahead   \n",
       "892                                                                                                                                                                                                                                        i feel kinda cool   \n",
       "1082                                                                                                                                                                                                               i feel the cool night air against my face   \n",
       "1099                                                                                                                                                        i feel invigorated when i look at this image just as i did when i looked at the other two photos   \n",
       "911                                                                                                                                                                                                                i feel in love with a cute little maltese   \n",
       "1567                                                                                                                                                                                                                        i feel wonderful shayla admitted   \n",
       "1263                                                                                                                                                                                                                      i feel this way about blake lively   \n",
       "1742                                                                                                                                                                                                            i feel peaceful and prepared to face the day   \n",
       "1198                                                                                                                                                         i feel like i should also mention that there was some content that i wasnt thrilled with either   \n",
       "1716                                                                                                                                                                 im not sure what will come of this decision but im feeling excited to participate again   \n",
       "1941        i did see a few people looking at the points and steps on the board behind me when they forget the next one which made me feel glad to have the aid in the back to prevent me from running back and forth to people who required help constantly   \n",
       "644                                                                                                                                                                           i have a feeling a forks version of that charming little tale will happen soon   \n",
       "1017                                                                                                                                                                        i will be happy when someone i know from across the internet feels happy as well   \n",
       "319                                                                                                                                                                                                                          im feeling wonderful these days   \n",
       "908                                                                                                                        i said earlier that the overall feeling is joyful happy thankful and that s spoken in just about every other post i have of mason   \n",
       "64                                                                                                                          i hope he will pull out the tissue paper himself but i feel like to him sunday will be just another day to be cute and wonderful   \n",
       "1966                                                                                                                                                                                                                           i am feeling pretty wonderful   \n",
       "557                                                                                                                                                                                                    i really do feel so peaceful right now as i type this   \n",
       "1565                                                                                                                                                  im feeling a little mellow right now i have to admit that im actually feeling pretty low key and happy   \n",
       "496                                                                                                                                                    i woke up feeling ecstatic for about seconds and then reality hit and it just made me all upset again   \n",
       "1528                                                                                                                                                                                                                    i am feeling a little happy with him   \n",
       "239                                                                                                     i feel strongly that those who finger point and wish to control other peoples lives are not feeling very peaceful and content within their own lives   \n",
       "260                                                                                                                                                                                      i am feeling so invigorated and so ready to keep pushing on to goal   \n",
       "1600                                                                      i enjoy going to churches acquired there feeling is always so peaceful and tranquil thats why ive had a wish to visit pochayiv monastery and without comments it was really worthy   \n",
       "1125                                                                                                                                                                                                                        i feel innocent on summer nights   \n",
       "193                                                                             i was feeling pretty pleased with myself with the addition of two year birds and so i decided to walk around the fire station area which has produced good birds in the past   \n",
       "835                                                                                                             i alternate between feeling perfectly happy with this plan and very sad and disappointed that we dont get to experience a real vaginal birth   \n",
       "716                                                                                                                                                                                             im feeling pretty cool calm and collected and sho nuff ready   \n",
       "1481                                                                                                                                                             i dont know why but i just cant help but feel this innocent yet awkward feeling towards her   \n",
       "1154                                                                                                                  i love feeling carefree and without all these nervous feelings shooting through my body like i just saw myself on americas most wanted   \n",
       "1199                                                                                                                                                                                         i didn t feel ecstatic after each workout or anything like that   \n",
       "737                                                                                                                                                                                                    im so grateful to feel peaceful at the end of the day   \n",
       "669                                                                                                                                                                                                  i am not feeling very joyful today its been a rough day   \n",
       "763                                                                                                                        i feel peaceful with them being where they are but miss them like crazy i get giddy from the picture texts and random phone calls   \n",
       "1402                                                                                                                                                                                                    ive had in a long time and i feel fantastic about it   \n",
       "400                                                                                                                                          i are just relaxing together and i feel ecstatic and blissfully happy because i know he loves me and i love him   \n",
       "126                                                                                                                                                              i am feeling pretty pleased with the amount of work trackchanges has allowed me to document   \n",
       "358                                                                                                                                                                                                        i am feeling wonderful filled with hope and faith   \n",
       "1012                                                                                                                           i definitely succumbed to pre holiday sales but i feel good going into the holiday season i probably shouldnt say that though   \n",
       "1657                                                                  i get up to refill my coffee and feel that pleasant and familiar ache it reminds me how much i miss the whole body conversations you can have when you re sitting on a good good horse   \n",
       "1949                                                                                                                                                                                                               im starting to feel graceful oh happiness   \n",
       "208                                                                                                                                                                          i am more well read and i feel like im becoming more intelligent and articulate   \n",
       "1385                                                                                                                                                                                                                      i am feeling pretty relaxed though   \n",
       "173                                                                                                                                                                                    i expected to feel more but nope i dont and thats a pleasant surprise   \n",
       "1702                                                                                                                             i feel like everytime i blog i am relaying a story about the wonderful food that i had to sit and admire but its a big deal   \n",
       "378                                                                                                                                                                                                                                      i feel quite clever   \n",
       "877                                                                                                                               im caught up on sleep and no longer feel like a zombie im excited to focus on being a good wife mother and homemaker again   \n",
       "1430                                                                                                                                                                    i would pick out for myself but i will give them a try when i am feeling adventurous   \n",
       "410                                                                                                                                                                            i feel like if he was innocent he wouldn t feel like he has anything to prove   \n",
       "248                                                                                                                       i firmly believe that you shouldnt have to spend a lot to look feel fantastic and i love mixing style steals with higher end items   \n",
       "1558  i was feeling very bah humbugish coming out of this year s thanksgiving weekend and was not thinking pleasant christmas thoughts about the gift giving guilt trip conspiracy run by the marketing racket the decorating and the whole thing in general   \n",
       "1020                                                                                                                                                                                 i feel that the content i have in mind isnt really that great after all   \n",
       "893                                                                                                                                                                                          im quite bored but feel intelligent for no real apparent reason   \n",
       "266                                                                                                                                                                                    i want to feel good but during that short week you don t get a chance   \n",
       "578                                                                                                                                         i got to christmas feeling positive about the future and hopeful that hospital admissions were finally behind me   \n",
       "987                                                                                                                                                                                           i somehow feel glad shes now in malacca with me my younger sis   \n",
       "1172                                                                                                                                                                                                        i feel like i dont need school to be intelligent   \n",
       "11                                                                                                                                                                     i was dribbling on mums coffee table looking out of the window and feeling very happy   \n",
       "140                                                                                                                                                                                         im feeling truly adventurous ill go for a faux hawk of some sort   \n",
       "1620                                                                                                                               ill watch either the firth version or if im feeling adventurous ill watch the fictional fantasy fulfilled version of it a   \n",
       "1036                                                                                                                                                                                    i say this mostly because i wasnt feeling so well later that evening   \n",
       "1100                                                                                                                               i almost feel as if i am paving the way to the more pleasant memory that prabhupada saved me and that my life now is real   \n",
       "1732                                                                                                                                                                                                                         i am feeling really adventurous   \n",
       "1560                                                                                                                                                                                                                   im feeling pretty pleased with myself   \n",
       "709                                                                                                                                                                                                                             i feel curiously invigorated   \n",
       "964                                                                                                                            i am now feeling much more relaxed and settled in my life and am enjoying blogging just as much as i did when i first started   \n",
       "941                                                                                                                                                                        i expected but it did feel hopeful and it definitely shed new light on her family   \n",
       "474                                                                                                                                                                  i needed to relax b i didnt really feel like being productive and c the weather was not   \n",
       "1340                                                                                                                                                                                                     i just didn t feel thrilled by the whole experience   \n",
       "272                                                                                                              i know sweetie turning in a month but you re still years old it s hard to comprehend what s going on except that the feeling isn t pleasant   \n",
       "1062                                                                                                i feel successful in balancing my paid work and family life or i am satisfied with the balance i have achieved between my work and life on a scale of to   \n",
       "761                                                                                                                                                                                                                                 i feel like im smart now   \n",
       "628                                                                                                          i probably know where im going like i know the back of my hand i still feel thrilled because i know every trip would reveal something new to me   \n",
       "1101                                                                                                                                                                                                                              im feeling good i increase   \n",
       "1081                                                                                                                                                                                                            i am beginning to feel like a fabulous adult   \n",
       "1078                                                                            i have angel alone and although i feel a little more relaxed i know im still stressing majorly about travelling tomorrow and all of the things we need to do before tomorrow   \n",
       "1254                                                                                                                                                       im fighting some sniffles that developed last night wasnt feeling the most energetic this morning   \n",
       "238                                                                                                                                           i came home with these bits and bobs feeling very pleased with myself and ready for some sunny british weather   \n",
       "424                                                                                                                                                                                                    i believe everyone can feel energetic after listening   \n",
       "1999                                                                                                                                                                              i feel like i just wanna buy any cute make up i see online or even the one   \n",
       "1157                                                                                                                                                                                                                               i was able to feel pretty   \n",
       "432                                                                                                                                                                     i wasnt feeling well so we had to cancel our plans to join a larger family gathering   \n",
       "1066                                                                                                                                                                                                                             im feeling less adventurous   \n",
       "611                                                                                                                                                                                                     i woke up this morning feeling hopeful and energetic   \n",
       "604                                                                   i don t like to use the h word recklessly but i would admit to feeling jolly these days and i have a reason alfie is now the fourth most popular name in the uk well england and wales   \n",
       "435                                                                                                                                                                                                                            i sure feel triumphant lately   \n",
       "317                                                                                                                                  i also loved bruise brothers it was so much fun playing alongside so many brilliant skaters and feeling useful on track   \n",
       "1505                                                                                                                                                                                   im feeling hopeful about a great deal of things which is a good thing   \n",
       "451                                                                                                        i feel unusually mellow not having to worry about any of the aforementioned things not having to rely on tylenol pm or nyquil to lull me to sleep   \n",
       "829                                                                                          i really want to be a better person and i finally feel confident enough in myself to take the next step and create the building blocks of a new successful life   \n",
       "1607                                                                                                                                                                                                                     i feel incredibly mellow and spacey   \n",
       "1353                                                                                                                                                                                                                        i feel like he is kinda cute too   \n",
       "793                                                                                                                                                         i feel thrilled and quite humbled i wasn t expecting anything like that and it s a funny feeling   \n",
       "19                                                                                                                                                                    i had lunch with an old friend and it was nice but in general im not feeling energetic   \n",
       "1010                                                                                                                                                           i was feeling very pleased with myself for having resisted the very strong urge to buy fabric   \n",
       "617                                                                                                                                                                                                                                       im feeling relaxed   \n",
       "107                                                                                                                                                                                                       i feel the cool edge of the barrel against my head   \n",
       "1624                                                                                                                                                                                                    i do what i can to still feel like a valuable member   \n",
       "6                                                                                                                                                                                 i am feeling more confident that we will be able to take care of this baby   \n",
       "1425                                                                                                                                                                       i see you the light in the room brightens i get a glow in my eyes i feel ecstatic   \n",
       "329                                                                   i have had my treasury selection on the front page a couple of times and believe me it is a real squeeee moment you feel jolly and smug and treat yourself to extra chocolate that day   \n",
       "1694                                                                                                                                                                       i cant even believe that i have reached a half century young and feel so terrific   \n",
       "1977                                                                                                                                                                                       i anticipated feeling ecstatic jubilant over the moon wired giddy   \n",
       "1472                                        im not sure how much each diploma will cost or if its even recognized in this country but its something to make me feel productive and add to my resume when the babys old enough to allow me to go back to work   \n",
       "1577                                                                                                        i told my dad i would make him a wall hanging for christmas so now i feel a bit more confident with making these stars to head into that project   \n",
       "1265                                                                                                                                                                                                      im feeling more hopeful today than i did yesterday   \n",
       "494                                                                                                                                                                                                                   i feel freaking fantastic this morning   \n",
       "362                                                                                                                                                                                i don t always feel quite as graceful but that s a story for another time   \n",
       "1986                                                                                                                                        i had been feeling fabulous and full of energy but easter weekend wiped me out and i havent been able to recover   \n",
       "1028                                                                                                                                                  im now winded at the end of a tough rally but during the rally i feel good enough to stay in the point   \n",
       "52                                                                                                                                                                                                        i love this song and it always makes me feel happy   \n",
       "1546                                                                                                                                                                                   i think for once i feel quite content at the moment and free of worry   \n",
       "1226                                                                                      im feeling terrific and in great shape im optimistic that ill heal well and quickly while remaining realistic that im going to feel fairly crap for the first week   \n",
       "1618                                                                                                                                                               i had a good feeling about the presentation and the reactions from the audience were fine   \n",
       "1622                                                                                                                                                                            i feel that it was a good investment to make this building into a restaurant   \n",
       "205                                          i cannot wait for school to end so i can change into a tank top and shorts and head to the gym and then to release my toxins and stretch and realize that homework is important but feeling good is even better   \n",
       "286                                                                                                                  i have to say i really feel a little useful for the progress of the second half the replacement of the shirt plus the coach s hairdryer   \n",
       "458                                                                                                                                                                                                                                    i am feeling so proud   \n",
       "1357                                                                                                                                                                                 i got everything squared away and was feeling fairly productive already   \n",
       "1771                                                                                                                                                                                                                          i woke up feeling artistic ish   \n",
       "420                                                                                                                                                                                                                       im not feeling very graceful today   \n",
       "255                                       ive been sitting in my wheel chair to move laundry and while the chair isnt terribly maneuverable due to the confines of the small laundry area at least it feels fairly safe even it it is still quite a struggle   \n",
       "811                                                                                                                                                                        i had tuition the next day because i wasnt feeling well n i felt so damned sleepy   \n",
       "1365                                                                                                               i am feeling pretty confident that on monday i will get up and slip in to the water at masters swim and enjoy my time with everyone there   \n",
       "337                                                                                                                                                                                            im praying you didnt feel a thing and it was peaceful for you   \n",
       "942                                                                                                            i can offer is that i felt like reggie must feel a kind of carefree power except unlike her expansive drive it didn t last more than a second   \n",
       "1133                                                                                                                                                                                                          ive begun my fall semester and i feel thrilled   \n",
       "840                                                                                                                                                                           i feel as if i am naturally talented in though i know each one needs improving   \n",
       "383                                                                                                                    i still cannot find the damned tin certificate but i feeling mellow i clean up cart out two salt bags full of junk to the rubbish bin   \n",
       "530                                                                                                 i feel pretty safe but i do realize that we do have outside influences coming to our campus but i havent seen any real law enforcements come down either   \n",
       "722                                                                                                                                                                                                         i am feeling so comfortable and so happy he says   \n",
       "275                                                                                                                                                                                                                   i feel pretty confident in saying this   \n",
       "247                                                                                                                                                                               i have had a seizure i am not allowed to take part even though i feel fine   \n",
       "683                                                                                                                                                       i am doing this namely for myself but i feel that anything i write might be useful to someone else   \n",
       "1448                                                                                                                                                          i suppose i ended up feeling that some of these clues were a bit too clever for their own good   \n",
       "1921                                                                                                                                                                                         i feel the need to write i always want to write in a clever way   \n",
       "1063                                                                                                                                                                                                                                      i was feeling fine   \n",
       "857                                                                                                     i kava and vanuatu kava he described a time to me when he had had bowls of kava and was feeling very relaxed the kava was definitely speaking to him   \n",
       "934                                                                                                                             i feel a positive responsibility to see this through to reward our efforts and to make sure were all proud of the end result   \n",
       "422                                                                                                                                                                                                                      i am right now made me feel special   \n",
       "1568                                                                                                                                                                                                               im feeling confident that im back on form   \n",
       "742                                                 i do have some pictures in my head of stuff i d like to sew when i get a chance if i m feeling brave i will blog about these projects if for no other reason to make others feel better about themselves   \n",
       "1547                                               i am writing this on a sunday evening feeling considerably more relaxed well sort of than i did this time last sunday and also at the end of what has been a long stressful but ultimately rewarding week   \n",
       "274                                                                                                                                                i thought it would be fun and therapeutic and that i would feel useful and helpful by keeping up her blog   \n",
       "925                                                                                                                                                                i am feeling triumphant i bang my helmet hard into a beam that they all pass easily under   \n",
       "1780                                                                                     ive explained that he is very creative and loves to makes things and i feel that he is very smart and intelligent and he is lacking in some areas that i agree with   \n",
       "222                                                                                                                                                                                                                    i am at day and i am feeling terrific   \n",
       "1139                                                                                                                                                                                                                            im back and feeling creative   \n",
       "1829                                                                                                                                                                                                 i do connect with a family and feel my work is valuable   \n",
       "491                                                                                                                                                                                         i feel like it is a valuable addition to any teachers repertoire   \n",
       "701                                                                                                                                                                                                                     i left feeling entertained but empty   \n",
       "63                                                                                                                                                                                                         i feel perfect with you on facebook href http www   \n",
       "190                                                                                                                                                                                                                                      i feel lucky really   \n",
       "606                                                                                                                                                                                                   i can barely speak at all even though i feel just fine   \n",
       "1475                                                                                                                                                                                                                           im feeling happy sad or angry   \n",
       "1831                                                                                                                                                i zapper controls seemed to feel the most user friendly and you could easily access everything with them   \n",
       "1873                                                                                                                                                              i feel practically virtuous this month i have not exceeded my target of only buying things   \n",
       "1090                                                                                                                                                         i dont know what it is about me and sweets they make me feel bouncy and pleased with everything   \n",
       "1971                                                                                                                                                                                       i feel confident that it wasn t my company that was bothering him   \n",
       "1636                                                                                                                                                                                 i feel so lucky that my mom is alive and i get to talk to her daily and   \n",
       "762                                                                                                                                                                                                                            im feeling confident about it   \n",
       "1862                                                                                                                                  i feel most productive when i feel like i m building something even if it s something no one wants or will use or read   \n",
       "546                                                                                                 i just cant stand that thick dragging feeling of oil paints so im glad i had the underlying texture on the wood to give the painting some extra interest   \n",
       "845                                                                                                                                                                                                 i already feel very glamorous have a great day everybody   \n",
       "1638                                                                                                                                  i feel like if you shop smart you can still add a few things here and there to your wardrobe without breaking the bank   \n",
       "1880                                                                                                                                                                                                    i feel confident that you and i have something solid   \n",
       "651                                                                                                                                                                                                                                i am feeling fine i guess   \n",
       "1446                                                                                                                                                     i feel thankful to be strong enough and courageous enough to have taken the steps to change my life   \n",
       "839                                                                                                                                                                                                 i feel very excited about the future of gaming right now   \n",
       "702                                                                                        i only find out that they are looking and feeling complacent just before a match started and i have no other way to find out except through the assistant manager   \n",
       "564                                                                                                                                                                                                           i feel like i m just a good actress then maybe   \n",
       "1659                                                                                                                                                                                                                                  i feel as if is useful   \n",
       "1513                                                                                                                                                                 i have also been getting back into my gym routine so im feeling positive about this now   \n",
       "833                                                                                                                                                                                                                                 im feeling quite festive   \n",
       "518                                                                                                                                                                       im starting to feel a little more energetic when the boys dont wear me out that is   \n",
       "927                                                                                       i feel thrilled when one of the students signs up on facebook and manages to locate me when it was just a few months ago we started computer lessons at the school   \n",
       "418                                                                                                                                                                       i love being swung around the dance floor with him leading making me feel graceful   \n",
       "1480                                                                                                                                                                                                                                  i feel mellow antonios   \n",
       "609                                                                                                                                                                                                                          i was feeling festive yesterday   \n",
       "1286                                                                                                                                                                                                                         i feel strong for a few reasons   \n",
       "983                                                                                                                                                                                                                     im not feeling quite as jolly though   \n",
       "1191                                                                                                                                                                                                        i feel satisfied with one viewing for the moment   \n",
       "789                                                                                                                                                                   i feel content to just be present giving my full attention to this weather masterpiece   \n",
       "268                                                                                                                                                                                                                i did though and woke up feeling terrific   \n",
       "328                                                                                                                             i feel like being sincere i am speechless lacking in my ability to combine meaningless characters into a diagram of thoughts   \n",
       "676                                                                                                                                              ive been feeling pretty mellow lately aside from stressing at work from time to time but thats work for you   \n",
       "1583                                                                                                                                                                                                                        i am not always feeling creative   \n",
       "1308                                                                                                                                                                    i feel there are very smart people that can count all these numbers but i am not one   \n",
       "1688                                                                                                                                                                      i feel very very rich and fulfilled and a part of the grand scheme of the universe   \n",
       "1259                                                                                                                                                                                                                i feel terrific but won t hammer it home   \n",
       "1389                                                                                                                                                                                    i feel safe around you and i never wanna lose you or let you go ever   \n",
       "510                                                                                                                                                                     i am feeling so super accomplished ive even forgotten what i was going to post about   \n",
       "7                                                                                                                                                                                                     i feel incredibly lucky just to be able to talk to her   \n",
       "1369                                                                                                                                                                 i am feeling not so cute and my clothes are kind of snug so its time to clean up my act   \n",
       "391                                                                                                                                                i am on the same exact combination i was on when i conceived tate i started feeling so hopeful this month   \n",
       "505                                                                                                                        i want so much to feel successful and not frantic that my prep time can be what takes up my own time for painting my own projects   \n",
       "\n",
       "     label predicted_label      loss  \n",
       "876    joy             joy  0.000197  \n",
       "382    joy             joy  0.000199  \n",
       "197    joy             joy  0.000201  \n",
       "620    joy             joy  0.000203  \n",
       "199    joy             joy  0.000204  \n",
       "892    joy             joy  0.000206  \n",
       "1082   joy             joy  0.000206  \n",
       "1099   joy             joy  0.000206  \n",
       "911    joy             joy  0.000207  \n",
       "1567   joy             joy  0.000207  \n",
       "1263   joy             joy  0.000207  \n",
       "1742   joy             joy  0.000209  \n",
       "1198   joy             joy  0.000209  \n",
       "1716   joy             joy  0.000211  \n",
       "1941   joy             joy  0.000211  \n",
       "644    joy             joy  0.000211  \n",
       "1017   joy             joy  0.000211  \n",
       "319    joy             joy  0.000211  \n",
       "908    joy             joy  0.000211  \n",
       "64     joy             joy  0.000212  \n",
       "1966   joy             joy  0.000213  \n",
       "557    joy             joy  0.000213  \n",
       "1565   joy             joy  0.000213  \n",
       "496    joy             joy  0.000214  \n",
       "1528   joy             joy  0.000214  \n",
       "239    joy             joy  0.000214  \n",
       "260    joy             joy  0.000214  \n",
       "1600   joy             joy  0.000214  \n",
       "1125   joy             joy  0.000215  \n",
       "193    joy             joy  0.000215  \n",
       "835    joy             joy  0.000215  \n",
       "716    joy             joy  0.000215  \n",
       "1481   joy             joy  0.000215  \n",
       "1154   joy             joy  0.000215  \n",
       "1199   joy             joy  0.000215  \n",
       "737    joy             joy  0.000216  \n",
       "669    joy             joy  0.000216  \n",
       "763    joy             joy  0.000216  \n",
       "1402   joy             joy  0.000216  \n",
       "400    joy             joy  0.000216  \n",
       "126    joy             joy  0.000216  \n",
       "358    joy             joy  0.000216  \n",
       "1012   joy             joy  0.000216  \n",
       "1657   joy             joy  0.000217  \n",
       "1949   joy             joy  0.000217  \n",
       "208    joy             joy  0.000218  \n",
       "1385   joy             joy  0.000218  \n",
       "173    joy             joy  0.000218  \n",
       "1702   joy             joy  0.000218  \n",
       "378    joy             joy  0.000218  \n",
       "877    joy             joy  0.000218  \n",
       "1430   joy             joy  0.000218  \n",
       "410    joy             joy  0.000218  \n",
       "248    joy             joy  0.000219  \n",
       "1558   joy             joy  0.000219  \n",
       "1020   joy             joy  0.000219  \n",
       "893    joy             joy  0.000219  \n",
       "266    joy             joy  0.000220  \n",
       "578    joy             joy  0.000220  \n",
       "987    joy             joy  0.000220  \n",
       "1172   joy             joy  0.000220  \n",
       "11     joy             joy  0.000220  \n",
       "140    joy             joy  0.000221  \n",
       "1620   joy             joy  0.000221  \n",
       "1036   joy             joy  0.000222  \n",
       "1100   joy             joy  0.000222  \n",
       "1732   joy             joy  0.000222  \n",
       "1560   joy             joy  0.000222  \n",
       "709    joy             joy  0.000222  \n",
       "964    joy             joy  0.000223  \n",
       "941    joy             joy  0.000223  \n",
       "474    joy             joy  0.000223  \n",
       "1340   joy             joy  0.000223  \n",
       "272    joy             joy  0.000223  \n",
       "1062   joy             joy  0.000223  \n",
       "761    joy             joy  0.000223  \n",
       "628    joy             joy  0.000223  \n",
       "1101   joy             joy  0.000224  \n",
       "1081   joy             joy  0.000224  \n",
       "1078   joy             joy  0.000224  \n",
       "1254   joy             joy  0.000224  \n",
       "238    joy             joy  0.000224  \n",
       "424    joy             joy  0.000224  \n",
       "1999   joy             joy  0.000224  \n",
       "1157   joy             joy  0.000225  \n",
       "432    joy             joy  0.000225  \n",
       "1066   joy             joy  0.000225  \n",
       "611    joy             joy  0.000225  \n",
       "604    joy             joy  0.000225  \n",
       "435    joy             joy  0.000225  \n",
       "317    joy             joy  0.000226  \n",
       "1505   joy             joy  0.000226  \n",
       "451    joy             joy  0.000226  \n",
       "829    joy             joy  0.000226  \n",
       "1607   joy             joy  0.000226  \n",
       "1353   joy             joy  0.000226  \n",
       "793    joy             joy  0.000226  \n",
       "19     joy             joy  0.000226  \n",
       "1010   joy             joy  0.000226  \n",
       "617    joy             joy  0.000227  \n",
       "107    joy             joy  0.000227  \n",
       "1624   joy             joy  0.000227  \n",
       "6      joy             joy  0.000227  \n",
       "1425   joy             joy  0.000227  \n",
       "329    joy             joy  0.000227  \n",
       "1694   joy             joy  0.000227  \n",
       "1977   joy             joy  0.000227  \n",
       "1472   joy             joy  0.000227  \n",
       "1577   joy             joy  0.000227  \n",
       "1265   joy             joy  0.000227  \n",
       "494    joy             joy  0.000228  \n",
       "362    joy             joy  0.000228  \n",
       "1986   joy             joy  0.000228  \n",
       "1028   joy             joy  0.000228  \n",
       "52     joy             joy  0.000228  \n",
       "1546   joy             joy  0.000228  \n",
       "1226   joy             joy  0.000228  \n",
       "1618   joy             joy  0.000228  \n",
       "1622   joy             joy  0.000228  \n",
       "205    joy             joy  0.000229  \n",
       "286    joy             joy  0.000229  \n",
       "458    joy             joy  0.000229  \n",
       "1357   joy             joy  0.000229  \n",
       "1771   joy             joy  0.000229  \n",
       "420    joy             joy  0.000229  \n",
       "255    joy             joy  0.000229  \n",
       "811    joy             joy  0.000230  \n",
       "1365   joy             joy  0.000230  \n",
       "337    joy             joy  0.000231  \n",
       "942    joy             joy  0.000231  \n",
       "1133   joy             joy  0.000231  \n",
       "840    joy             joy  0.000231  \n",
       "383    joy             joy  0.000231  \n",
       "530    joy             joy  0.000231  \n",
       "722    joy             joy  0.000231  \n",
       "275    joy             joy  0.000231  \n",
       "247    joy             joy  0.000232  \n",
       "683    joy             joy  0.000232  \n",
       "1448   joy             joy  0.000232  \n",
       "1921   joy             joy  0.000232  \n",
       "1063   joy             joy  0.000232  \n",
       "857    joy             joy  0.000232  \n",
       "934    joy             joy  0.000232  \n",
       "422    joy             joy  0.000232  \n",
       "1568   joy             joy  0.000232  \n",
       "742    joy             joy  0.000233  \n",
       "1547   joy             joy  0.000233  \n",
       "274    joy             joy  0.000233  \n",
       "925    joy             joy  0.000233  \n",
       "1780   joy             joy  0.000233  \n",
       "222    joy             joy  0.000233  \n",
       "1139   joy             joy  0.000233  \n",
       "1829   joy             joy  0.000233  \n",
       "491    joy             joy  0.000234  \n",
       "701    joy             joy  0.000234  \n",
       "63     joy             joy  0.000234  \n",
       "190    joy             joy  0.000234  \n",
       "606    joy             joy  0.000234  \n",
       "1475   joy             joy  0.000234  \n",
       "1831   joy             joy  0.000234  \n",
       "1873   joy             joy  0.000234  \n",
       "1090   joy             joy  0.000234  \n",
       "1971   joy             joy  0.000234  \n",
       "1636   joy             joy  0.000234  \n",
       "762    joy             joy  0.000234  \n",
       "1862   joy             joy  0.000235  \n",
       "546    joy             joy  0.000235  \n",
       "845    joy             joy  0.000235  \n",
       "1638   joy             joy  0.000235  \n",
       "1880   joy             joy  0.000236  \n",
       "651    joy             joy  0.000236  \n",
       "1446   joy             joy  0.000236  \n",
       "839    joy             joy  0.000236  \n",
       "702    joy             joy  0.000236  \n",
       "564    joy             joy  0.000236  \n",
       "1659   joy             joy  0.000236  \n",
       "1513   joy             joy  0.000236  \n",
       "833    joy             joy  0.000236  \n",
       "518    joy             joy  0.000236  \n",
       "927    joy             joy  0.000236  \n",
       "418    joy             joy  0.000236  \n",
       "1480   joy             joy  0.000237  \n",
       "609    joy             joy  0.000237  \n",
       "1286   joy             joy  0.000237  \n",
       "983    joy             joy  0.000237  \n",
       "1191   joy             joy  0.000237  \n",
       "789    joy             joy  0.000237  \n",
       "268    joy             joy  0.000237  \n",
       "328    joy             joy  0.000237  \n",
       "676    joy             joy  0.000237  \n",
       "1583   joy             joy  0.000238  \n",
       "1308   joy             joy  0.000238  \n",
       "1688   joy             joy  0.000238  \n",
       "1259   joy             joy  0.000238  \n",
       "1389   joy             joy  0.000238  \n",
       "510    joy             joy  0.000238  \n",
       "7      joy             joy  0.000238  \n",
       "1369   joy             joy  0.000239  \n",
       "391    joy             joy  0.000239  \n",
       "505    joy             joy  0.000239  "
      ]
     },
     "metadata": {},
     "output_type": "display_data"
    }
   ],
   "source": [
    "with pd.option_context('display.max_colwidth', None, 'display.max_rows', None):\n",
    "    display(df_test.sort_values(\"loss\", ascending=True).head(200))"
   ]
  },
  {
   "cell_type": "markdown",
   "id": "82ffd87e",
   "metadata": {},
   "source": [
    "Deep learning models are very good at finding and exploiting shortcuts to get a predicton.  Looking at the lowest losses, it seems that our model are most confident when predicting **joy**.  It's worth inveseting time into looking at the examples that the model is most confident about, so that we can be confident that the model does not improperly exploit certain features of the text. Since **joy** seems to be mislabeld a lot, it's worth doing more investigation into the data."
   ]
  },
  {
   "cell_type": "code",
   "execution_count": 482,
   "id": "e68c3d46",
   "metadata": {},
   "outputs": [
    {
     "data": {
      "text/plain": [
       "<Axes: xlabel='label'>"
      ]
     },
     "execution_count": 482,
     "metadata": {},
     "output_type": "execute_result"
    },
    {
     "data": {
      "image/png": "[encoded data removed]",
      "text/plain": [
       "<Figure size 640x480 with 1 Axes>"
      ]
     },
     "metadata": {},
     "output_type": "display_data"
    }
   ],
   "source": [
    "df_test['label'].value_counts().plot(kind=\"bar\")"
   ]
  },
  {
   "cell_type": "markdown",
   "id": "38c06c1e",
   "metadata": {},
   "source": [
    "df_test['label_prediction'].value_counts().plot(kind=\"bar\")"
   ]
  },
  {
   "cell_type": "code",
   "execution_count": null,
   "id": "58f856a5",
   "metadata": {},
   "outputs": [],
   "source": []
  }
 ],
 "metadata": {
  "kernelspec": {
   "display_name": "Python 3 (ipykernel)",
   "language": "python",
   "name": "python3"
  },
  "language_info": {
   "codemirror_mode": {
    "name": "ipython",
    "version": 3
   },
   "file_extension": ".py",
   "mimetype": "text/x-python",
   "name": "python",
   "nbconvert_exporter": "python",
   "pygments_lexer": "ipython3",
   "version": "3.11.3"
  }
 },
 "nbformat": 4,
 "nbformat_minor": 5
}
